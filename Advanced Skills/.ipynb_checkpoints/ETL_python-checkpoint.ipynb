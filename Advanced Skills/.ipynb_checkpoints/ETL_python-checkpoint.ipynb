{
 "cells": [
  {
   "cell_type": "markdown",
   "metadata": {},
   "source": [
    "# **Building a Custom ETL Tool with Python**\n",
    "\n",
    "ETL tool for integration can either be custom-coded or licensed. One of the tools for building a custom ETL tool is python. For this exercise we will be building an ETL by integrating data from multiple sources into a single data warehouse as a single source of truth. This exercise will involve extraction from range of sources including:\n",
    "\n",
    "* Databases\n",
    "* CSV files\n",
    "* JSON files\n",
    "* Excel files\n",
    "\n",
    "The first step is the extraction, where data is extracted from these sources. these extracted data are then transformed to match the target.\n",
    "\n",
    "**NOTE**: Before we begin please install `psycopg2` by running the code below\n",
    "\n"
   ]
  },
  {
   "cell_type": "code",
   "execution_count": null,
   "metadata": {},
   "outputs": [],
   "source": [
    "!pip install --upgrade psycopg2"
   ]
  },
  {
   "cell_type": "markdown",
   "metadata": {
    "colab_type": "text",
    "id": "VY2g-vAAEq__"
   },
   "source": [
    "# Section 1: **Extraction**"
   ]
  },
  {
   "cell_type": "code",
   "execution_count": 1,
   "metadata": {
    "colab": {},
    "colab_type": "code",
    "id": "XlwzLUnkAQiV"
   },
   "outputs": [],
   "source": [
    "import pandas as pd\n",
    "import numpy as np\n",
    "import psycopg2 as ps"
   ]
  },
  {
   "cell_type": "markdown",
   "metadata": {
    "colab_type": "text",
    "id": "xj-9aMUeE2SD"
   },
   "source": [
    "### **Extraction of sales table from database**\n",
    "\n",
    "Remember the Iowa Liquor Database from the first bootcamp? It is useful to keep sales in a postgres database hosted on a server because it gets updated regularly. For us to use it we need to create a connection to the database and extract the information. There are several options for connecting to the database including `SQLAlchemy`, `SQLite3`, and `psycopg2` (a postgres adapter for python). Because we know our database is managed by Postgres, we can connect using `psycopg2`."
   ]
  },
  {
   "cell_type": "code",
   "execution_count": 2,
   "metadata": {
    "colab": {},
    "colab_type": "code",
    "id": "hr5GcFt7Aaoi"
   },
   "outputs": [],
   "source": [
    "# Create a connection to the database\n",
    "\n",
    "connection = ps.connect(#dbname=\"DA Bootcamp\",\n",
    "                        database=\"iowa_liquor_sales_database\",\n",
    "                        user=\"analytics_student\",\n",
    "                        password=\"analyticsga\",\n",
    "                        host=\"analyticsga-psql.generalassemb.ly\",\n",
    "                        port=5432\n",
    "                        )"
   ]
  },
  {
   "cell_type": "code",
   "execution_count": 3,
   "metadata": {
    "colab": {},
    "colab_type": "code",
    "id": "aW_bj5qjGdAa"
   },
   "outputs": [],
   "source": [
    "# Create a cursor for selection in the database\n",
    "cur = connection.cursor()"
   ]
  },
  {
   "cell_type": "markdown",
   "metadata": {},
   "source": [
    "We can write SQL commands in Python using the `psycopg2` execute command. Try the cell below to obtain the table names"
   ]
  },
  {
   "cell_type": "code",
   "execution_count": 4,
   "metadata": {},
   "outputs": [],
   "source": [
    "query_name='''SELECT table_name\n",
    "              FROM information_schema.tables\n",
    "              WHERE table_schema='public'\n",
    "              ORDER BY table_name'''"
   ]
  },
  {
   "cell_type": "code",
   "execution_count": 5,
   "metadata": {
    "colab": {
     "base_uri": "https://localhost:8080/",
     "height": 94
    },
    "colab_type": "code",
    "id": "5gvekQ4eBfqB",
    "outputId": "1aef697f-e47b-4d1a-db82-5b2e157effc2"
   },
   "outputs": [
    {
     "name": "stdout",
     "output_type": "stream",
     "text": [
      "counties\n",
      "products\n",
      "sales\n",
      "stores\n"
     ]
    }
   ],
   "source": [
    "# Fetch the names of tables in the database.\n",
    "try:\n",
    "    cur.execute(query_name)\n",
    "except:\n",
    "    connection.rollback()\n",
    "    cur.execute(query_name)\n",
    "for table_name in cur.fetchall():\n",
    "    name = table_name[0]\n",
    "    print(name)"
   ]
  },
  {
   "cell_type": "code",
   "execution_count": 6,
   "metadata": {},
   "outputs": [],
   "source": [
    "query=\"\"\"SELECT *\n",
    "        FROM sales\n",
    "        LIMIT 100\"\"\""
   ]
  },
  {
   "cell_type": "code",
   "execution_count": 7,
   "metadata": {},
   "outputs": [
    {
     "data": {
      "text/html": [
       "<div>\n",
       "<style scoped>\n",
       "    .dataframe tbody tr th:only-of-type {\n",
       "        vertical-align: middle;\n",
       "    }\n",
       "\n",
       "    .dataframe tbody tr th {\n",
       "        vertical-align: top;\n",
       "    }\n",
       "\n",
       "    .dataframe thead th {\n",
       "        text-align: right;\n",
       "    }\n",
       "</style>\n",
       "<table border=\"1\" class=\"dataframe\">\n",
       "  <thead>\n",
       "    <tr style=\"text-align: right;\">\n",
       "      <th></th>\n",
       "      <th>date</th>\n",
       "      <th>convenience_store</th>\n",
       "      <th>store</th>\n",
       "      <th>county_number</th>\n",
       "      <th>county</th>\n",
       "      <th>category</th>\n",
       "      <th>category_name</th>\n",
       "      <th>vendor_no</th>\n",
       "      <th>vendor</th>\n",
       "      <th>item</th>\n",
       "      <th>description</th>\n",
       "      <th>pack</th>\n",
       "      <th>liter_size</th>\n",
       "      <th>state_btl_cost</th>\n",
       "      <th>btl_price</th>\n",
       "      <th>bottle_qty</th>\n",
       "      <th>total</th>\n",
       "    </tr>\n",
       "  </thead>\n",
       "  <tbody>\n",
       "    <tr>\n",
       "      <th>0</th>\n",
       "      <td>2014-11-13</td>\n",
       "      <td>None</td>\n",
       "      <td>2635</td>\n",
       "      <td>82</td>\n",
       "      <td>Scott</td>\n",
       "      <td>1032200</td>\n",
       "      <td>IMPORTED VODKA - MISC</td>\n",
       "      <td>370</td>\n",
       "      <td>Pernod Ricard USA/Austin Nichols</td>\n",
       "      <td>34036</td>\n",
       "      <td>Absolut Pears</td>\n",
       "      <td>12</td>\n",
       "      <td>750</td>\n",
       "      <td>$11.49</td>\n",
       "      <td>$17.24</td>\n",
       "      <td>4</td>\n",
       "      <td>68.96</td>\n",
       "    </tr>\n",
       "    <tr>\n",
       "      <th>1</th>\n",
       "      <td>2014-11-13</td>\n",
       "      <td>None</td>\n",
       "      <td>2635</td>\n",
       "      <td>82</td>\n",
       "      <td>Scott</td>\n",
       "      <td>1032200</td>\n",
       "      <td>IMPORTED VODKA - MISC</td>\n",
       "      <td>370</td>\n",
       "      <td>Pernod Ricard USA/Austin Nichols</td>\n",
       "      <td>34076</td>\n",
       "      <td>Absolut Vanilia</td>\n",
       "      <td>12</td>\n",
       "      <td>750</td>\n",
       "      <td>$11.49</td>\n",
       "      <td>$17.24</td>\n",
       "      <td>12</td>\n",
       "      <td>206.88</td>\n",
       "    </tr>\n",
       "    <tr>\n",
       "      <th>2</th>\n",
       "      <td>2014-11-13</td>\n",
       "      <td>None</td>\n",
       "      <td>2635</td>\n",
       "      <td>82</td>\n",
       "      <td>Scott</td>\n",
       "      <td>1032200</td>\n",
       "      <td>IMPORTED VODKA - MISC</td>\n",
       "      <td>370</td>\n",
       "      <td>Pernod Ricard USA/Austin Nichols</td>\n",
       "      <td>34116</td>\n",
       "      <td>Absolut Mandrin</td>\n",
       "      <td>12</td>\n",
       "      <td>750</td>\n",
       "      <td>$11.49</td>\n",
       "      <td>$17.24</td>\n",
       "      <td>12</td>\n",
       "      <td>206.88</td>\n",
       "    </tr>\n",
       "    <tr>\n",
       "      <th>3</th>\n",
       "      <td>2014-11-13</td>\n",
       "      <td>None</td>\n",
       "      <td>2635</td>\n",
       "      <td>82</td>\n",
       "      <td>Scott</td>\n",
       "      <td>1032080</td>\n",
       "      <td>IMPORTED VODKA</td>\n",
       "      <td>420</td>\n",
       "      <td>Moet Hennessy USA Inc.</td>\n",
       "      <td>34155</td>\n",
       "      <td>Belvedere Vodka</td>\n",
       "      <td>6</td>\n",
       "      <td>750</td>\n",
       "      <td>$17.15</td>\n",
       "      <td>$25.73</td>\n",
       "      <td>6</td>\n",
       "      <td>154.38</td>\n",
       "    </tr>\n",
       "    <tr>\n",
       "      <th>4</th>\n",
       "      <td>2014-11-13</td>\n",
       "      <td>None</td>\n",
       "      <td>2635</td>\n",
       "      <td>82</td>\n",
       "      <td>Scott</td>\n",
       "      <td>1032080</td>\n",
       "      <td>IMPORTED VODKA</td>\n",
       "      <td>260</td>\n",
       "      <td>Diageo Americas</td>\n",
       "      <td>34164</td>\n",
       "      <td>Ciroc Luxury Vodka</td>\n",
       "      <td>24</td>\n",
       "      <td>200</td>\n",
       "      <td>$5.00</td>\n",
       "      <td>$7.50</td>\n",
       "      <td>6</td>\n",
       "      <td>45.00</td>\n",
       "    </tr>\n",
       "  </tbody>\n",
       "</table>\n",
       "</div>"
      ],
      "text/plain": [
       "        date convenience_store  store county_number county category  \\\n",
       "0 2014-11-13              None   2635            82  Scott  1032200   \n",
       "1 2014-11-13              None   2635            82  Scott  1032200   \n",
       "2 2014-11-13              None   2635            82  Scott  1032200   \n",
       "3 2014-11-13              None   2635            82  Scott  1032080   \n",
       "4 2014-11-13              None   2635            82  Scott  1032080   \n",
       "\n",
       "           category_name vendor_no                            vendor   item  \\\n",
       "0  IMPORTED VODKA - MISC       370  Pernod Ricard USA/Austin Nichols  34036   \n",
       "1  IMPORTED VODKA - MISC       370  Pernod Ricard USA/Austin Nichols  34076   \n",
       "2  IMPORTED VODKA - MISC       370  Pernod Ricard USA/Austin Nichols  34116   \n",
       "3         IMPORTED VODKA       420            Moet Hennessy USA Inc.  34155   \n",
       "4         IMPORTED VODKA       260                   Diageo Americas  34164   \n",
       "\n",
       "          description  pack  liter_size state_btl_cost btl_price  bottle_qty  \\\n",
       "0       Absolut Pears    12         750         $11.49    $17.24           4   \n",
       "1     Absolut Vanilia    12         750         $11.49    $17.24          12   \n",
       "2     Absolut Mandrin    12         750         $11.49    $17.24          12   \n",
       "3     Belvedere Vodka     6         750         $17.15    $25.73           6   \n",
       "4  Ciroc Luxury Vodka    24         200          $5.00     $7.50           6   \n",
       "\n",
       "    total  \n",
       "0   68.96  \n",
       "1  206.88  \n",
       "2  206.88  \n",
       "3  154.38  \n",
       "4   45.00  "
      ]
     },
     "execution_count": 7,
     "metadata": {},
     "output_type": "execute_result"
    }
   ],
   "source": [
    "# Create the sql query of interest\n",
    "connection.rollback()\n",
    "# Read the sql query using pandas and connection established.\n",
    "sales = pd.read_sql_query(query, connection)\n",
    "sales.head()"
   ]
  },
  {
   "cell_type": "markdown",
   "metadata": {},
   "source": [
    "### Explore the sales data using pandas"
   ]
  },
  {
   "cell_type": "code",
   "execution_count": null,
   "metadata": {},
   "outputs": [],
   "source": [
    "sales.head()"
   ]
  },
  {
   "cell_type": "code",
   "execution_count": null,
   "metadata": {
    "colab": {
     "base_uri": "https://localhost:8080/",
     "height": 36
    },
    "colab_type": "code",
    "id": "zK11DRYECUhv",
    "outputId": "1e29ebf9-f083-4f46-a44c-d990ff2de42a"
   },
   "outputs": [],
   "source": [
    "sales.shape"
   ]
  },
  {
   "cell_type": "code",
   "execution_count": null,
   "metadata": {},
   "outputs": [],
   "source": [
    "sales.describe()"
   ]
  },
  {
   "cell_type": "code",
   "execution_count": null,
   "metadata": {},
   "outputs": [],
   "source": [
    "sales.dtypes"
   ]
  },
  {
   "cell_type": "markdown",
   "metadata": {},
   "source": [
    "We are now going to extract all the information from the Iowa Liquor Sales Database into this workbook"
   ]
  },
  {
   "cell_type": "markdown",
   "metadata": {
    "colab_type": "text",
    "id": "byRFv__HLqCJ"
   },
   "source": [
    "### **Extraction of PRODUCTS table from a csv file**\n",
    "\n",
    "\n",
    "Use `pd.read_csv`"
   ]
  },
  {
   "cell_type": "code",
   "execution_count": null,
   "metadata": {
    "colab": {
     "base_uri": "https://localhost:8080/",
     "height": 36
    },
    "colab_type": "code",
    "id": "e0mx9q8bLnKk",
    "outputId": "0b7c0424-2605-4de4-cf39-740bd2fe99b9"
   },
   "outputs": [],
   "source": [
    "products = pd.read_csv('Data/products.csv')"
   ]
  },
  {
   "cell_type": "markdown",
   "metadata": {},
   "source": [
    "**Explore the products data**"
   ]
  },
  {
   "cell_type": "code",
   "execution_count": null,
   "metadata": {},
   "outputs": [],
   "source": []
  },
  {
   "cell_type": "markdown",
   "metadata": {
    "colab_type": "text",
    "id": "fWcprvuzSaia"
   },
   "source": [
    "### **Extraction of STORES table from a json file**\n",
    "\n",
    "Use `pd.read_json`"
   ]
  },
  {
   "cell_type": "code",
   "execution_count": null,
   "metadata": {
    "colab": {
     "base_uri": "https://localhost:8080/",
     "height": 36
    },
    "colab_type": "code",
    "id": "n9c79hdOSmbY",
    "outputId": "d7da9c84-4822-40ab-a5f6-586565594c1a"
   },
   "outputs": [],
   "source": [
    "stores = pd.read_json('Data/stores_as_json.json')"
   ]
  },
  {
   "cell_type": "markdown",
   "metadata": {},
   "source": [
    "**Explore the stores data**"
   ]
  },
  {
   "cell_type": "code",
   "execution_count": null,
   "metadata": {},
   "outputs": [],
   "source": []
  },
  {
   "cell_type": "markdown",
   "metadata": {
    "colab_type": "text",
    "id": "hLHZWEQqTJ5g"
   },
   "source": [
    "### **Extraction of COUNTIES table from an Excel file** \n",
    "\n",
    "Use `pd.read_excel`"
   ]
  },
  {
   "cell_type": "code",
   "execution_count": null,
   "metadata": {
    "colab": {},
    "colab_type": "code",
    "id": "kX_9PFK5TRiS"
   },
   "outputs": [],
   "source": [
    "counties = pd.read_excel('Data/counties_2.xlsx')"
   ]
  },
  {
   "cell_type": "markdown",
   "metadata": {
    "colab": {
     "base_uri": "https://localhost:8080/",
     "height": 36
    },
    "colab_type": "code",
    "id": "UFxEXnmDTdaI",
    "outputId": "e3fb8de0-6e93-4007-8687-349fa68acc50"
   },
   "source": [
    "**Explore the counties data**"
   ]
  },
  {
   "cell_type": "code",
   "execution_count": null,
   "metadata": {
    "colab": {},
    "colab_type": "code",
    "id": "T7NWgo4_Uyr8"
   },
   "outputs": [],
   "source": []
  },
  {
   "cell_type": "markdown",
   "metadata": {},
   "source": [
    "### Extension\n",
    "\n",
    "Experiment extracting information using different SQL queries with psycopg2, e.g. use filters and groupbys"
   ]
  },
  {
   "cell_type": "code",
   "execution_count": null,
   "metadata": {},
   "outputs": [],
   "source": []
  },
  {
   "cell_type": "markdown",
   "metadata": {
    "colab_type": "text",
    "id": "PXGHNMgdU1b2"
   },
   "source": [
    "# Section 2: **Transformation**\n",
    "\n",
    "Now we have extracted the information we need to transform it before we can load it into one file. We will have to explore our data to find out what needs to be transformed.\n",
    "\n"
   ]
  },
  {
   "cell_type": "markdown",
   "metadata": {
    "colab_type": "text",
    "id": "hhhH01MGVIXA"
   },
   "source": [
    "## **Transformation of SALES table**\n",
    "\n",
    "* Rename columns if needed\n",
    "* Deduplicate table\n",
    "* Validate data type and convert where necessary\n",
    "* Check for null values and treat accordingly."
   ]
  },
  {
   "cell_type": "code",
   "execution_count": null,
   "metadata": {
    "colab": {
     "base_uri": "https://localhost:8080/",
     "height": 475
    },
    "colab_type": "code",
    "id": "YvtBufodDWrv",
    "outputId": "6560445c-4ada-4803-806b-fb9f3fc93f22"
   },
   "outputs": [],
   "source": [
    "# We can use .info() to examine our data, are there any fields which show data types we do not expect?\n",
    "\n",
    "sales.info()"
   ]
  },
  {
   "cell_type": "markdown",
   "metadata": {
    "colab_type": "text",
    "id": "ddBLRQXbX53B"
   },
   "source": [
    "Looks like `btl_price` and `state_btl_cost` are objects, when we need them to be floats. \n",
    "\n",
    "### Exercise\n",
    "\n",
    "From the `btl_price`, and `state_btl_cost` fields:\n",
    "* Remove the `$`\n",
    "* Covert to float"
   ]
  },
  {
   "cell_type": "code",
   "execution_count": null,
   "metadata": {
    "colab": {},
    "colab_type": "code",
    "id": "5sn5awHxX4wQ"
   },
   "outputs": [],
   "source": []
  },
  {
   "cell_type": "markdown",
   "metadata": {},
   "source": [
    "If stuck, highlight the spaces below"
   ]
  },
  {
   "cell_type": "markdown",
   "metadata": {},
   "source": [
    "<span style ='color:white'> sales['btl_price'] = sales.btl_price.apply(lambda x: float(x.replace('$','').replace(',', ''))) </span>\n"
   ]
  },
  {
   "cell_type": "markdown",
   "metadata": {},
   "source": [
    "<span style ='color:white'>sales['state_btl_cost'] = sales.state_btl_cost.apply(lambda x: float(x.replace('$','').replace(',', ''))) "
   ]
  },
  {
   "cell_type": "code",
   "execution_count": null,
   "metadata": {
    "colab": {
     "base_uri": "https://localhost:8080/",
     "height": 475
    },
    "colab_type": "code",
    "id": "lzH7bGXqDmlG",
    "outputId": "9755144a-8631-4254-cfd5-2cb1906c5848"
   },
   "outputs": [],
   "source": [
    "sales.info()"
   ]
  },
  {
   "cell_type": "markdown",
   "metadata": {
    "colab_type": "text",
    "id": "eJ-pCHZ6Z6xX"
   },
   "source": [
    "### Exercise:\n",
    "\n",
    "* Check for null values and deal with them accordingly using .isnull().sum()"
   ]
  },
  {
   "cell_type": "code",
   "execution_count": null,
   "metadata": {
    "colab": {
     "base_uri": "https://localhost:8080/",
     "height": 361
    },
    "colab_type": "code",
    "id": "w7fKyaWgEYRe",
    "outputId": "f8b206e1-bc35-4779-b54b-b4e9171b90f8"
   },
   "outputs": [],
   "source": []
  },
  {
   "cell_type": "markdown",
   "metadata": {
    "colab": {
     "base_uri": "https://localhost:8080/",
     "height": 36
    },
    "colab_type": "code",
    "id": "XGV-1TSfamFd",
    "outputId": "5e066a33-a1fd-482f-d21f-6da80d450729"
   },
   "source": [
    "### Exercise\n",
    "\n",
    "* How many duplicate values are in the sales table?\n",
    "* Optional: How many duplicates are in each field?\n",
    "\n",
    "Is this expected? \n",
    "\n"
   ]
  },
  {
   "cell_type": "code",
   "execution_count": null,
   "metadata": {},
   "outputs": [],
   "source": []
  },
  {
   "cell_type": "markdown",
   "metadata": {
    "colab_type": "text",
    "id": "mCDg4RoncbZm"
   },
   "source": [
    "## **Transformation of `products` table**\n",
    "\n",
    "* Rename columns if needed\n",
    "* Deduplicate table\n",
    "* Validate data type and convert where necessary\n",
    "* Check for null values and treat accordingly."
   ]
  },
  {
   "cell_type": "code",
   "execution_count": null,
   "metadata": {
    "colab": {
     "base_uri": "https://localhost:8080/",
     "height": 456
    },
    "colab_type": "code",
    "id": "JIYNrIGfa1fg",
    "outputId": "1f9c49b5-fc03-4d1a-a223-ea6d57c3fcd2"
   },
   "outputs": [],
   "source": [
    "products.info()"
   ]
  },
  {
   "cell_type": "markdown",
   "metadata": {
    "colab_type": "text",
    "id": "IacWapKjcyJP"
   },
   "source": [
    "The profiling task from earlier, may have given you an idea which fields need to be transformed in the product table.\n",
    "\n",
    "### Exercise\n",
    "\n",
    "* drop the `age` field\n",
    "* convert `list_date` to a `datetime` object\n",
    "* convert `bottle_price` to a float (watch out for nulls)\n",
    "* Check for duplicates"
   ]
  },
  {
   "cell_type": "code",
   "execution_count": null,
   "metadata": {
    "colab": {},
    "colab_type": "code",
    "id": "iG80aKBZeHbh"
   },
   "outputs": [],
   "source": []
  },
  {
   "cell_type": "markdown",
   "metadata": {},
   "source": [
    "Double click on the spaces below if stuck"
   ]
  },
  {
   "cell_type": "markdown",
   "metadata": {},
   "source": [
    "<span style ='color:white'> products.dropna(subset=['bottle_price'],inplace=True)</span>"
   ]
  },
  {
   "cell_type": "markdown",
   "metadata": {},
   "source": [
    "<span style ='color:white'> products['bottle_price'] = products.bottle_price.apply(lambda x: float(x.replace('$','').replace(',', '')))</span>"
   ]
  },
  {
   "cell_type": "code",
   "execution_count": null,
   "metadata": {
    "colab": {
     "base_uri": "https://localhost:8080/",
     "height": 36
    },
    "colab_type": "code",
    "id": "_MvNQchahBC_",
    "outputId": "223f8594-d014-43fa-f4c5-cccc605093b4"
   },
   "outputs": [],
   "source": [
    "products.info()"
   ]
  },
  {
   "cell_type": "markdown",
   "metadata": {},
   "source": [
    "### Exercise\n",
    "\n",
    "* Are there any fields in products which are NOT a foreign key in sales? \n",
    "* Drop these fields from the products table"
   ]
  },
  {
   "cell_type": "code",
   "execution_count": null,
   "metadata": {},
   "outputs": [],
   "source": []
  },
  {
   "cell_type": "markdown",
   "metadata": {
    "colab_type": "text",
    "id": "YGL8Cym0pLXb"
   },
   "source": [
    "## Transformation of COUNTIES and STORES tables\n",
    "\n",
    "### Exercise\n",
    "\n",
    "* Examine the Counties and Stores tables\n",
    "\n",
    "* Check for and deal with null values\n",
    "* Check for duplicates\n",
    "* Validate data type and convert where necessary"
   ]
  },
  {
   "cell_type": "code",
   "execution_count": null,
   "metadata": {
    "colab": {},
    "colab_type": "code",
    "id": "AjtkTOFg3abq"
   },
   "outputs": [],
   "source": []
  },
  {
   "cell_type": "markdown",
   "metadata": {
    "colab_type": "text",
    "id": "mWgdTfvJ3iyK"
   },
   "source": [
    "# Section 3: Loading\n",
    "\n",
    "Now that the transformation stage is complete, the next step is to load the the data into the data warehouse (or integrate it into one single file). \n",
    "\n",
    "Loading could involve `joining`, `concatenating` or just loading directly into a database. For our integration exercise, we will join the data into one single integrated file using pandas join functions. \n",
    "\n",
    "We need to identify joining fields on the extracted data.\n",
    "\n",
    "### Exercise\n",
    "\n",
    "SALES is the central table we will join the others to\n",
    "\n",
    "* Which field in the STORES, COUNTIES and PRODUCTS tables are foreign keys in sales?\n",
    "* Using join functions, create one large DataFrame which contains all the information from the 4 tables\n",
    "* Explore the large dataset\n",
    "* Use `.to_csv()` to save the large dataset as a CSV file\n"
   ]
  },
  {
   "cell_type": "code",
   "execution_count": null,
   "metadata": {
    "colab": {},
    "colab_type": "code",
    "id": "lRh3VjQW52mD"
   },
   "outputs": [],
   "source": [
    "# join sales to product\n",
    "data = sales.join(products.set_index('item_no'), on='item', how='left' )"
   ]
  },
  {
   "cell_type": "code",
   "execution_count": null,
   "metadata": {},
   "outputs": [],
   "source": [
    "data.shape"
   ]
  },
  {
   "cell_type": "code",
   "execution_count": null,
   "metadata": {
    "colab": {},
    "colab_type": "code",
    "id": "ub997EzsCFBg"
   },
   "outputs": [],
   "source": []
  },
  {
   "cell_type": "markdown",
   "metadata": {},
   "source": [
    "# Loading data into a BigQuery Database (Optional)\n",
    "\n",
    "We can load our data into the database of our choice. For example we can load it into a BigQuery database. To run the code below, you will need to sign up for google bigquery and create projectgenerate bigquery credentials. There is a free version that you can use. Once you have created a project, you will need to generate the credentials to use for the code below. Detals on how to create a google cloud project is [here](https://cloud.google.com/resource-manager/docs/creating-managing-projects) and how to generate credentials [here](https://cloud.google.com/docs/authentication/getting-started)\n",
    "\n",
    "You also need to install the google cloud BigQuery Library\n"
   ]
  },
  {
   "cell_type": "code",
   "execution_count": null,
   "metadata": {},
   "outputs": [],
   "source": [
    "!pip install google-cloud-bigquery"
   ]
  },
  {
   "cell_type": "code",
   "execution_count": 22,
   "metadata": {
    "colab": {},
    "colab_type": "code",
    "id": "kWW73CsvQztk"
   },
   "outputs": [],
   "source": [
    "from google.cloud import bigquery"
   ]
  },
  {
   "cell_type": "markdown",
   "metadata": {},
   "source": [
    "***Do not run the cells below until you have your credentials generated***"
   ]
  },
  {
   "cell_type": "code",
   "execution_count": 31,
   "metadata": {
    "colab": {},
    "colab_type": "code",
    "id": "zCHCRji0Th01"
   },
   "outputs": [],
   "source": [
    "import os\n",
    "os.environ[\"GOOGLE_APPLICATION_CREDENTIALS\"] = #path to your bigquery credential"
   ]
  },
  {
   "cell_type": "code",
   "execution_count": null,
   "metadata": {
    "colab": {
     "base_uri": "https://localhost:8080/",
     "height": 36
    },
    "colab_type": "code",
    "id": "FTLliHC-aevZ",
    "outputId": "d5ab109f-ccfc-46a8-a157-38867d6e54b8"
   },
   "outputs": [],
   "source": [
    "from google.cloud import bigquery\n",
    "\n",
    "# Construct a BigQuery client object.\n",
    "client = bigquery.Client()\n",
    "\n",
    "# TODO(developer): Set dataset_id to the ID of the dataset to create.\n",
    "dataset_id = \"{}.warehouse_data\".format(client.project)\n",
    "\n",
    "# Construct a full Dataset object to send to the API.\n",
    "dataset = bigquery.Dataset(dataset_id)\n",
    "\n",
    "# TODO(developer): Specify the geographic location where the dataset should reside.\n",
    "dataset.location = \"US\"\n",
    "\n",
    "# Send the dataset to the API for creation.\n",
    "# Raises google.api_core.exceptions.Conflict if the Dataset already\n",
    "# exists within the project.\n",
    "dataset = client.create_dataset(dataset)  # Make an API request.\n",
    "print(\"Created dataset {}.{}\".format(client.project, dataset.dataset_id))"
   ]
  },
  {
   "cell_type": "code",
   "execution_count": null,
   "metadata": {
    "colab": {
     "base_uri": "https://localhost:8080/",
     "height": 36
    },
    "colab_type": "code",
    "id": "AxnME9lobfhZ",
    "outputId": "d75d102f-3852-4755-9b16-4311949d4c8a"
   },
   "outputs": [],
   "source": [
    "\n",
    "\n",
    "# TODO(developer): Set table_id to the ID of the table to create.\n",
    "table_id = f\"{client.project}.warehouse_data.master_table\"\n",
    "\n",
    "schema = [\n",
    "    bigquery.SchemaField(\"date\", \"DATE\", mode=\"NULLABLE\"),\n",
    "    bigquery.SchemaField(\"convenience_store\", \"BOOLEAN\", mode=\"NULLABLE\"),\n",
    "    bigquery.SchemaField(\"store\", \"INTEGER\", mode=\"NULLABLE\"),\n",
    "    bigquery.SchemaField(\"county_number\", \"INTEGER\", mode=\"NULLABLE\"),\n",
    "    bigquery.SchemaField(\"county\", \"STRING\", mode=\"NULLABLE\"),\n",
    "    bigquery.SchemaField(\"category\", \"INTEGER\", mode=\"NULLABLE\"),\n",
    "    bigquery.SchemaField(\"category_name\", \"STRING\", mode=\"NULLABLE\"),\n",
    "    bigquery.SchemaField(\"vendor_no\", \"INTEGER\", mode=\"NULLABLE\"),\n",
    "    bigquery.SchemaField(\"vendor\", \"STRING\", mode=\"NULLABLE\"),\n",
    "    bigquery.SchemaField(\"item\", \"INTEGER\", mode=\"NULLABLE\"),\n",
    "    bigquery.SchemaField(\"description\", \"STRING\", mode=\"NULLABLE\"),\n",
    "    bigquery.SchemaField(\"pack\", \"INTEGER\", mode=\"NULLABLE\"),\n",
    "    bigquery.SchemaField(\"liter_size\", \"INTEGER\", mode=\"NULLABLE\"),\n",
    "    bigquery.SchemaField(\"state_btl_cost\", \"FLOAT\", mode=\"NULLABLE\"),\n",
    "    bigquery.SchemaField(\"btl_price\", \"FLOAT\", mode=\"NULLABLE\"),\n",
    "    bigquery.SchemaField(\"bottle_qty\", \"INTEGER\", mode=\"NULLABLE\"),\n",
    "    bigquery.SchemaField(\"total\", \"FLOAT\", mode=\"NULLABLE\"),\n",
    "    bigquery.SchemaField(\"item_description\", \"STRING\", mode=\"NULLABLE\"),\n",
    "    bigquery.SchemaField(\"vendor_name\", \"STRING\", mode=\"NULLABLE\"),\n",
    "    bigquery.SchemaField(\"bottle_size\", \"FLOAT\", mode=\"NULLABLE\"),\n",
    "    bigquery.SchemaField(\"inner_pack\", \"FLOAT\", mode=\"NULLABLE\"),\n",
    "    bigquery.SchemaField(\"proof\", \"FLOAT\", mode=\"NULLABLE\"),\n",
    "    bigquery.SchemaField(\"list_date\", \"TIMESTAMP\", mode=\"NULLABLE\"),\n",
    "    bigquery.SchemaField(\"upc\", \"FLOAT\", mode=\"NULLABLE\"),\n",
    "    bigquery.SchemaField(\"scc\", \"FLOAT\", mode=\"NULLABLE\"),\n",
    "    bigquery.SchemaField(\"bottle_price\", \"FLOAT\", mode=\"NULLABLE\"),\n",
    "    bigquery.SchemaField(\"shelf_price\", \"FLOAT\", mode=\"NULLABLE\"),\n",
    "    bigquery.SchemaField(\"case_cost\", \"FLOAT\", mode=\"NULLABLE\"),\n",
    "    bigquery.SchemaField(\"name\", \"STRING\", mode=\"NULLABLE\"),\n",
    "    bigquery.SchemaField(\"store_status\", \"STRING\", mode=\"NULLABLE\"),\n",
    "    bigquery.SchemaField(\"store_address\", \"STRING\", mode=\"NULLABLE\"),\n",
    "    bigquery.SchemaField(\"population\", \"INTEGER\", mode=\"NULLABLE\"),\n",
    "]\n",
    "\n",
    "table = bigquery.Table(table_id, schema=schema)\n",
    "table = client.create_table(table)  # Make an API request.\n",
    "print(\n",
    "    \"Created table {}.{}.{}\".format(table.project, table.dataset_id, table.table_id)\n",
    ")"
   ]
  },
  {
   "cell_type": "code",
   "execution_count": null,
   "metadata": {
    "colab": {
     "base_uri": "https://localhost:8080/",
     "height": 36
    },
    "colab_type": "code",
    "id": "6A_bhCcDRJGk",
    "outputId": "1290e1f1-e428-4f4e-895c-6e1d05991a26"
   },
   "outputs": [],
   "source": [
    "client = bigquery.Client()\n",
    "filename = \"master_data.csv\"\n",
    "dataset_id = table.dataset_id\n",
    "table_id = table.table_id\n",
    "\n",
    "\n",
    "dataset_ref = client.dataset(dataset_id)\n",
    "table_ref = dataset_ref.table(table_id)\n",
    "job_config = bigquery.LoadJobConfig()\n",
    "job_config.source_format = bigquery.SourceFormat.CSV\n",
    "job_config.skip_leading_rows = 1\n",
    "job_config.autodetect = True\n",
    "\n",
    "with open(filename, \"rb\") as source_file:\n",
    "    job = client.load_table_from_file(source_file, table_ref, job_config=job_config)\n",
    "\n",
    "job.result()  # Waits for table load to complete.\n",
    "\n",
    "print(\"Loaded {} rows into {}:{}.\".format(job.output_rows, dataset_id, table_id))"
   ]
  },
  {
   "cell_type": "markdown",
   "metadata": {
    "colab": {},
    "colab_type": "code",
    "id": "uR6RBGZEv-CB"
   },
   "source": [
    "**Now you can log on to your BigQuery to view your data**\n",
    "\n",
    "\n",
    "**You can also connect to your BigQuery Datawarehouse right from Tableau and create a dashboard to help make business decisions**"
   ]
  },
  {
   "cell_type": "code",
   "execution_count": null,
   "metadata": {},
   "outputs": [],
   "source": []
  }
 ],
 "metadata": {
  "colab": {
   "name": "ETL_python.ipynb",
   "provenance": [],
   "toc_visible": true
  },
  "kernelspec": {
   "display_name": "Python 3",
   "language": "python",
   "name": "python3"
  },
  "language_info": {
   "codemirror_mode": {
    "name": "ipython",
    "version": 3
   },
   "file_extension": ".py",
   "mimetype": "text/x-python",
   "name": "python",
   "nbconvert_exporter": "python",
   "pygments_lexer": "ipython3",
   "version": "3.7.6"
  }
 },
 "nbformat": 4,
 "nbformat_minor": 4
}
