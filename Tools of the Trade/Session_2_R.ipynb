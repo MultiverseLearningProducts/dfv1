{
 "cells": [
  {
   "cell_type": "markdown",
   "id": "missing-prior",
   "metadata": {},
   "source": [
    "<img src=\"./Assets/Header.PNG\" style=\"width: 1000px; height: 100px\">\n",
    "\n",
    "<h1 style ='color:black; font-size: 50px; font-weight:bold'> Session 2: R </h1>\n",
    "\n",
    "\n",
    "\n",
    "<hr>"
   ]
  },
  {
   "cell_type": "markdown",
   "id": "extensive-equation",
   "metadata": {},
   "source": [
    "<p> In this session we will be exploring R, a computing language which has been optimised for statistical analysis and machine learning. While it does not have the range of functionality Python has it more than makes up for it with the suite of packages it has for data manipulation, analysis and visualisation. \n",
    "\n",
    "This notebook will cover the basics of R, exploratory data analysis and visualisations. <p>"
   ]
  },
  {
   "cell_type": "markdown",
   "id": "compact-coach",
   "metadata": {},
   "source": [
    "<a id=\"outline\"></a>\n",
    "\n",
    "## Session Outline\n",
    "\n",
    "- [Features of R](#features_of_r)\n",
    "- [Control Flow in R](#control-flow-in-R)\n",
    "- [Exploratory Data Analysis in R](#exploratory-data-analysis-in-R)\n",
    "- [Visualisation in R](#visualisation-in-R)\n",
    "- [Linear Modelling in R](#linear-modelling-in-R)\n",
    "- [RStudio](#rstudio)\n",
    "- [Recap](#recap)\n",
    "\n",
    "## Learning Objectives\n",
    "\n",
    "- Understand the Basics of R\n",
    "- Compare and Contrast the funcitons of R with Python\n",
    "- Utilise R to perform Data Analytics\n",
    "\n",
    "<hr>\n",
    "\n"
   ]
  },
  {
   "cell_type": "markdown",
   "id": "sustained-capacity",
   "metadata": {},
   "source": [
    "<a id=\"features_of_r\"></a>\n",
    "\n",
    "<div class='image' style='position:relative;width:100%;height:60%'>\n",
    "    <img src=\"./Assets/background.PNG\" >\n",
    "    <h2 style ='color:white; font-size: 70px; font-weight:bold; position:absolute; top:150px; left:100px; width:90%'> Features of R </h2>\n",
    "</div>\n",
    "<br>\n",
    "\n",
    "<a href=#outline> Top </a>\n",
    "\n",
    "<p><b>Aim:</b> Understand the Basic Features of R </p>\n",
    "\n",
    "\n",
    "R is a statistical language realeased in 1995 by Ross Ihaka and Robert Gentleman at the University of Auckland. It was named after the first letter of both author's names, and as a play on S, the computing language R was built upon. R is mostly used for statistical computation and analysis but has also gained attention for developing machine learning products. Like Python, R's statistical computing capabilities can be extended with packages (called packages). R is also an object orienttated language (OOP) but is not as intuitive as python. However, the wide range of statistical tests and the ease of building visualisations makes R a favourite of statisticians across the globe. \n",
    "\n",
    "<h1> Packages </h1>\n",
    "\n",
    "R packages are collections of functions that allow for reusability, modularity and building cleaner code through extending R capabilities. Packages are stored in repositories called <b>C</b>omprehensive <b>R</b> <b>A</b>rchive <b>N</b>etworks or CRANs. As with Python, R is open source meaning anyone can write packages and you can install any package available in a CRAN. \n",
    "\n",
    "A script in R is a text file with extension `.R` where you can write your code and save anywhere.\n",
    "\n",
    "\n",
    "    "
   ]
  },
  {
   "cell_type": "markdown",
   "id": "parental-static",
   "metadata": {},
   "source": [
    "### Data Types in R\n",
    "\n",
    "The table below shows the different data types in R and what their python equivalents are.\n",
    "\n",
    "<table style=\" width:100%\">\n",
    "    <tr>\n",
    "        <th style=\"text-align:left; font-size:15px\"><b>Data Type (R)</b></th>\n",
    "    <th style=\"text-align:left; font-size:15px\"><b>Python Equivalent</b></th>\n",
    "    <th style=\"text-align:left; font-size:15px\"><b>Example</b></th>\n",
    "</tr>\n",
    "<tr>\n",
    "    <td style=\"text-align:left\">Character</td> \n",
    "    <td style=\"text-align:left\">String</td>\n",
    "    <td style=\"text-align:left\">'A', 'MultiVerse', 'a123abc'</td> \n",
    "    \n",
    "</tr>\n",
    "<tr>\n",
    "    <td style=\"text-align:left\">Integer</td>\n",
    "    <td style=\"text-align:left\">Integer</td>\n",
    "    <td style=\"text-align:left\">3, 7, 102</td>\n",
    "    \n",
    "</tr>\n",
    "\n",
    "<tr>\n",
    "    <td style=\"text-align:left\">Numeric</td>\n",
    "    <td style=\"text-align:left\">Float</td>\n",
    "    <td style=\"text-align:left\">10.5, 3.14, 2.3</td>\n",
    "    \n",
    "</tr>\n",
    "<tr>\n",
    "    <td style=\"text-align:left\">Logical</td>\n",
    "    <td style=\"text-align:left\">Boolean</td>\n",
    "    <td style=\"text-align:left\">TRUE, FALSE</td>\n",
    "    \n",
    "</tr>\n",
    "<tr>\n",
    "    <td style=\"text-align:left\">NA</td>\n",
    "    <td style=\"text-align:left\">NaN</td>\n",
    "    <td style=\"text-align:left\"></td>\n",
    "    \n",
    "</tr>\n",
    "    \n",
    "    \n",
    "<tr style=\"border: none\">\n",
    "\n",
    "</tr>\n",
    "\n",
    "</table>"
   ]
  },
  {
   "cell_type": "markdown",
   "id": "selective-addition",
   "metadata": {},
   "source": [
    "Note that for logical data types they are all capitalised as opposed to python where only the first letter is uppercase."
   ]
  },
  {
   "cell_type": "markdown",
   "id": "corporate-springer",
   "metadata": {},
   "source": [
    "If you are ever stuck in R, remeber there is the `help()` function to bring up the documentation. Otherwise, stackoverflow has plenty of solutions to common problems.\n"
   ]
  },
  {
   "cell_type": "markdown",
   "id": "western-extent",
   "metadata": {},
   "source": [
    "## Declaring Variables in R\n",
    "\n",
    "### For a single variable"
   ]
  },
  {
   "cell_type": "code",
   "execution_count": null,
   "id": "removed-result",
   "metadata": {},
   "outputs": [],
   "source": [
    "x <- 'my variable'"
   ]
  },
  {
   "cell_type": "markdown",
   "id": "distributed-wrist",
   "metadata": {},
   "source": [
    "Traditionally we use `<-` to assign a variable, but `=` works just as well."
   ]
  },
  {
   "cell_type": "code",
   "execution_count": null,
   "id": "distinguished-image",
   "metadata": {},
   "outputs": [],
   "source": [
    "x = 'my variable'"
   ]
  },
  {
   "cell_type": "markdown",
   "id": "south-closing",
   "metadata": {},
   "source": [
    "Like python, R has a print function to see what is stored in a variable."
   ]
  },
  {
   "cell_type": "code",
   "execution_count": null,
   "id": "functional-criminal",
   "metadata": {},
   "outputs": [],
   "source": [
    "print(x)"
   ]
  },
  {
   "cell_type": "markdown",
   "id": "matched-veteran",
   "metadata": {},
   "source": [
    "Or we could just call the variable name itself to see what is stored..."
   ]
  },
  {
   "cell_type": "code",
   "execution_count": null,
   "id": "premium-coast",
   "metadata": {},
   "outputs": [],
   "source": [
    "x"
   ]
  },
  {
   "cell_type": "markdown",
   "id": "mysterious-prompt",
   "metadata": {},
   "source": [
    "We can also calla collection of integers"
   ]
  },
  {
   "cell_type": "code",
   "execution_count": null,
   "id": "dutch-taylor",
   "metadata": {},
   "outputs": [],
   "source": [
    "y <- 1:5\n",
    "y"
   ]
  },
  {
   "cell_type": "markdown",
   "id": "north-xerox",
   "metadata": {},
   "source": [
    "You can check the datatype of a variable by using the command `typeof()`"
   ]
  },
  {
   "cell_type": "code",
   "execution_count": null,
   "id": "labeled-purchase",
   "metadata": {},
   "outputs": [],
   "source": [
    "typeof(x)"
   ]
  },
  {
   "cell_type": "code",
   "execution_count": null,
   "id": "presidential-stranger",
   "metadata": {},
   "outputs": [],
   "source": [
    "# We can add comments in R the same way we do in Python"
   ]
  },
  {
   "cell_type": "code",
   "execution_count": null,
   "id": "dressed-possession",
   "metadata": {},
   "outputs": [],
   "source": [
    "\"But there are\n",
    " other methods of doing it too\""
   ]
  },
  {
   "cell_type": "markdown",
   "id": "adopted-immigration",
   "metadata": {},
   "source": [
    "### Mathematical Operators\n",
    "\n",
    "Like python, R has a range of in built operators"
   ]
  },
  {
   "cell_type": "code",
   "execution_count": null,
   "id": "sustainable-success",
   "metadata": {},
   "outputs": [],
   "source": [
    "1 + 1"
   ]
  },
  {
   "cell_type": "code",
   "execution_count": null,
   "id": "interpreted-tunisia",
   "metadata": {},
   "outputs": [],
   "source": [
    "10-15"
   ]
  },
  {
   "cell_type": "code",
   "execution_count": null,
   "id": "stylish-spectrum",
   "metadata": {},
   "outputs": [],
   "source": [
    "5 * 6"
   ]
  },
  {
   "cell_type": "code",
   "execution_count": null,
   "id": "sticky-watts",
   "metadata": {},
   "outputs": [],
   "source": [
    "2 ** 5"
   ]
  },
  {
   "cell_type": "code",
   "execution_count": null,
   "id": "committed-crawford",
   "metadata": {},
   "outputs": [],
   "source": [
    "10 %% 3 #Modulo"
   ]
  },
  {
   "cell_type": "code",
   "execution_count": null,
   "id": "blocked-ridge",
   "metadata": {},
   "outputs": [],
   "source": [
    "10/5"
   ]
  },
  {
   "cell_type": "code",
   "execution_count": null,
   "id": "individual-colony",
   "metadata": {},
   "outputs": [],
   "source": [
    "sqrt(25)"
   ]
  },
  {
   "cell_type": "code",
   "execution_count": null,
   "id": "thrown-victim",
   "metadata": {},
   "outputs": [],
   "source": [
    "mean(3,5,6)"
   ]
  },
  {
   "cell_type": "markdown",
   "id": "downtown-treaty",
   "metadata": {},
   "source": [
    "## Data Structures in R\n",
    "\n",
    "Like in python there exist data structures we use to store our data for analyis.\n",
    "\n",
    "\n",
    "### 1)<b> List:</b>  \n",
    "A collection of elements that can hold a combination of data types. Note, a list is also similar to a dictionary in python\n",
    "  "
   ]
  },
  {
   "cell_type": "code",
   "execution_count": null,
   "id": "abroad-anime",
   "metadata": {},
   "outputs": [],
   "source": [
    "l <- list('a'=1, 'b'=2,'c'=3)\n",
    "l"
   ]
  },
  {
   "cell_type": "markdown",
   "id": "herbal-australian",
   "metadata": {},
   "source": [
    "If I want to call an element from a list I need to use the `$` notation and reference the tag."
   ]
  },
  {
   "cell_type": "code",
   "execution_count": null,
   "id": "stuffed-agency",
   "metadata": {},
   "outputs": [],
   "source": [
    "l$a"
   ]
  },
  {
   "cell_type": "markdown",
   "id": "binary-given",
   "metadata": {},
   "source": [
    "Lists do not require tags to be called however."
   ]
  },
  {
   "cell_type": "code",
   "execution_count": null,
   "id": "saving-stanford",
   "metadata": {},
   "outputs": [],
   "source": [
    "l2 <- list(1,'some text',3, TRUE)\n",
    "l2"
   ]
  },
  {
   "cell_type": "markdown",
   "id": "musical-sacrifice",
   "metadata": {},
   "source": [
    "We can reference elements from a list by using their key. Lists in R are more similar to dictionaries in python."
   ]
  },
  {
   "cell_type": "code",
   "execution_count": null,
   "id": "certified-limitation",
   "metadata": {},
   "outputs": [],
   "source": [
    "l2[4]"
   ]
  },
  {
   "cell_type": "code",
   "execution_count": null,
   "id": "fourth-salmon",
   "metadata": {},
   "outputs": [],
   "source": [
    "l['a']"
   ]
  },
  {
   "cell_type": "markdown",
   "id": "dried-assistant",
   "metadata": {},
   "source": [
    "If I want to retrieve this value for further use I need to use [[]]"
   ]
  },
  {
   "cell_type": "code",
   "execution_count": null,
   "id": "decreased-damage",
   "metadata": {},
   "outputs": [],
   "source": [
    "l2[[4]]"
   ]
  },
  {
   "cell_type": "code",
   "execution_count": null,
   "id": "norman-excitement",
   "metadata": {},
   "outputs": [],
   "source": [
    "l[['a']]"
   ]
  },
  {
   "cell_type": "markdown",
   "id": "operating-cradle",
   "metadata": {},
   "source": [
    "To add items to a list you need to call the tag of where you want it to be placed and assign it the value you want. "
   ]
  },
  {
   "cell_type": "code",
   "execution_count": null,
   "id": "certified-status",
   "metadata": {},
   "outputs": [],
   "source": [
    "l[['d']]='Multiverse'\n",
    "l"
   ]
  },
  {
   "cell_type": "markdown",
   "id": "aware-county",
   "metadata": {},
   "source": [
    "Editing a value in a list follows the same format."
   ]
  },
  {
   "cell_type": "code",
   "execution_count": null,
   "id": "virgin-appointment",
   "metadata": {},
   "outputs": [],
   "source": [
    "l[['a']]=20\n",
    "l"
   ]
  },
  {
   "cell_type": "markdown",
   "id": "scheduled-princess",
   "metadata": {},
   "source": [
    "To delete an item you assign the tag the value `NULL`."
   ]
  },
  {
   "cell_type": "code",
   "execution_count": null,
   "id": "peripheral-welsh",
   "metadata": {},
   "outputs": [],
   "source": [
    "l[['b']]=NULL; l #The semi-colon allows us to put multiple commands in the same line"
   ]
  },
  {
   "cell_type": "markdown",
   "id": "sealed-palace",
   "metadata": {},
   "source": [
    "Note, we can use `str()` to find the types of variables in a structure"
   ]
  },
  {
   "cell_type": "code",
   "execution_count": null,
   "id": "smart-musical",
   "metadata": {},
   "outputs": [],
   "source": [
    "str(l)"
   ]
  },
  {
   "cell_type": "markdown",
   "id": "behavioral-peace",
   "metadata": {},
   "source": [
    "### 2) Vectors:\n",
    "\n",
    "A collection of elements of the same data type, similar to numpy arrays\n",
    "\n",
    "We use `c()` to define a vector"
   ]
  },
  {
   "cell_type": "code",
   "execution_count": null,
   "id": "streaming-times",
   "metadata": {},
   "outputs": [],
   "source": [
    "numbers <- c(1,2,3); numbers"
   ]
  },
  {
   "cell_type": "code",
   "execution_count": null,
   "id": "different-princeton",
   "metadata": {},
   "outputs": [],
   "source": [
    "str(numbers)"
   ]
  },
  {
   "cell_type": "markdown",
   "id": "assumed-portugal",
   "metadata": {},
   "source": [
    "To edit, append or view values from a vector you just use the same notation as a list. Note that vectors are not zero indexed."
   ]
  },
  {
   "cell_type": "code",
   "execution_count": null,
   "id": "welsh-reform",
   "metadata": {},
   "outputs": [],
   "source": [
    "numbers[1]"
   ]
  },
  {
   "cell_type": "code",
   "execution_count": null,
   "id": "greater-border",
   "metadata": {},
   "outputs": [],
   "source": [
    "numbers[c(1,3)] #access several elements"
   ]
  },
  {
   "cell_type": "code",
   "execution_count": null,
   "id": "banner-trauma",
   "metadata": {},
   "outputs": [],
   "source": [
    "numbers[1]= 5; numbers"
   ]
  },
  {
   "cell_type": "code",
   "execution_count": null,
   "id": "fleet-princeton",
   "metadata": {},
   "outputs": [],
   "source": [
    "numbers[4]=10; numbers"
   ]
  },
  {
   "cell_type": "markdown",
   "id": "exotic-indianapolis",
   "metadata": {},
   "source": [
    "We can make it more like a dictionary and apply tags to the values."
   ]
  },
  {
   "cell_type": "code",
   "execution_count": null,
   "id": "outer-virus",
   "metadata": {},
   "outputs": [],
   "source": [
    "more_numbers <- c('first'=1, 'second'=2, 'third'=3); more_numbers"
   ]
  },
  {
   "cell_type": "code",
   "execution_count": null,
   "id": "amino-bargain",
   "metadata": {},
   "outputs": [],
   "source": [
    "more_numbers['first']"
   ]
  },
  {
   "cell_type": "code",
   "execution_count": null,
   "id": "governing-clock",
   "metadata": {},
   "outputs": [],
   "source": [
    "more_numbers[['first']]"
   ]
  },
  {
   "cell_type": "markdown",
   "id": "mighty-timing",
   "metadata": {},
   "source": [
    "#### What is the difference between a list and a vector?"
   ]
  },
  {
   "cell_type": "code",
   "execution_count": null,
   "id": "laden-works",
   "metadata": {},
   "outputs": [],
   "source": [
    "# A:"
   ]
  },
  {
   "cell_type": "markdown",
   "id": "micro-brass",
   "metadata": {},
   "source": [
    "Click here for solution\n",
    "\n",
    "<span style ='color:white'>\n",
    "\n",
    "All elements in a vector must be of the same data type, lists can have a variety. Run the two lines below and see what happens to the vector.\n",
    "    \n",
    "list_ex <- list(1,'a', 4)\n",
    "vector_ex <- c(1, 'a', 4)\n",
    "    \n",
    "Because one element is a character, all of them are converted to characters."
   ]
  },
  {
   "cell_type": "markdown",
   "id": "living-handy",
   "metadata": {},
   "source": [
    "### 3) Matrices:\n",
    "\n",
    "A table like structure with rows and columns (an extension of a vector)"
   ]
  },
  {
   "cell_type": "code",
   "execution_count": null,
   "id": "overall-shepherd",
   "metadata": {},
   "outputs": [],
   "source": [
    "X <- matrix(nrow=2,ncol=3); print(X) # An empty matrix"
   ]
  },
  {
   "cell_type": "code",
   "execution_count": null,
   "id": "postal-massage",
   "metadata": {},
   "outputs": [],
   "source": [
    "X <- matrix(c(2,3,5,3,4,2),nrow=2,ncol=3); print(X)"
   ]
  },
  {
   "cell_type": "code",
   "execution_count": null,
   "id": "dressed-grace",
   "metadata": {},
   "outputs": [],
   "source": [
    "str(X)"
   ]
  },
  {
   "cell_type": "markdown",
   "id": "interesting-invalid",
   "metadata": {},
   "source": [
    "To add a column to a matrix we use `cbind()`"
   ]
  },
  {
   "cell_type": "code",
   "execution_count": null,
   "id": "looking-mouse",
   "metadata": {},
   "outputs": [],
   "source": [
    "X2 <- cbind(X,c(4,5)); print(X2)"
   ]
  },
  {
   "cell_type": "markdown",
   "id": "institutional-software",
   "metadata": {},
   "source": [
    "To add a row to a matrix we use `rbind()`"
   ]
  },
  {
   "cell_type": "code",
   "execution_count": null,
   "id": "respective-harris",
   "metadata": {},
   "outputs": [],
   "source": [
    "X3 <- rbind(X,c(34,2,1)); print(X3)"
   ]
  },
  {
   "cell_type": "markdown",
   "id": "interstate-pharmaceutical",
   "metadata": {},
   "source": [
    "### 4) DataFrames:\n",
    "\n",
    "A tabular data structure to perform statistical operations. Other than vectors, dataframes will likely be the most used data structure in data manipulation and analysis"
   ]
  },
  {
   "cell_type": "code",
   "execution_count": null,
   "id": "regional-communication",
   "metadata": {},
   "outputs": [],
   "source": [
    "df <- data.frame(one=1:5, two=c('A','B','C','D','E')); print(df)"
   ]
  },
  {
   "cell_type": "code",
   "execution_count": null,
   "id": "saving-bidding",
   "metadata": {},
   "outputs": [],
   "source": [
    "str(df)"
   ]
  },
  {
   "cell_type": "code",
   "execution_count": null,
   "id": "physical-hotel",
   "metadata": {},
   "outputs": [],
   "source": [
    "df$one"
   ]
  },
  {
   "cell_type": "markdown",
   "id": "extreme-moderator",
   "metadata": {},
   "source": [
    "Adding rows and columns is the same as a matrix"
   ]
  },
  {
   "cell_type": "code",
   "execution_count": null,
   "id": "alleged-kelly",
   "metadata": {},
   "outputs": [],
   "source": [
    "df <-rbind(df,data.frame(one=6,two='F')); df"
   ]
  },
  {
   "cell_type": "code",
   "execution_count": null,
   "id": "domestic-favor",
   "metadata": {},
   "outputs": [],
   "source": [
    "df <-cbind(df,data.frame(three=c(TRUE, FALSE, FALSE, TRUE, TRUE, FALSE))); df"
   ]
  },
  {
   "cell_type": "markdown",
   "id": "comfortable-developer",
   "metadata": {},
   "source": [
    "Or we can add columns by using the `$` notation."
   ]
  },
  {
   "cell_type": "code",
   "execution_count": null,
   "id": "swedish-subcommittee",
   "metadata": {},
   "outputs": [],
   "source": [
    "df$four= c('R','R','Python','Python','Python','R'); df"
   ]
  },
  {
   "cell_type": "markdown",
   "id": "pregnant-claim",
   "metadata": {},
   "source": [
    "To delete a column, the simplest method is to create a `subset()` and select which rows you want to drop using `-c()`"
   ]
  },
  {
   "cell_type": "code",
   "execution_count": null,
   "id": "desirable-education",
   "metadata": {},
   "outputs": [],
   "source": [
    "subset(df,select=-c(two))"
   ]
  },
  {
   "cell_type": "markdown",
   "id": "prostate-rebate",
   "metadata": {},
   "source": [
    "To delete a row, you reference the dataframe by calling the complement of the rows you <b> do not </b> want by using `-c()`"
   ]
  },
  {
   "cell_type": "code",
   "execution_count": null,
   "id": "instant-groove",
   "metadata": {},
   "outputs": [],
   "source": [
    "df[-c(5),]"
   ]
  },
  {
   "cell_type": "markdown",
   "id": "governing-cattle",
   "metadata": {},
   "source": [
    "Remember to reassign the dataframe to your variable name or your deletions won't actually hold!"
   ]
  },
  {
   "cell_type": "markdown",
   "id": "turkish-status",
   "metadata": {},
   "source": [
    "## Exercise\n",
    "\n",
    "Create the following:\n",
    "\n",
    "<ol>\n",
    "    <li> A variable to store your name </li>\n",
    "    <li> A variable to store a vector from 1 to 10 </li>\n",
    "    <li> A variable to store a vector showing your name, age, city and if your OTJ is above 100% (True or False) </li>\n",
    "    <li> A variable to store a dataframe with three columns: name, age and city for 5 people \n",
    "</ol>"
   ]
  },
  {
   "cell_type": "code",
   "execution_count": null,
   "id": "local-patrol",
   "metadata": {},
   "outputs": [],
   "source": [
    "# A:"
   ]
  },
  {
   "cell_type": "markdown",
   "id": "threaded-partnership",
   "metadata": {},
   "source": [
    "<hr>"
   ]
  },
  {
   "cell_type": "markdown",
   "id": "alleged-domain",
   "metadata": {},
   "source": [
    "<a id=\"control-flow-in-R\"></a>\n",
    "\n",
    "<div class='image' style='position:relative;width:100%;height:60%'>\n",
    "    <img src=\"./Assets/background.PNG\" >\n",
    "    <h2 style ='color:white; font-size: 70px; font-weight:bold; position:absolute; top:150px; left:100px; width:90%'> Control Flow in R </h2>\n",
    "</div>\n",
    "<br>\n",
    "\n",
    "\n"
   ]
  },
  {
   "cell_type": "markdown",
   "id": "excessive-vatican",
   "metadata": {},
   "source": [
    "[Top](#outline)\n",
    "\n",
    "<p><b>Aim:</b> Understand how to set up loops and functions in R </p>"
   ]
  },
  {
   "cell_type": "markdown",
   "id": "democratic-perfume",
   "metadata": {},
   "source": [
    "Like with Python, R allows you to write loops which you can use to parse data or generate new data structures for your analysis. "
   ]
  },
  {
   "cell_type": "markdown",
   "id": "eleven-angle",
   "metadata": {},
   "source": [
    "## Logic Statements\n",
    "\n",
    "In python these were denoted by `if` followed by some logical statement e.g. `if x==2:`\n",
    "\n",
    "R allows you to do these as well, although the logic statements are the same, the syntax for calling the statement is different"
   ]
  },
  {
   "cell_type": "markdown",
   "id": "czech-wallace",
   "metadata": {},
   "source": [
    "<table style=\" width:100%\">\n",
    "    <tr>\n",
    "        <th style=\"text-align:left; font-size:15px\"><b>Operator</b></th>\n",
    "        <th style=\"text-align:left; font-size:15px\"><b>Meaning</b></th>\n",
    "    </tr>\n",
    "    <tr>\n",
    "        <td style=\"text-align:left\">==</td> \n",
    "        <td style=\"text-align:left\">Equals</td>\n",
    "    </tr>\n",
    "    <tr>\n",
    "        <td style=\"text-align:left\">!=</td>\n",
    "        <td style=\"text-align:left\">Not Equals</td>\n",
    "    </tr>\n",
    "    <tr>\n",
    "        <td style=\"text-align:left\">></td>\n",
    "        <td style=\"text-align:left\">Greater Than</td>\n",
    "    </tr>\n",
    "    <tr>\n",
    "        <td style=\"text-align:left\">>=</td>\n",
    "        <td style=\"text-align:left\">Greater Than or Equals To</td>\n",
    "    </tr>\n",
    "    <tr>\n",
    "        <td style=\"text-align:left\"><</td>\n",
    "        <td style=\"text-align:left\">Less Than</td>\n",
    "    </tr>\n",
    "    <tr>\n",
    "        <td style=\"text-align:left\"><=</td>\n",
    "        <td style=\"text-align:left\">Lesser Than or Equals To</td>\n",
    "    </tr>\n",
    "    <tr>\n",
    "        <td style=\"text-align:left\">%in%</td>\n",
    "        <td style=\"text-align:left\">Is in</td>\n",
    "    </tr>\n",
    "    <tr style=\"border: none\">\n",
    "    </tr>\n",
    "</table>"
   ]
  },
  {
   "cell_type": "code",
   "execution_count": null,
   "id": "specialized-prescription",
   "metadata": {},
   "outputs": [],
   "source": [
    "value <- 10\n",
    "\n",
    "if (value > 5){\n",
    "    print('Greater than 5')\n",
    "} "
   ]
  },
  {
   "cell_type": "markdown",
   "id": "animal-darkness",
   "metadata": {},
   "source": [
    "Adding in an else statement is simple, just place it after the brackets are closed."
   ]
  },
  {
   "cell_type": "code",
   "execution_count": null,
   "id": "outside-victory",
   "metadata": {},
   "outputs": [],
   "source": [
    "value=4\n",
    "\n",
    "if (value > 5){\n",
    "    print('Greater than 5')\n",
    "} else {\n",
    "    print('Less than 5')\n",
    "}"
   ]
  },
  {
   "cell_type": "markdown",
   "id": "behavioral-court",
   "metadata": {},
   "source": [
    "To add multiple conditions you just need to use else if."
   ]
  },
  {
   "cell_type": "code",
   "execution_count": null,
   "id": "golden-proposition",
   "metadata": {},
   "outputs": [],
   "source": [
    "value = 5\n",
    "\n",
    "if (value > 10){\n",
    "    print('Greater than 10')\n",
    "} else if (value == 5) {\n",
    "    print('Equals 5')\n",
    "} else {\n",
    "    print('Not 5 and less than 10')\n",
    "}"
   ]
  },
  {
   "cell_type": "markdown",
   "id": "coastal-spain",
   "metadata": {},
   "source": [
    "We can also add in multiple conditions. This is the same as python with `|` representing or and `&` meaning and."
   ]
  },
  {
   "cell_type": "code",
   "execution_count": null,
   "id": "automotive-courtesy",
   "metadata": {},
   "outputs": [],
   "source": [
    "value = 7\n",
    "\n",
    "if (value > 5 & value < 10){\n",
    "    print(' Value between 5 and 10')\n",
    "}"
   ]
  },
  {
   "cell_type": "code",
   "execution_count": null,
   "id": "three-tuesday",
   "metadata": {},
   "outputs": [],
   "source": [
    "value = 2\n",
    "\n",
    "if (value > 5 | value == 2){\n",
    "    print(' Value is 2 or greater than 5')\n",
    "}"
   ]
  },
  {
   "cell_type": "markdown",
   "id": "crucial-sample",
   "metadata": {},
   "source": [
    "An advantage of R is that you can write entire blocks of code in one line, just ensure you have closed off the previous statement."
   ]
  },
  {
   "cell_type": "code",
   "execution_count": null,
   "id": "mysterious-fancy",
   "metadata": {},
   "outputs": [],
   "source": [
    "if (value > 10) {print('value greater than 10')} else {print('value less than 10')}"
   ]
  },
  {
   "cell_type": "markdown",
   "id": "reported-arthur",
   "metadata": {},
   "source": [
    "## For Loops\n",
    "\n",
    "Now we know how to build in a logical statement we can add these into for loops. In this example we will loop through a vector of names and use the `paste()` command to create a string insert."
   ]
  },
  {
   "cell_type": "code",
   "execution_count": null,
   "id": "sought-symposium",
   "metadata": {},
   "outputs": [],
   "source": [
    "for (name in c('John','Jack','Andrew','Joseph','Laura','Grace','Rohit','Haydeh')){\n",
    "    print(paste(\"Hi\", name))\n",
    "}"
   ]
  },
  {
   "cell_type": "markdown",
   "id": "emotional-label",
   "metadata": {},
   "source": [
    "It is simple to add in a logical statement to our loop, for example if we wanted to check if a name had 4 letters in it. Note we use `nchar()` in R to check string length."
   ]
  },
  {
   "cell_type": "code",
   "execution_count": null,
   "id": "comparable-plastic",
   "metadata": {},
   "outputs": [],
   "source": [
    "for (name in c('John','Jack','Andrew','Joseph','Laura','Grace','Rohit','Haydeh')){\n",
    "    if (nchar(name)==4){\n",
    "        print(paste(name, \" has 4 letters\"))\n",
    "    } else{\n",
    "        print(paste(name, \"does not have 4 letters\"))\n",
    "    }\n",
    "}"
   ]
  },
  {
   "cell_type": "markdown",
   "id": "decimal-richards",
   "metadata": {},
   "source": [
    "## While Loops\n",
    "\n",
    "The syntax is similar to before, always remember to add in your exit clause!"
   ]
  },
  {
   "cell_type": "code",
   "execution_count": null,
   "id": "human-balloon",
   "metadata": {},
   "outputs": [],
   "source": [
    "n <- 20\n",
    "\n",
    "while (n>0){\n",
    "    print(paste('Five times ',n,' is ',n*5))\n",
    "    n=n-1\n",
    "}"
   ]
  },
  {
   "cell_type": "markdown",
   "id": "automated-gnome",
   "metadata": {},
   "source": [
    "## Functions"
   ]
  },
  {
   "cell_type": "markdown",
   "id": "superior-carbon",
   "metadata": {},
   "source": [
    "Functions are useful ways of storing our code so we can use them again later. The process of building a function is simple and consists of defining the function and then writing what it does. For example, we can write a function that returns the square root of the difference of two squared numbers. "
   ]
  },
  {
   "cell_type": "code",
   "execution_count": null,
   "id": "direct-consent",
   "metadata": {},
   "outputs": [],
   "source": [
    "sqrt_squared_diff <- function(x,y){\n",
    "    if (x>y){\n",
    "        return (sqrt(x**2-y**2))\n",
    "    } else {\n",
    "        return (sqrt(y**2-x**2))\n",
    "    }    \n",
    "}"
   ]
  },
  {
   "cell_type": "code",
   "execution_count": null,
   "id": "criminal-prior",
   "metadata": {},
   "outputs": [],
   "source": [
    "sqrt_squared_diff(5,8)"
   ]
  },
  {
   "cell_type": "markdown",
   "id": "statewide-vitamin",
   "metadata": {},
   "source": [
    "## Exercise\n",
    "\n",
    "<ol>\n",
    "    <li> Write a loop which squares the numbers from 1 to 20 and prints the result </li>\n",
    "    <li> Write a loop which takes 5 names and prints `TRUE` if the number of characters is greater than 7</li>\n",
    "    <li> Write a loop that counts down from 20, `You have [number] seconds left`. When the number reaches 0 print a `Game Over` statement</li>\n",
    "    <li> Write the game 'FizzBuzz' where if the number is a multiple of 3 it returns 'Fizz', 'Buzz' if it is a multiple of 5 and 'Fizzbuzz' if it is a multiple of both. If it is neither print the number, do this for the numbers from 1 to 100</li>\n",
    "    <li> [Stretch] Write a function that simulates the game 'Rock, Paper, Scissors' you will need to look up R's random and user input functions. Note that your loop should check the player's input is valid. </li>\n",
    "</ol>\n",
    "    "
   ]
  },
  {
   "cell_type": "code",
   "execution_count": null,
   "id": "faced-sleeping",
   "metadata": {},
   "outputs": [],
   "source": [
    "# A:"
   ]
  },
  {
   "cell_type": "markdown",
   "id": "english-accident",
   "metadata": {},
   "source": [
    "Click here for solutions\n",
    "\n",
    "<span style ='color:white'>\n",
    "    \n",
    "#1 for (i in c(1:20)){\n",
    "    print(i**2)\n",
    "}\n",
    "    \n",
    "#2 for (name in c('Andrew','Clara','Alexia','Campbell','Olusegun')){\n",
    "    if (nchar(name)>7){\n",
    "        print (TRUE)\n",
    "    } else {\n",
    "        print (FALSE)\n",
    "    }\n",
    "}\n",
    "\n",
    "#3 n <- 20\n",
    "\n",
    "while (n >=0) {\n",
    "    if (n>0){\n",
    "        print(paste(\"You have \",n,\" seconds left\"))\n",
    "        n=n-1\n",
    "    } else {\n",
    "        print('Game Over')\n",
    "        n=n-1\n",
    "    }\n",
    "}\n",
    "    \n",
    "#4 for (i in c(1:100)){\n",
    "    if (i %% 5 == 0 & i %% 3==0){\n",
    "        print('Fizzbuzz')\n",
    "    } else if (i%%5==0){\n",
    "        print('Fizz')\n",
    "    } else if (i%%3==0){\n",
    "        print('Buzz')\n",
    "    } else{\n",
    "        print(i)\n",
    "    }\n",
    "}\n",
    "    \n",
    "#5 \n",
    "state=TRUE\n",
    "while (state == TRUE){\n",
    "    your_answer <- readline(prompt='Rock, Paper or Scissors: ')\n",
    "    if (your_answer %in% c('Rock','Paper','Scissors')){    \n",
    "    computer_answer <- sample(c('Rock', 'Paper', 'Scissors'),1)\n",
    "    print(paste('Computer picked ',computer_answer))\n",
    "    if (your_answer==computer_answer){\n",
    "        print('Draw!')\n",
    "        state=FALSE\n",
    "    } else if ((your_answer=='Rock' & computer_answer=='Paper') | (your_answer=='Paper' & computer_answer=='Scissors')|(your_answer=='Scissors' & computer_answer=='Rock')){\n",
    "        print('You Lose!')\n",
    "        state=FALSE        \n",
    "    } else {\n",
    "        print('You win!')\n",
    "        state=FALSE\n",
    "    }\n",
    "  } else {\n",
    "        state=TRUE\n",
    "    }\n",
    "}\n",
    "    "
   ]
  },
  {
   "cell_type": "markdown",
   "id": "prompt-speaking",
   "metadata": {},
   "source": [
    "<hr>"
   ]
  },
  {
   "cell_type": "markdown",
   "id": "urban-trainer",
   "metadata": {},
   "source": [
    "<a id=\"exploratory-data-analysis-in-R\"></a>\n",
    "<div class='image' style='position:relative;width:100%;height:60%'>\n",
    "    <img src=\"./Assets/background.PNG\" >\n",
    "    <h2 style ='color:white; font-size: 60px; font-weight:bold; position:absolute; top:150px; left:100px; width:90%'> Exploratory Data Analysis <br> in R </h2>\n",
    "</div>\n",
    "<br>\n",
    "\n",
    "\n"
   ]
  },
  {
   "cell_type": "markdown",
   "id": "excited-newspaper",
   "metadata": {},
   "source": [
    "[Top](#outline)\n",
    "\n",
    "<p><b>Aim:</b> Consider how to perform EDA in R <p>"
   ]
  },
  {
   "cell_type": "markdown",
   "id": "brutal-yeast",
   "metadata": {},
   "source": [
    "<i>'80% of your time spent on a data project will be spent cleaning data, the rest will be spent analysing it'</i> - pretty much every data scientist and analyst ever.\n",
    "\n",
    "We have seen time and time again throughout this course that EDA in an important and unskippable part of the data analytics life cycle. The principles in R are the same as with Python and Excel but the processes are different. We will now look at some common EDA tools you will use with R."
   ]
  },
  {
   "cell_type": "markdown",
   "id": "rapid-dairy",
   "metadata": {},
   "source": [
    "Much of the functionality of R is enhanced by functions and packages. Like in Python, some functions are not preinstalled so we use the cooand `install.packages` to build them in. Note, you only have to install a package once and from then any time you want to use it you just call the name of the package. \n",
    "\n",
    "For this lesson we will use tidyverse which includes everything you can see in this image:\n",
    "<br>\n",
    "<img src=\"./Assets/Session_2/packages.PNG\" >\n",
    "\n",
    "<a href='https://t.co/D5d1988JUp?amp=1'>Cheatsheets</a> are amazing for overviews for specific packages."
   ]
  },
  {
   "cell_type": "code",
   "execution_count": null,
   "id": "political-albania",
   "metadata": {},
   "outputs": [],
   "source": [
    "#For the first time\n",
    "\n",
    "install.packages(\"tidyverse\")"
   ]
  },
  {
   "cell_type": "code",
   "execution_count": 1,
   "id": "exceptional-problem",
   "metadata": {},
   "outputs": [
    {
     "name": "stderr",
     "output_type": "stream",
     "text": [
      "Warning message:\n",
      "\"package 'tidyverse' was built under R version 3.6.3\"-- Attaching packages ------------------------------------------------------------------------------- tidyverse 1.3.0 --\n",
      "v ggplot2 3.3.3     v purrr   0.3.4\n",
      "v tibble  3.0.6     v dplyr   1.0.4\n",
      "v tidyr   1.1.2     v stringr 1.4.0\n",
      "v readr   1.3.1     v forcats 0.4.0\n",
      "Warning message:\n",
      "\"package 'ggplot2' was built under R version 3.6.3\"Warning message:\n",
      "\"package 'tibble' was built under R version 3.6.3\"Warning message:\n",
      "\"package 'tidyr' was built under R version 3.6.3\"Warning message:\n",
      "\"package 'purrr' was built under R version 3.6.3\"Warning message:\n",
      "\"package 'dplyr' was built under R version 3.6.3\"-- Conflicts ---------------------------------------------------------------------------------- tidyverse_conflicts() --\n",
      "x dplyr::filter() masks stats::filter()\n",
      "x dplyr::lag()    masks stats::lag()\n"
     ]
    }
   ],
   "source": [
    "#Every time after\n",
    "library(tidyverse)"
   ]
  },
  {
   "cell_type": "markdown",
   "id": "atlantic-deadline",
   "metadata": {},
   "source": [
    "We are now going to look through some common EDA commands you will use in your analysis."
   ]
  },
  {
   "cell_type": "code",
   "execution_count": 2,
   "id": "heated-boston",
   "metadata": {},
   "outputs": [
    {
     "name": "stderr",
     "output_type": "stream",
     "text": [
      "Parsed with column specification:\n",
      "cols(\n",
      "  item_no = col_double(),\n",
      "  category_name = col_character(),\n",
      "  item_description = col_character(),\n",
      "  vendor = col_double(),\n",
      "  vendor_name = col_character(),\n",
      "  bottle_size = col_double(),\n",
      "  pack = col_double(),\n",
      "  inner_pack = col_double(),\n",
      "  age = col_character(),\n",
      "  proof = col_double(),\n",
      "  list_date = col_datetime(format = \"\"),\n",
      "  upc = col_character(),\n",
      "  scc = col_character(),\n",
      "  bottle_price = col_character(),\n",
      "  shelf_price = col_double(),\n",
      "  case_cost = col_double()\n",
      ")\n",
      "Warning message:\n",
      "\"16 parsing failures.\n",
      " row         col expected actual                  file\n",
      "7811 shelf_price a double   NULL './data/products.csv'\n",
      "7811 case_cost   a double   NULL './data/products.csv'\n",
      "8125 shelf_price a double   NULL './data/products.csv'\n",
      "8125 case_cost   a double   NULL './data/products.csv'\n",
      "8163 shelf_price a double   NULL './data/products.csv'\n",
      ".... ........... ........ ...... .....................\n",
      "See problems(...) for more details.\n",
      "\""
     ]
    }
   ],
   "source": [
    "# Loading a data set\n",
    "data <- read_csv('./data/products.csv')\n",
    "\n",
    "# Note different import functions exist for different data files"
   ]
  },
  {
   "cell_type": "code",
   "execution_count": 3,
   "id": "bearing-orientation",
   "metadata": {},
   "outputs": [
    {
     "data": {
      "text/html": [
       "<table>\n",
       "<thead><tr><th scope=col>item_no</th><th scope=col>category_name</th><th scope=col>item_description</th><th scope=col>vendor</th><th scope=col>vendor_name</th><th scope=col>bottle_size</th><th scope=col>pack</th><th scope=col>inner_pack</th><th scope=col>age</th><th scope=col>proof</th><th scope=col>list_date</th><th scope=col>upc</th><th scope=col>scc</th><th scope=col>bottle_price</th><th scope=col>shelf_price</th><th scope=col>case_cost</th></tr></thead>\n",
       "<tbody>\n",
       "\t<tr><td>904616                                                                    </td><td>MISC. AMERICAN CORDIALS &amp; LIQUEURS                                    </td><td><span style=white-space:pre-wrap>Travis Hasse Apple Pie           </span> </td><td>305                                                                       </td><td><span style=white-space:pre-wrap>Mhw Ltd                           </span></td><td> 750                                                                      </td><td>12                                                                        </td><td>1                                                                         </td><td>NULL                                                                      </td><td>40                                                                        </td><td>2009-02-11                                                                </td><td>NULL                                                                      </td><td><span style=white-space:pre-wrap>NULL          </span>                    </td><td>$9.77                                                                     </td><td>14.66                                                                     </td><td>117.22                                                                    </td></tr>\n",
       "\t<tr><td>904617                                                                   </td><td>MISC. IMPORTED CORDIALS &amp; LIQUEURS                                   </td><td><span style=white-space:pre-wrap>D'aristi Xtabentun               </span></td><td>391                                                                      </td><td>Anchor Distilling (preiss Imports)                                       </td><td> 750                                                                     </td><td>12                                                                       </td><td>1                                                                        </td><td>NULL                                                                     </td><td>60                                                                       </td><td>2009-04-24                                                               </td><td>NULL                                                                     </td><td><span style=white-space:pre-wrap>NULL          </span>                   </td><td>$14.12                                                                   </td><td>21.18                                                                    </td><td>169.40                                                                   </td></tr>\n",
       "\t<tr><td>904618                            </td><td>PEACH BRANDIES                    </td><td>Hiram Walker Peach Brandy         </td><td>370                               </td><td>Pernod Ricard Usa/austin Nichols  </td><td>1000                              </td><td>12                                </td><td>1                                 </td><td>NULL                              </td><td>60                                </td><td>2009-12-16                        </td><td>NULL                              </td><td>89540500867                       </td><td>$6.50                             </td><td> 9.74                             </td><td> 77.94                            </td></tr>\n",
       "\t<tr><td>904619                            </td><td>SCOTCH WHISKIES                   </td><td>Oak Cross Whisky                  </td><td>305                               </td><td>Mhw Ltd                           </td><td> 750                              </td><td> 6                                </td><td>1                                 </td><td>NULL                              </td><td>86                                </td><td>2009-12-24                        </td><td>NULL                              </td><td>NULL                              </td><td>$25.33                            </td><td>38.00                             </td><td>152.00                            </td></tr>\n",
       "\t<tr><td>904620                            </td><td>FLAVORED VODKA                    </td><td>Uv Red(cherry) Vodka              </td><td>380                               </td><td>Phillips Beverage Company         </td><td> 200                              </td><td>24                                </td><td>1                                 </td><td>NULL                              </td><td>60                                </td><td>2009-11-05                        </td><td>NULL                              </td><td>10087100000000                    </td><td>$1.97                             </td><td> 2.96                             </td><td> 47.30                            </td></tr>\n",
       "\t<tr><td>904621                            </td><td>STRAIGHT BOURBON WHISKIES         </td><td>Heaven Hill Old Style White Label </td><td>259                               </td><td>Heaven Hill Distilleries Inc.     </td><td> 750                              </td><td>12                                </td><td>1                                 </td><td>NULL                              </td><td>80                                </td><td>2009-12-04                        </td><td>NULL                              </td><td>NULL                              </td><td>$6.37                             </td><td> 9.55                             </td><td> 76.40                            </td></tr>\n",
       "</tbody>\n",
       "</table>\n"
      ],
      "text/latex": [
       "\\begin{tabular}{r|llllllllllllllll}\n",
       " item\\_no & category\\_name & item\\_description & vendor & vendor\\_name & bottle\\_size & pack & inner\\_pack & age & proof & list\\_date & upc & scc & bottle\\_price & shelf\\_price & case\\_cost\\\\\n",
       "\\hline\n",
       "\t 904616                               & MISC. AMERICAN CORDIALS \\& LIQUEURS & Travis Hasse Apple Pie               & 305                                  & Mhw Ltd                              &  750                                 & 12                                   & 1                                    & NULL                                 & 40                                   & 2009-02-11                           & NULL                                 & NULL                                 & \\$9.77                              & 14.66                                & 117.22                              \\\\\n",
       "\t 904617                               & MISC. IMPORTED CORDIALS \\& LIQUEURS & D'aristi Xtabentun                   & 391                                  & Anchor Distilling (preiss Imports)   &  750                                 & 12                                   & 1                                    & NULL                                 & 60                                   & 2009-04-24                           & NULL                                 & NULL                                 & \\$14.12                             & 21.18                                & 169.40                              \\\\\n",
       "\t 904618                             & PEACH BRANDIES                     & Hiram Walker Peach Brandy          & 370                                & Pernod Ricard Usa/austin Nichols   & 1000                               & 12                                 & 1                                  & NULL                               & 60                                 & 2009-12-16                         & NULL                               & 89540500867                        & \\$6.50                            &  9.74                              &  77.94                            \\\\\n",
       "\t 904619                             & SCOTCH WHISKIES                    & Oak Cross Whisky                   & 305                                & Mhw Ltd                            &  750                               &  6                                 & 1                                  & NULL                               & 86                                 & 2009-12-24                         & NULL                               & NULL                               & \\$25.33                           & 38.00                              & 152.00                            \\\\\n",
       "\t 904620                             & FLAVORED VODKA                     & Uv Red(cherry) Vodka               & 380                                & Phillips Beverage Company          &  200                               & 24                                 & 1                                  & NULL                               & 60                                 & 2009-11-05                         & NULL                               & 10087100000000                     & \\$1.97                            &  2.96                              &  47.30                            \\\\\n",
       "\t 904621                             & STRAIGHT BOURBON WHISKIES          & Heaven Hill Old Style White Label  & 259                                & Heaven Hill Distilleries Inc.      &  750                               & 12                                 & 1                                  & NULL                               & 80                                 & 2009-12-04                         & NULL                               & NULL                               & \\$6.37                            &  9.55                              &  76.40                            \\\\\n",
       "\\end{tabular}\n"
      ],
      "text/markdown": [
       "\n",
       "| item_no | category_name | item_description | vendor | vendor_name | bottle_size | pack | inner_pack | age | proof | list_date | upc | scc | bottle_price | shelf_price | case_cost |\n",
       "|---|---|---|---|---|---|---|---|---|---|---|---|---|---|---|---|\n",
       "| 904616                             | MISC. AMERICAN CORDIALS & LIQUEURS | Travis Hasse Apple Pie             | 305                                | Mhw Ltd                            |  750                               | 12                                 | 1                                  | NULL                               | 40                                 | 2009-02-11                         | NULL                               | NULL                               | $9.77                              | 14.66                              | 117.22                             |\n",
       "| 904617                             | MISC. IMPORTED CORDIALS & LIQUEURS | D'aristi Xtabentun                 | 391                                | Anchor Distilling (preiss Imports) |  750                               | 12                                 | 1                                  | NULL                               | 60                                 | 2009-04-24                         | NULL                               | NULL                               | $14.12                             | 21.18                              | 169.40                             |\n",
       "| 904618                             | PEACH BRANDIES                     | Hiram Walker Peach Brandy          | 370                                | Pernod Ricard Usa/austin Nichols   | 1000                               | 12                                 | 1                                  | NULL                               | 60                                 | 2009-12-16                         | NULL                               | 89540500867                        | $6.50                              |  9.74                              |  77.94                             |\n",
       "| 904619                             | SCOTCH WHISKIES                    | Oak Cross Whisky                   | 305                                | Mhw Ltd                            |  750                               |  6                                 | 1                                  | NULL                               | 86                                 | 2009-12-24                         | NULL                               | NULL                               | $25.33                             | 38.00                              | 152.00                             |\n",
       "| 904620                             | FLAVORED VODKA                     | Uv Red(cherry) Vodka               | 380                                | Phillips Beverage Company          |  200                               | 24                                 | 1                                  | NULL                               | 60                                 | 2009-11-05                         | NULL                               | 10087100000000                     | $1.97                              |  2.96                              |  47.30                             |\n",
       "| 904621                             | STRAIGHT BOURBON WHISKIES          | Heaven Hill Old Style White Label  | 259                                | Heaven Hill Distilleries Inc.      |  750                               | 12                                 | 1                                  | NULL                               | 80                                 | 2009-12-04                         | NULL                               | NULL                               | $6.37                              |  9.55                              |  76.40                             |\n",
       "\n"
      ],
      "text/plain": [
       "  item_no category_name                      item_description                 \n",
       "1 904616  MISC. AMERICAN CORDIALS & LIQUEURS Travis Hasse Apple Pie           \n",
       "2 904617  MISC. IMPORTED CORDIALS & LIQUEURS D'aristi Xtabentun               \n",
       "3 904618  PEACH BRANDIES                     Hiram Walker Peach Brandy        \n",
       "4 904619  SCOTCH WHISKIES                    Oak Cross Whisky                 \n",
       "5 904620  FLAVORED VODKA                     Uv Red(cherry) Vodka             \n",
       "6 904621  STRAIGHT BOURBON WHISKIES          Heaven Hill Old Style White Label\n",
       "  vendor vendor_name                        bottle_size pack inner_pack age \n",
       "1 305    Mhw Ltd                             750        12   1          NULL\n",
       "2 391    Anchor Distilling (preiss Imports)  750        12   1          NULL\n",
       "3 370    Pernod Ricard Usa/austin Nichols   1000        12   1          NULL\n",
       "4 305    Mhw Ltd                             750         6   1          NULL\n",
       "5 380    Phillips Beverage Company           200        24   1          NULL\n",
       "6 259    Heaven Hill Distilleries Inc.       750        12   1          NULL\n",
       "  proof list_date  upc  scc            bottle_price shelf_price case_cost\n",
       "1 40    2009-02-11 NULL NULL           $9.77        14.66       117.22   \n",
       "2 60    2009-04-24 NULL NULL           $14.12       21.18       169.40   \n",
       "3 60    2009-12-16 NULL 89540500867    $6.50         9.74        77.94   \n",
       "4 86    2009-12-24 NULL NULL           $25.33       38.00       152.00   \n",
       "5 60    2009-11-05 NULL 10087100000000 $1.97         2.96        47.30   \n",
       "6 80    2009-12-04 NULL NULL           $6.37         9.55        76.40   "
      ]
     },
     "metadata": {},
     "output_type": "display_data"
    }
   ],
   "source": [
    "# Check the head\n",
    "head(data)"
   ]
  },
  {
   "cell_type": "code",
   "execution_count": null,
   "id": "written-tourism",
   "metadata": {},
   "outputs": [],
   "source": [
    "# Check summary statistics\n",
    "summary(data)"
   ]
  },
  {
   "cell_type": "code",
   "execution_count": 4,
   "id": "prostate-overhead",
   "metadata": {},
   "outputs": [
    {
     "data": {
      "text/plain": [
       "   Min. 1st Qu.  Median    Mean 3rd Qu.    Max. \n",
       "      1       6      12      13      12     288 "
      ]
     },
     "metadata": {},
     "output_type": "display_data"
    }
   ],
   "source": [
    "# For one column\n",
    "summary(data$pack)"
   ]
  },
  {
   "cell_type": "code",
   "execution_count": null,
   "id": "split-journey",
   "metadata": {},
   "outputs": [],
   "source": [
    "# For one statistic\n",
    "sd(data$pack)"
   ]
  },
  {
   "cell_type": "code",
   "execution_count": null,
   "id": "latest-master",
   "metadata": {},
   "outputs": [],
   "source": [
    "# Correlations\n",
    "\n",
    "cor(data$proof,data$bottle_size)"
   ]
  },
  {
   "cell_type": "markdown",
   "id": "practical-collar",
   "metadata": {},
   "source": [
    "## Common Functions"
   ]
  },
  {
   "cell_type": "markdown",
   "id": "answering-symposium",
   "metadata": {},
   "source": [
    "The following table shows the most common functions of tidyverse that you will use:\n",
    "\n",
    "<table style=\" width:100%\">\n",
    "    <tr>\n",
    "        <th style=\"text-align:left; font-size:15px\"><b>Function</b></th>\n",
    "    <th style=\"text-align:left; font-size:15px\"><b>What It Does</b></th>\n",
    "   \n",
    "</tr>\n",
    "<tr>\n",
    "    <td style=\"text-align:left\">filter()</td> \n",
    "    <td style=\"text-align:left\">Include (or exclude) certain rows</td>\n",
    "  \n",
    "</tr>\n",
    "<tr>\n",
    "    <td style=\"text-align:left\">arrange()</td>\n",
    "    <td style=\"text-align:left\">Change the order of observations</td>\n",
    "\n",
    "    \n",
    "</tr>\n",
    "\n",
    "<tr>\n",
    "    <td style=\"text-align:left\">select()</td>\n",
    "    <td style=\"text-align:left\">Include (or exclude) certain columns</td>\n",
    "\n",
    "    \n",
    "</tr>\n",
    "<tr>\n",
    "    <td style=\"text-align:left\">mutate()</td>\n",
    "    <td style=\"text-align:left\">Create new columns</td>\n",
    "\n",
    "    \n",
    "</tr>\n",
    "<tr>\n",
    "    <td style=\"text-align:left\">group_by()</td>\n",
    "    <td style=\"text-align:left\">Organise obervsations into groups</td>\n",
    "\n",
    "    \n",
    "</tr>\n",
    "<tr>\n",
    "    <td style=\"text-align:left\">summarise()</td>\n",
    "    <td style=\"text-align:left\">Derive aggregate statistics for groups of observations</td>\n",
    "\n",
    "    \n",
    "</tr>\n",
    "\n",
    "    \n",
    "    \n",
    "    \n",
    "<tr style=\"border: none\">\n",
    "\n",
    "</tr>\n",
    "\n",
    "</table>"
   ]
  },
  {
   "cell_type": "code",
   "execution_count": 17,
   "id": "extra-register",
   "metadata": {},
   "outputs": [
    {
     "ename": "ERROR",
     "evalue": "Error: Problem with `filter()` input `..1`.\nx could not find function \"%like%\"\ni Input `..1` is `category_name %like% \"PEACH\"`.\n",
     "output_type": "error",
     "traceback": [
      "Error: Problem with `filter()` input `..1`.\nx could not find function \"%like%\"\ni Input `..1` is `category_name %like% \"PEACH\"`.\nTraceback:\n",
      "1. filter(data, category_name %like% \"PEACH\")",
      "2. filter.data.frame(data, category_name %like% \"PEACH\")",
      "3. filter_rows(.data, ...)",
      "4. withCallingHandlers(mask$eval_all_filter(dots, env_filter), error = function(e) {\n .     local_call_step(dots = dots, .index = env_filter$current_expression, \n .         .fn = \"filter\")\n .     abort(c(cnd_bullet_header(), x = conditionMessage(e), i = cnd_bullet_input_info(), \n .         i = cnd_bullet_cur_group_label()), class = \"dplyr_error\")\n . })",
      "5. mask$eval_all_filter(dots, env_filter)",
      "6. .handleSimpleError(function (e) \n . {\n .     local_call_step(dots = dots, .index = env_filter$current_expression, \n .         .fn = \"filter\")\n .     abort(c(cnd_bullet_header(), x = conditionMessage(e), i = cnd_bullet_input_info(), \n .         i = cnd_bullet_cur_group_label()), class = \"dplyr_error\")\n . }, \"could not find function \\\"%like%\\\"\", base::quote(category_name %like% \n .     \"PEACH\"))",
      "7. h(simpleError(msg, call))",
      "8. abort(c(cnd_bullet_header(), x = conditionMessage(e), i = cnd_bullet_input_info(), \n .     i = cnd_bullet_cur_group_label()), class = \"dplyr_error\")",
      "9. signal_abort(cnd)"
     ]
    }
   ],
   "source": [
    "filter(data, category_name %like% 'PEACH')"
   ]
  },
  {
   "cell_type": "code",
   "execution_count": 15,
   "id": "surface-virginia",
   "metadata": {},
   "outputs": [
    {
     "data": {
      "text/html": [
       "<table>\n",
       "<thead><tr><th scope=col>item_no</th><th scope=col>category_name</th><th scope=col>item_description</th><th scope=col>vendor</th><th scope=col>vendor_name</th><th scope=col>bottle_size</th><th scope=col>pack</th><th scope=col>inner_pack</th><th scope=col>age</th><th scope=col>proof</th><th scope=col>list_date</th><th scope=col>upc</th><th scope=col>scc</th><th scope=col>bottle_price</th><th scope=col>shelf_price</th><th scope=col>case_cost</th></tr></thead>\n",
       "<tbody>\n",
       "</tbody>\n",
       "</table>\n"
      ],
      "text/latex": [
       "\\begin{tabular}{r|llllllllllllllll}\n",
       " item\\_no & category\\_name & item\\_description & vendor & vendor\\_name & bottle\\_size & pack & inner\\_pack & age & proof & list\\_date & upc & scc & bottle\\_price & shelf\\_price & case\\_cost\\\\\n",
       "\\hline\n",
       "\\end{tabular}\n"
      ],
      "text/markdown": [
       "\n",
       "| item_no | category_name | item_description | vendor | vendor_name | bottle_size | pack | inner_pack | age | proof | list_date | upc | scc | bottle_price | shelf_price | case_cost |\n",
       "|---|---|---|---|---|---|---|---|---|---|---|---|---|---|---|---|\n",
       "\n"
      ],
      "text/plain": [
       "     item_no category_name item_description vendor vendor_name bottle_size pack\n",
       "     inner_pack age proof list_date upc scc bottle_price shelf_price case_cost"
      ]
     },
     "metadata": {},
     "output_type": "display_data"
    }
   ],
   "source": [
    "filter(data,'Travis' %in% item_description)"
   ]
  },
  {
   "cell_type": "code",
   "execution_count": 5,
   "id": "prime-valuable",
   "metadata": {},
   "outputs": [
    {
     "data": {
      "text/html": [
       "<table>\n",
       "<thead><tr><th scope=col>item_no</th><th scope=col>category_name</th><th scope=col>item_description</th><th scope=col>vendor</th><th scope=col>vendor_name</th><th scope=col>bottle_size</th><th scope=col>pack</th><th scope=col>inner_pack</th><th scope=col>age</th><th scope=col>proof</th><th scope=col>list_date</th><th scope=col>upc</th><th scope=col>scc</th><th scope=col>bottle_price</th><th scope=col>shelf_price</th><th scope=col>case_cost</th></tr></thead>\n",
       "<tbody>\n",
       "\t<tr><td>904616                                                                            </td><td>MISC. AMERICAN CORDIALS &amp; LIQUEURS                                            </td><td><span style=white-space:pre-wrap>Travis Hasse Apple Pie                    </span></td><td>305                                                                               </td><td><span style=white-space:pre-wrap>Mhw Ltd                           </span>        </td><td> 750                                                                              </td><td>12                                                                                </td><td> 1                                                                                </td><td>NULL                                                                              </td><td>40                                                                                </td><td>2009-02-11                                                                        </td><td><span style=white-space:pre-wrap>NULL        </span>                              </td><td><span style=white-space:pre-wrap>NULL          </span>                            </td><td>$9.77                                                                             </td><td>14.66                                                                             </td><td>117.22                                                                            </td></tr>\n",
       "\t<tr><td>904638                                                                            </td><td>MISC. AMERICAN CORDIALS &amp; LIQUEURS                                            </td><td><span style=white-space:pre-wrap>Dekuyper Lemon Drop                       </span></td><td> 65                                                                               </td><td><span style=white-space:pre-wrap>Jim Beam Brands                   </span>        </td><td> 750                                                                              </td><td>12                                                                                </td><td> 1                                                                                </td><td>NULL                                                                              </td><td>40                                                                                </td><td>2010-01-27                                                                        </td><td><span style=white-space:pre-wrap>NULL        </span>                              </td><td>10080700000000                                                                    </td><td>$6.30                                                                             </td><td> 9.45                                                                             </td><td> 75.60                                                                            </td></tr>\n",
       "\t<tr><td>904640                                                                            </td><td>MISC. AMERICAN CORDIALS &amp; LIQUEURS                                            </td><td><span style=white-space:pre-wrap>Dekuyper Alabama Slammer                  </span></td><td> 65                                                                               </td><td><span style=white-space:pre-wrap>Jim Beam Brands                   </span>        </td><td> 750                                                                              </td><td>12                                                                                </td><td> 1                                                                                </td><td>NULL                                                                              </td><td>40                                                                                </td><td>2010-01-27                                                                        </td><td><span style=white-space:pre-wrap>NULL        </span>                              </td><td><span style=white-space:pre-wrap>NULL          </span>                            </td><td>$6.30                                                                             </td><td> 9.45                                                                             </td><td> 75.60                                                                            </td></tr>\n",
       "\t<tr><td>904646                                                                            </td><td>MISC. AMERICAN CORDIALS &amp; LIQUEURS                                            </td><td><span style=white-space:pre-wrap>Sharkwater DNO                            </span></td><td> 89                                                                               </td><td><span style=white-space:pre-wrap>Temperance Distiling Company      </span>        </td><td> 750                                                                              </td><td>12                                                                                </td><td> 1                                                                                </td><td>NULL                                                                              </td><td>40                                                                                </td><td>2009-02-11                                                                        </td><td>94922114464                                                                       </td><td>10094900000000                                                                    </td><td>$10.71                                                                            </td><td>16.07                                                                             </td><td>128.53                                                                            </td></tr>\n",
       "\t<tr><td>904826                                                                            </td><td>MISC. IMPORTED CORDIALS &amp; LIQUEURS                                            </td><td><span style=white-space:pre-wrap>Ty Ku Premium Liqueur                     </span></td><td>469                                                                               </td><td><span style=white-space:pre-wrap>Ty Ku Llc                         </span>        </td><td> 750                                                                              </td><td> 6                                                                                </td><td> 1                                                                                </td><td>NULL                                                                              </td><td>40                                                                                </td><td>2009-06-09                                                                        </td><td><span style=white-space:pre-wrap>NULL        </span>                              </td><td><span style=white-space:pre-wrap>NULL          </span>                            </td><td>$17.00                                                                            </td><td>25.50                                                                             </td><td>102.00                                                                            </td></tr>\n",
       "\t<tr><td>904848                                    </td><td>AMERICAN COCKTAILS                        </td><td>Ice Box Margarita                         </td><td>298                                       </td><td>White Rock Distilleries Inc.              </td><td>1750                                      </td><td> 6                                        </td><td> 1                                        </td><td>NULL                                      </td><td>40                                        </td><td>2010-08-12                                </td><td>NULL                                      </td><td>NULL                                      </td><td>$6.50                                     </td><td> 9.75                                     </td><td> 39.00                                    </td></tr>\n",
       "\t<tr><td>904855                                                                                </td><td><span style=white-space:pre-wrap>CREAM LIQUEURS                    </span>            </td><td><span style=white-space:pre-wrap>Rothman &amp; Winter Creme De Violette        </span></td><td>305                                                                                   </td><td><span style=white-space:pre-wrap>Mhw Ltd                           </span>            </td><td> 750                                                                                  </td><td>12                                                                                    </td><td> 1                                                                                    </td><td>NULL                                                                                  </td><td>40                                                                                    </td><td>2010-08-19                                                                            </td><td><span style=white-space:pre-wrap>NULL        </span>                                  </td><td><span style=white-space:pre-wrap>904855        </span>                                </td><td>$13.33                                                                                </td><td>20.00                                                                                 </td><td>160.00                                                                                </td></tr>\n",
       "\t<tr><td>904869                                    </td><td>FLAVORED RUM                              </td><td>Don Q Mojito Rum                          </td><td>451                                       </td><td>Serralles Usa                             </td><td> 750                                      </td><td>12                                        </td><td> 1                                        </td><td>NULL                                      </td><td>40                                        </td><td>2010-08-25                                </td><td>NULL                                      </td><td>NULL                                      </td><td>$6.41                                     </td><td> 9.62                                     </td><td> 76.94                                    </td></tr>\n",
       "\t<tr><td>904887                                    </td><td>FLAVORED RUM                              </td><td>Don Q Mojito Rum                          </td><td>451                                       </td><td>Serralles Usa                             </td><td>1000                                      </td><td>12                                        </td><td> 1                                        </td><td>NULL                                      </td><td>40                                        </td><td>2010-08-27                                </td><td>82301100801                               </td><td>NULL                                      </td><td>$9.50                                     </td><td>14.24                                     </td><td>113.94                                    </td></tr>\n",
       "\t<tr><td>904982                                    </td><td>IMPORTED GRAPE BRANDIES                   </td><td>Conjure                                   </td><td>305                                       </td><td>Mhw Ltd                                   </td><td> 375                                      </td><td>12                                        </td><td> 1                                        </td><td>NULL                                      </td><td>40                                        </td><td>2011-02-16                                </td><td>NULL                                      </td><td>10081400000000                            </td><td>$10.50                                    </td><td>15.75                                     </td><td>126.00                                    </td></tr>\n",
       "\t<tr><td> 15616                                    </td><td>IRISH WHISKIES                            </td><td>Irishman Single Malt                      </td><td>357                                       </td><td>Palm Bay Imports Inc.                     </td><td> 750                                      </td><td> 6                                        </td><td> 1                                        </td><td>NULL                                      </td><td>40                                        </td><td>2013-11-01                                </td><td>86785581040                               </td><td>70086800000000                            </td><td>$24.67                                    </td><td>37.01                                     </td><td>147.97                                    </td></tr>\n",
       "\t<tr><td> 15617                                    </td><td>IRISH WHISKIES                            </td><td>Irishman Original Clan Irish Whiskey      </td><td>357                                       </td><td>Palm Bay Imports Inc.                     </td><td> 750                                      </td><td> 6                                        </td><td> 1                                        </td><td>NULL                                      </td><td>40                                        </td><td>2013-08-01                                </td><td>86785581026                               </td><td>70086800000000                            </td><td>$16.67                                    </td><td>25.01                                     </td><td> 99.97                                    </td></tr>\n",
       "\t<tr><td><span style=white-space:pre-wrap>  2496</span>                                    </td><td><span style=white-space:pre-wrap>DECANTERS &amp; SPECIALTY PACKAGES    </span>    </td><td><span style=white-space:pre-wrap>Starbucks Coffee Liqueur With Mug         </span></td><td> 65                                                                               </td><td><span style=white-space:pre-wrap>Jim Beam Brands                   </span>        </td><td> 750                                                                              </td><td> 6                                                                                </td><td> 1                                                                                </td><td>NULL                                                                              </td><td>40                                                                                </td><td>2006-09-01                                                                        </td><td><span style=white-space:pre-wrap>NULL        </span>                              </td><td><span style=white-space:pre-wrap>NULL          </span>                            </td><td>$12.06                                                                            </td><td>18.09                                                                             </td><td> 72.37                                                                            </td></tr>\n",
       "\t<tr><td><span style=white-space:pre-wrap>  2503</span>                                    </td><td><span style=white-space:pre-wrap>DECANTERS &amp; SPECIALTY PACKAGES    </span>    </td><td><span style=white-space:pre-wrap>Starbucks Holiday Gift 05                 </span></td><td> 65                                                                               </td><td><span style=white-space:pre-wrap>Jim Beam Brands                   </span>        </td><td> 750                                                                              </td><td> 6                                                                                </td><td> 1                                                                                </td><td>NULL                                                                              </td><td>40                                                                                </td><td>2005-10-01                                                                        </td><td><span style=white-space:pre-wrap>NULL        </span>                              </td><td><span style=white-space:pre-wrap>NULL          </span>                            </td><td>$12.99                                                                            </td><td>19.49                                                                             </td><td> 77.96                                                                            </td></tr>\n",
       "\t<tr><td><span style=white-space:pre-wrap>  2760</span>                                    </td><td><span style=white-space:pre-wrap>DECANTERS &amp; SPECIALTY PACKAGES    </span>    </td><td><span style=white-space:pre-wrap>Kahlua W/2 Glasses                        </span></td><td>370                                                                               </td><td><span style=white-space:pre-wrap>Pernod Ricard Usa/austin Nichols  </span>        </td><td> 750                                                                              </td><td> 6                                                                                </td><td> 1                                                                                </td><td>NULL                                                                              </td><td>40                                                                                </td><td>2006-08-01                                                                        </td><td><span style=white-space:pre-wrap>NULL        </span>                              </td><td><span style=white-space:pre-wrap>NULL          </span>                            </td><td>$11.11                                                                            </td><td>16.67                                                                             </td><td> 66.68                                                                            </td></tr>\n",
       "\t<tr><td><span style=white-space:pre-wrap>  2774</span>                                    </td><td><span style=white-space:pre-wrap>DECANTERS &amp; SPECIALTY PACKAGES    </span>    </td><td><span style=white-space:pre-wrap>Kahlua W/2 Glasses                        </span></td><td>370                                                                               </td><td><span style=white-space:pre-wrap>Pernod Ricard Usa/austin Nichols  </span>        </td><td> 750                                                                              </td><td> 6                                                                                </td><td> 1                                                                                </td><td>NULL                                                                              </td><td>40                                                                                </td><td>2006-09-01                                                                        </td><td><span style=white-space:pre-wrap>NULL        </span>                              </td><td><span style=white-space:pre-wrap>NULL          </span>                            </td><td>$11.11                                                                            </td><td>16.67                                                                             </td><td> 66.68                                                                            </td></tr>\n",
       "\t<tr><td><span style=white-space:pre-wrap>  2779</span>                                    </td><td><span style=white-space:pre-wrap>DECANTERS &amp; SPECIALTY PACKAGES    </span>    </td><td><span style=white-space:pre-wrap>Kahlua Tin                                </span></td><td>370                                                                               </td><td><span style=white-space:pre-wrap>Pernod Ricard Usa/austin Nichols  </span>        </td><td> 750                                                                              </td><td> 6                                                                                </td><td> 1                                                                                </td><td>NULL                                                                              </td><td>40                                                                                </td><td>2012-10-01                                                                        </td><td>89540504810                                                                       </td><td>10089500000000                                                                    </td><td>$12.00                                                                            </td><td>18.00                                                                             </td><td> 71.97                                                                            </td></tr>\n",
       "\t<tr><td><span style=white-space:pre-wrap>  2795</span>                                    </td><td><span style=white-space:pre-wrap>DECANTERS &amp; SPECIALTY PACKAGES    </span>    </td><td><span style=white-space:pre-wrap>Kamora With Glasses                       </span></td><td> 65                                                                               </td><td><span style=white-space:pre-wrap>Jim Beam Brands                   </span>        </td><td> 750                                                                              </td><td> 6                                                                                </td><td> 1                                                                                </td><td>NULL                                                                              </td><td>40                                                                                </td><td>2002-08-01                                                                        </td><td><span style=white-space:pre-wrap>NULL        </span>                              </td><td><span style=white-space:pre-wrap>NULL          </span>                            </td><td>$6.39                                                                             </td><td> 9.59                                                                             </td><td> 38.36                                                                            </td></tr>\n",
       "\t<tr><td><span style=white-space:pre-wrap>  2798</span>                                    </td><td><span style=white-space:pre-wrap>DECANTERS &amp; SPECIALTY PACKAGES    </span>    </td><td><span style=white-space:pre-wrap>Kamora W/6 Pina Colada                    </span></td><td> 65                                                                               </td><td><span style=white-space:pre-wrap>Jim Beam Brands                   </span>        </td><td> 750                                                                              </td><td> 6                                                                                </td><td> 1                                                                                </td><td>NULL                                                                              </td><td>40                                                                                </td><td>2002-08-01                                                                        </td><td><span style=white-space:pre-wrap>NULL        </span>                              </td><td><span style=white-space:pre-wrap>NULL          </span>                            </td><td>$6.39                                                                             </td><td> 9.59                                                                             </td><td> 38.36                                                                            </td></tr>\n",
       "\t<tr><td><span style=white-space:pre-wrap>  2825</span>                                    </td><td><span style=white-space:pre-wrap>DECANTERS &amp; SPECIALTY PACKAGES    </span>    </td><td><span style=white-space:pre-wrap>Kahlua W/4 Stoli Flavored Minis           </span></td><td>490                                                                               </td><td>Allied Domecq Spirits And Wine Usa                                                </td><td> 750                                                                              </td><td> 6                                                                                </td><td> 1                                                                                </td><td>NULL                                                                              </td><td>40                                                                                </td><td>2005-09-01                                                                        </td><td><span style=white-space:pre-wrap>NULL        </span>                              </td><td><span style=white-space:pre-wrap>NULL          </span>                            </td><td>$11.11                                                                            </td><td>16.67                                                                             </td><td> 66.67                                                                            </td></tr>\n",
       "\t<tr><td><span style=white-space:pre-wrap>  2826</span>                                    </td><td><span style=white-space:pre-wrap>DECANTERS &amp; SPECIALTY PACKAGES    </span>    </td><td><span style=white-space:pre-wrap>Kahlua W/4 Stoli Flavored Minis           </span></td><td>370                                                                               </td><td><span style=white-space:pre-wrap>Pernod Ricard Usa/austin Nichols  </span>        </td><td> 750                                                                              </td><td> 6                                                                                </td><td> 1                                                                                </td><td>NULL                                                                              </td><td>40                                                                                </td><td>2005-09-01                                                                        </td><td><span style=white-space:pre-wrap>NULL        </span>                              </td><td><span style=white-space:pre-wrap>NULL          </span>                            </td><td>$11.11                                                                            </td><td>16.67                                                                             </td><td> 66.67                                                                            </td></tr>\n",
       "\t<tr><td><span style=white-space:pre-wrap>  2833</span>                                    </td><td><span style=white-space:pre-wrap>DECANTERS &amp; SPECIALTY PACKAGES    </span>    </td><td><span style=white-space:pre-wrap>Kahlua W/fondue Set                       </span></td><td>370                                                                               </td><td><span style=white-space:pre-wrap>Pernod Ricard Usa/austin Nichols  </span>        </td><td> 750                                                                              </td><td> 6                                                                                </td><td> 1                                                                                </td><td>NULL                                                                              </td><td>40                                                                                </td><td>2007-08-01                                                                        </td><td><span style=white-space:pre-wrap>NULL        </span>                              </td><td><span style=white-space:pre-wrap>NULL          </span>                            </td><td>$11.61                                                                            </td><td>17.42                                                                             </td><td> 69.68                                                                            </td></tr>\n",
       "\t<tr><td><span style=white-space:pre-wrap>  2836</span>                                    </td><td><span style=white-space:pre-wrap>DECANTERS &amp; SPECIALTY PACKAGES    </span>    </td><td><span style=white-space:pre-wrap>Kahlua w/Mug and 3-50ml Flavors           </span></td><td>370                                                                               </td><td><span style=white-space:pre-wrap>Pernod Ricard Usa/austin Nichols  </span>        </td><td> 750                                                                              </td><td> 6                                                                                </td><td> 4                                                                                </td><td>NULL                                                                              </td><td>40                                                                                </td><td>2011-09-01                                                                        </td><td>89540503707                                                                       </td><td>10089500000000                                                                    </td><td>$11.62                                                                            </td><td>17.43                                                                             </td><td> 69.68                                                                            </td></tr>\n",
       "\t<tr><td><span style=white-space:pre-wrap>  2889</span>                                    </td><td><span style=white-space:pre-wrap>DECANTERS &amp; SPECIALTY PACKAGES    </span>    </td><td><span style=white-space:pre-wrap>Kahlua Sampler Pack                       </span></td><td>370                                                                               </td><td><span style=white-space:pre-wrap>Pernod Ricard Usa/austin Nichols  </span>        </td><td> 250                                                                              </td><td>24                                                                                </td><td> 5                                                                                </td><td>NULL                                                                              </td><td>40                                                                                </td><td>2013-10-01                                                                        </td><td>89540504674                                                                       </td><td>10089500000000                                                                    </td><td>$3.49                                                                             </td><td> 5.24                                                                             </td><td> 83.76                                                                            </td></tr>\n",
       "\t<tr><td><span style=white-space:pre-wrap>  3346</span>                                    </td><td><span style=white-space:pre-wrap>DECANTERS &amp; SPECIALTY PACKAGES    </span>    </td><td><span style=white-space:pre-wrap>Frangelico w/Candle                       </span></td><td>461                                                                               </td><td><span style=white-space:pre-wrap>Campari(skyy)                     </span>        </td><td> 750                                                                              </td><td> 6                                                                                </td><td> 1                                                                                </td><td>NULL                                                                              </td><td>40                                                                                </td><td>2014-12-01                                                                        </td><td>721059000000                                                                      </td><td>10721100000000                                                                    </td><td>$13.50                                                                            </td><td>20.25                                                                             </td><td> 80.97                                                                            </td></tr>\n",
       "\t<tr><td><span style=white-space:pre-wrap>  3373</span>                                    </td><td><span style=white-space:pre-wrap>DECANTERS &amp; SPECIALTY PACKAGES    </span>    </td><td><span style=white-space:pre-wrap>Kahlua Sampler Pack                       </span></td><td>370                                                                               </td><td><span style=white-space:pre-wrap>Pernod Ricard Usa/austin Nichols  </span>        </td><td>3000                                                                              </td><td> 2                                                                                </td><td>60                                                                                </td><td>NULL                                                                              </td><td>40                                                                                </td><td>2012-10-01                                                                        </td><td>89540504827                                                                       </td><td>10089500000000                                                                    </td><td>$53.94                                                                            </td><td>80.91                                                                             </td><td>107.88                                                                            </td></tr>\n",
       "\t<tr><td>963558                                    </td><td>AMERICAN COCKTAILS                        </td><td>Tgi Fridays Kosmic Kaze Shooter Chargeback</td><td>260                                       </td><td>Diageo Americas                           </td><td>  50                                      </td><td>60                                        </td><td> 1                                        </td><td>NULL                                      </td><td>40                                        </td><td>1995-06-01                                </td><td>NULL                                      </td><td>NULL                                      </td><td>$0.64                                     </td><td> 0.95                                     </td><td> 38.15                                    </td></tr>\n",
       "\t<tr><td>965266                                    </td><td>IMPORTED VODKA                            </td><td>Jinro Chamisul Classic Soju               </td><td>293                                       </td><td>Jinro America Inc                         </td><td> 375                                      </td><td>24                                        </td><td> 1                                        </td><td>NULL                                      </td><td>40                                        </td><td>2013-09-20                                </td><td>NULL                                      </td><td>10795700000000                            </td><td>$3.63                                     </td><td> 5.45                                     </td><td> 87.00                                    </td></tr>\n",
       "\t<tr><td>965269                                    </td><td>IMPORTED VODKA                            </td><td>Jinro Chamisul Classic Soju               </td><td>293                                       </td><td>Jinro America Inc                         </td><td> 750                                      </td><td>12                                        </td><td> 1                                        </td><td>NULL                                      </td><td>40                                        </td><td>2013-09-20                                </td><td>NULL                                      </td><td>NULL                                      </td><td>$7.25                                     </td><td>10.88                                     </td><td> 87.00                                    </td></tr>\n",
       "\t<tr><td>966053                                                                            </td><td>MISC. IMPORTED CORDIALS &amp; LIQUEURS                                            </td><td><span style=white-space:pre-wrap>Nuvo Peach Cobbler                        </span></td><td>305                                                                               </td><td><span style=white-space:pre-wrap>Mhw Ltd                           </span>        </td><td> 200                                                                              </td><td>12                                                                                </td><td> 1                                                                                </td><td>NULL                                                                              </td><td>40                                                                                </td><td>2013-01-08                                                                        </td><td>88076178151                                                                       </td><td><span style=white-space:pre-wrap>966053        </span>                            </td><td>$5.99                                                                             </td><td> 8.99                                                                             </td><td> 71.91                                                                            </td></tr>\n",
       "\t<tr><td>...</td><td>...</td><td>...</td><td>...</td><td>...</td><td>...</td><td>...</td><td>...</td><td>...</td><td>...</td><td>...</td><td>...</td><td>...</td><td>...</td><td>...</td><td>...</td></tr>\n",
       "\t<tr><td>902854                                                                             </td><td><span style=white-space:pre-wrap>AMERICAN COCKTAILS                </span>         </td><td><span style=white-space:pre-wrap>Seagram Blue Beast Gin &amp; Juice         </span></td><td>370                                                                                </td><td>Pernod Ricard Usa/austin Nichols                                                   </td><td> 750                                                                               </td><td>12                                                                                 </td><td>1                                                                                  </td><td>NULL                                                                               </td><td>40                                                                                 </td><td>2000-11-20                                                                         </td><td>80432401446                                                                        </td><td><span style=white-space:pre-wrap>NULL          </span>                             </td><td>$4.99                                                                              </td><td> 7.49                                                                              </td><td> 59.88                                                                             </td></tr>\n",
       "\t<tr><td>902881                                                                             </td><td><span style=white-space:pre-wrap>AMERICAN COCKTAILS                </span>         </td><td><span style=white-space:pre-wrap>Seagram Red Blast Gin &amp; Juice(dno)     </span></td><td>370                                                                                </td><td>Pernod Ricard Usa/austin Nichols                                                   </td><td> 750                                                                               </td><td>12                                                                                 </td><td>1                                                                                  </td><td>NULL                                                                               </td><td>40                                                                                 </td><td>2000-11-20                                                                         </td><td><span style=white-space:pre-wrap>NULL       </span>                                </td><td><span style=white-space:pre-wrap>NULL          </span>                             </td><td>$4.57                                                                              </td><td> 6.85                                                                              </td><td> 54.80                                                                             </td></tr>\n",
       "\t<tr><td>902903                                 </td><td>COFFEE LIQUEURS                        </td><td>Kahlua French Vanilla                  </td><td>370                                    </td><td>Pernod Ricard Usa/austin Nichols       </td><td> 750                                   </td><td>12                                     </td><td>1                                      </td><td>NULL                                   </td><td>40                                     </td><td>2007-04-19                             </td><td>NULL                                   </td><td>NULL                                   </td><td>$11.61                                 </td><td>17.42                                  </td><td>139.36                                 </td></tr>\n",
       "\t<tr><td>902906                                                                             </td><td><span style=white-space:pre-wrap>AMERICAN COCKTAILS                </span>         </td><td><span style=white-space:pre-wrap>Seagram Passion Gin &amp; Juice            </span></td><td>370                                                                                </td><td>Pernod Ricard Usa/austin Nichols                                                   </td><td> 200                                                                               </td><td>48                                                                                 </td><td>1                                                                                  </td><td>NULL                                                                               </td><td>40                                                                                 </td><td>1997-04-02                                                                         </td><td><span style=white-space:pre-wrap>NULL       </span>                                </td><td><span style=white-space:pre-wrap>NULL          </span>                             </td><td>$1.48                                                                              </td><td> 2.22                                                                              </td><td> 70.97                                                                             </td></tr>\n",
       "\t<tr><td>902908                                                                             </td><td><span style=white-space:pre-wrap>AMERICAN COCKTAILS                </span>         </td><td><span style=white-space:pre-wrap>Seag Lemon Splash G&amp;j (dno)            </span></td><td>370                                                                                </td><td>Pernod Ricard Usa/austin Nichols                                                   </td><td> 200                                                                               </td><td>48                                                                                 </td><td>1                                                                                  </td><td>NULL                                                                               </td><td>40                                                                                 </td><td>2000-01-11                                                                         </td><td><span style=white-space:pre-wrap>NULL       </span>                                </td><td><span style=white-space:pre-wrap>NULL          </span>                             </td><td>$1.48                                                                              </td><td> 2.22                                                                              </td><td> 70.97                                                                             </td></tr>\n",
       "\t<tr><td>902953                                                                             </td><td><span style=white-space:pre-wrap>AMERICAN COCKTAILS                </span>         </td><td><span style=white-space:pre-wrap>Seagram Passion Gin &amp; Juice            </span></td><td>370                                                                                </td><td>Pernod Ricard Usa/austin Nichols                                                   </td><td> 750                                                                               </td><td>12                                                                                 </td><td>1                                                                                  </td><td>NULL                                                                               </td><td>40                                                                                 </td><td>2000-11-20                                                                         </td><td><span style=white-space:pre-wrap>NULL       </span>                                </td><td><span style=white-space:pre-wrap>NULL          </span>                             </td><td>$4.57                                                                              </td><td> 6.86                                                                              </td><td> 54.80                                                                             </td></tr>\n",
       "\t<tr><td>902965                                                                         </td><td>MISC. IMPORTED CORDIALS &amp; LIQUEURS                                         </td><td><span style=white-space:pre-wrap>Alize Blue                             </span></td><td>295                                                                            </td><td><span style=white-space:pre-wrap>Kobrand Corporation             </span>       </td><td> 200                                                                           </td><td>24                                                                             </td><td>1                                                                              </td><td>NULL                                                                           </td><td>40                                                                             </td><td>2004-11-01                                                                     </td><td><span style=white-space:pre-wrap>NULL       </span>                            </td><td><span style=white-space:pre-wrap>NULL          </span>                         </td><td>$2.81                                                                          </td><td> 4.22                                                                          </td><td> 67.45                                                                         </td></tr>\n",
       "\t<tr><td>903003                                                                         </td><td>MISC. IMPORTED CORDIALS &amp; LIQUEURS                                         </td><td><span style=white-space:pre-wrap>Massenez Creme De Framboise            </span></td><td>150                                                                            </td><td><span style=white-space:pre-wrap>Dreyfus Ashby Co.               </span>       </td><td> 750                                                                           </td><td> 6                                                                             </td><td>1                                                                              </td><td>NULL                                                                           </td><td>40                                                                             </td><td>2007-05-07                                                                     </td><td><span style=white-space:pre-wrap>NULL       </span>                            </td><td><span style=white-space:pre-wrap>NULL          </span>                         </td><td>$17.67                                                                         </td><td>26.51                                                                          </td><td>106.00                                                                         </td></tr>\n",
       "\t<tr><td>903063                                                                         </td><td>MISC. IMPORTED CORDIALS &amp; LIQUEURS                                         </td><td><span style=white-space:pre-wrap>Massenez Creme De Mure                 </span></td><td>150                                                                            </td><td><span style=white-space:pre-wrap>Dreyfus Ashby Co.               </span>       </td><td> 750                                                                           </td><td> 6                                                                             </td><td>1                                                                              </td><td>NULL                                                                           </td><td>40                                                                             </td><td>2007-05-07                                                                     </td><td><span style=white-space:pre-wrap>NULL       </span>                            </td><td><span style=white-space:pre-wrap>NULL          </span>                         </td><td>$17.67                                                                         </td><td>26.51                                                                          </td><td>106.00                                                                         </td></tr>\n",
       "\t<tr><td>903101                                                                         </td><td>MISC. IMPORTED CORDIALS &amp; LIQUEURS                                         </td><td><span style=white-space:pre-wrap>Massenez Creme De Fraise De Bois       </span></td><td>150                                                                            </td><td><span style=white-space:pre-wrap>Dreyfus Ashby Co.               </span>       </td><td> 750                                                                           </td><td> 6                                                                             </td><td>1                                                                              </td><td>NULL                                                                           </td><td>40                                                                             </td><td>2007-05-07                                                                     </td><td><span style=white-space:pre-wrap>NULL       </span>                            </td><td><span style=white-space:pre-wrap>NULL          </span>                         </td><td>$17.67                                                                         </td><td>26.51                                                                          </td><td>106.00                                                                         </td></tr>\n",
       "\t<tr><td>903138                                                                         </td><td>MISC. IMPORTED CORDIALS &amp; LIQUEURS                                         </td><td><span style=white-space:pre-wrap>Alize Blue                             </span></td><td>295                                                                            </td><td><span style=white-space:pre-wrap>Kobrand Corporation             </span>       </td><td> 750                                                                           </td><td>12                                                                             </td><td>1                                                                              </td><td>NULL                                                                           </td><td>40                                                                             </td><td>2004-11-01                                                                     </td><td><span style=white-space:pre-wrap>NULL       </span>                            </td><td><span style=white-space:pre-wrap>84692474301   </span>                         </td><td>$11.63                                                                         </td><td>17.45                                                                          </td><td>139.50                                                                         </td></tr>\n",
       "\t<tr><td>903147                                                                         </td><td>MISC. IMPORTED CORDIALS &amp; LIQUEURS                                         </td><td><span style=white-space:pre-wrap>Alize Blue                             </span></td><td>295                                                                            </td><td><span style=white-space:pre-wrap>Kobrand Corporation             </span>       </td><td> 375                                                                           </td><td>12                                                                             </td><td>1                                                                              </td><td>NULL                                                                           </td><td>40                                                                             </td><td>2004-10-01                                                                     </td><td><span style=white-space:pre-wrap>NULL       </span>                            </td><td><span style=white-space:pre-wrap>84692474400   </span>                         </td><td>$5.63                                                                          </td><td> 8.45                                                                          </td><td> 67.50                                                                         </td></tr>\n",
       "\t<tr><td>903171                                                                             </td><td><span style=white-space:pre-wrap>AMERICAN COCKTAILS                </span>         </td><td><span style=white-space:pre-wrap>Seagram Lemon Splash Gin &amp; Juice       </span></td><td>370                                                                                </td><td>Pernod Ricard Usa/austin Nichols                                                   </td><td> 750                                                                               </td><td>12                                                                                 </td><td>1                                                                                  </td><td>NULL                                                                               </td><td>40                                                                                 </td><td>2001-03-19                                                                         </td><td><span style=white-space:pre-wrap>NULL       </span>                                </td><td><span style=white-space:pre-wrap>NULL          </span>                             </td><td>$4.57                                                                              </td><td> 6.86                                                                              </td><td> 54.80                                                                             </td></tr>\n",
       "\t<tr><td>903227                                 </td><td>APPLE SCHNAPPS                         </td><td>Colonial Club Apple Schnapps           </td><td>350                                    </td><td>Luxco-cleveland                        </td><td> 750                                   </td><td>12                                     </td><td>1                                      </td><td>NULL                                   </td><td>40                                     </td><td>2002-02-11                             </td><td>NULL                                   </td><td>NULL                                   </td><td>$2.83                                  </td><td> 4.25                                  </td><td> 33.96                                 </td></tr>\n",
       "\t<tr><td>903300                                                                             </td><td><span style=white-space:pre-wrap>AMERICAN COCKTAILS                </span>         </td><td><span style=white-space:pre-wrap>Seagram Hunch Punch Gin &amp; Juice        </span></td><td>370                                                                                </td><td>Pernod Ricard Usa/austin Nichols                                                   </td><td> 750                                                                               </td><td>12                                                                                 </td><td>1                                                                                  </td><td>NULL                                                                               </td><td>40                                                                                 </td><td>2001-03-19                                                                         </td><td><span style=white-space:pre-wrap>NULL       </span>                                </td><td><span style=white-space:pre-wrap>NULL          </span>                             </td><td>$4.57                                                                              </td><td> 6.85                                                                              </td><td> 54.80                                                                             </td></tr>\n",
       "\t<tr><td>903494                                                                             </td><td><span style=white-space:pre-wrap>AMERICAN COCKTAILS                </span>         </td><td><span style=white-space:pre-wrap>Seagram Tropical Gin &amp; Juice           </span></td><td>370                                                                                </td><td>Pernod Ricard Usa/austin Nichols                                                   </td><td> 750                                                                               </td><td>12                                                                                 </td><td>1                                                                                  </td><td>NULL                                                                               </td><td>40                                                                                 </td><td>2001-05-01                                                                         </td><td><span style=white-space:pre-wrap>NULL       </span>                                </td><td>10080400000000                                                                     </td><td>$4.57                                                                              </td><td> 6.85                                                                              </td><td> 54.80                                                                             </td></tr>\n",
       "\t<tr><td>903527                                                                         </td><td>MISC. AMERICAN CORDIALS &amp; LIQUEURS                                         </td><td><span style=white-space:pre-wrap>Hiram Walker Melon Liqueur             </span></td><td>370                                                                            </td><td>Pernod Ricard Usa/austin Nichols                                               </td><td> 750                                                                           </td><td>12                                                                             </td><td>1                                                                              </td><td>NULL                                                                           </td><td>40                                                                             </td><td>2008-08-01                                                                     </td><td><span style=white-space:pre-wrap>NULL       </span>                            </td><td>10089500000000                                                                 </td><td>$4.00                                                                          </td><td> 5.99                                                                          </td><td> 47.94                                                                         </td></tr>\n",
       "\t<tr><td>903547                                                                         </td><td>MISC. IMPORTED CORDIALS &amp; LIQUEURS                                         </td><td><span style=white-space:pre-wrap>Massenez Creme De Peche                </span></td><td>150                                                                            </td><td><span style=white-space:pre-wrap>Dreyfus Ashby Co.               </span>       </td><td> 750                                                                           </td><td> 6                                                                             </td><td>1                                                                              </td><td>NULL                                                                           </td><td>40                                                                             </td><td>2007-05-07                                                                     </td><td><span style=white-space:pre-wrap>NULL       </span>                            </td><td><span style=white-space:pre-wrap>NULL          </span>                         </td><td>$17.67                                                                         </td><td>26.51                                                                          </td><td>106.00                                                                         </td></tr>\n",
       "\t<tr><td>903586                                                                         </td><td>MISC. IMPORTED CORDIALS &amp; LIQUEURS                                         </td><td><span style=white-space:pre-wrap>Massenez Creme De Cassis De Dijon      </span></td><td>150                                                                            </td><td><span style=white-space:pre-wrap>Dreyfus Ashby Co.               </span>       </td><td> 750                                                                           </td><td> 6                                                                             </td><td>1                                                                              </td><td>NULL                                                                           </td><td>40                                                                             </td><td>2007-05-07                                                                     </td><td><span style=white-space:pre-wrap>NULL       </span>                            </td><td><span style=white-space:pre-wrap>NULL          </span>                         </td><td>$17.67                                                                         </td><td>26.51                                                                          </td><td>106.00                                                                         </td></tr>\n",
       "\t<tr><td>903642                                 </td><td>MISCELLANEOUS BRANDIES                 </td><td>Kajmir(dno)                            </td><td>115                                    </td><td>Constellation Wine Company Inc.        </td><td> 750                                   </td><td>12                                     </td><td>1                                      </td><td>NULL                                   </td><td>40                                     </td><td>2009-01-06                             </td><td>NULL                                   </td><td>NULL                                   </td><td>$10.00                                 </td><td>15.00                                  </td><td>119.94                                 </td></tr>\n",
       "\t<tr><td>903727                                                                             </td><td><span style=white-space:pre-wrap>AMERICAN COCKTAILS                </span>         </td><td><span style=white-space:pre-wrap>Seagram Red Grapefruit Gin &amp;(dno)      </span></td><td>370                                                                                </td><td>Pernod Ricard Usa/austin Nichols                                                   </td><td> 375                                                                               </td><td>24                                                                                 </td><td>1                                                                                  </td><td>NULL                                                                               </td><td>40                                                                                 </td><td>2003-04-01                                                                         </td><td>80432403457                                                                        </td><td><span style=white-space:pre-wrap>NULL          </span>                             </td><td>$2.66                                                                              </td><td> 3.99                                                                              </td><td> 63.89                                                                             </td></tr>\n",
       "\t<tr><td>903792                                                </td><td>MISC. IMPORTED CORDIALS &amp; LIQUEURS                </td><td>Gabriel Boudier Cassis(need New Vendor)               </td><td>370                                                   </td><td>Pernod Ricard Usa/austin Nichols                      </td><td> 750                                                  </td><td>12                                                    </td><td>1                                                     </td><td>NULL                                                  </td><td>40                                                    </td><td>1990-08-15                                            </td><td><span style=white-space:pre-wrap>NULL       </span>   </td><td><span style=white-space:pre-wrap>NULL          </span></td><td>$10.33                                                </td><td>15.50                                                 </td><td>123.90                                                </td></tr>\n",
       "\t<tr><td>903808                                 </td><td>FLAVORED RUM                           </td><td>Whaler's Killer Coconut Rum            </td><td>259                                    </td><td>Heaven Hill Distilleries Inc.          </td><td> 750                                   </td><td>12                                     </td><td>1                                      </td><td>NULL                                   </td><td>40                                     </td><td>2004-12-20                             </td><td>NULL                                   </td><td>10677100000000                         </td><td>$6.94                                  </td><td>10.41                                  </td><td> 83.29                                 </td></tr>\n",
       "\t<tr><td>903956                                 </td><td>MISCELLANEOUS BRANDIES                 </td><td>Laird's Applejack                      </td><td>297                                    </td><td>Laird And Company                      </td><td>1000                                   </td><td>12                                     </td><td>1                                      </td><td>NULL                                   </td><td>40                                     </td><td>2003-08-29                             </td><td>NULL                                   </td><td>10084800000000                         </td><td>$13.33                                 </td><td>20.00                                  </td><td>159.95                                 </td></tr>\n",
       "\t<tr><td>903966                                                                             </td><td><span style=white-space:pre-wrap>AMERICAN COCKTAILS                </span>         </td><td><span style=white-space:pre-wrap>Seagram Blue Beast Gin &amp; Juice         </span></td><td>370                                                                                </td><td>Pernod Ricard Usa/austin Nichols                                                   </td><td> 200                                                                               </td><td>24                                                                                 </td><td>1                                                                                  </td><td>NULL                                                                               </td><td>40                                                                                 </td><td>2000-09-11                                                                         </td><td><span style=white-space:pre-wrap>NULL       </span>                                </td><td>20080400000000                                                                     </td><td>$0.99                                                                              </td><td> 1.49                                                                              </td><td> 23.76                                                                             </td></tr>\n",
       "\t<tr><td>903990                                                                             </td><td><span style=white-space:pre-wrap>AMERICAN COCKTAILS                </span>         </td><td><span style=white-space:pre-wrap>Seagram Red Blast Gin &amp; Juice(dno)     </span></td><td>370                                                                                </td><td>Pernod Ricard Usa/austin Nichols                                                   </td><td> 200                                                                               </td><td>48                                                                                 </td><td>1                                                                                  </td><td>NULL                                                                               </td><td>40                                                                                 </td><td>2000-09-11                                                                         </td><td><span style=white-space:pre-wrap>NULL       </span>                                </td><td><span style=white-space:pre-wrap>NULL          </span>                             </td><td>$1.48                                                                              </td><td> 2.22                                                                              </td><td> 70.97                                                                             </td></tr>\n",
       "\t<tr><td>904010                                 </td><td>TEQUILA                                </td><td>Tanteo Jalapeno Tequila( do not use)   </td><td>462                                    </td><td>Tanteo Tequila                         </td><td> 750                                   </td><td> 6                                     </td><td>1                                      </td><td>NULL                                   </td><td>40                                     </td><td>2013-09-24                             </td><td>NULL                                   </td><td>NULL                                   </td><td>$22.33                                 </td><td>33.50                                  </td><td>134.00                                 </td></tr>\n",
       "\t<tr><td>904043                                 </td><td>COFFEE LIQUEURS                        </td><td>Starbucks Coffee Liqueur Dno           </td><td> 65                                    </td><td>Jim Beam Brands                        </td><td>1000                                   </td><td>12                                     </td><td>1                                      </td><td>NULL                                   </td><td>40                                     </td><td>2009-03-25                             </td><td>NULL                                   </td><td>NULL                                   </td><td>$15.34                                 </td><td>23.01                                  </td><td>184.11                                 </td></tr>\n",
       "\t<tr><td>904557                                                                         </td><td>MISC. AMERICAN CORDIALS &amp; LIQUEURS                                         </td><td><span style=white-space:pre-wrap>Dekuyper Sex On The Beach Traveler     </span></td><td> 65                                                                            </td><td><span style=white-space:pre-wrap>Jim Beam Brands                 </span>       </td><td> 750                                                                           </td><td>12                                                                             </td><td>1                                                                              </td><td>NULL                                                                           </td><td>40                                                                             </td><td>2009-10-13                                                                     </td><td><span style=white-space:pre-wrap>NULL       </span>                            </td><td>10080700000000                                                                 </td><td>$6.03                                                                          </td><td> 9.05                                                                          </td><td> 72.41                                                                         </td></tr>\n",
       "\t<tr><td>904560                                                                         </td><td>MISC. IMPORTED CORDIALS &amp; LIQUEURS                                         </td><td><span style=white-space:pre-wrap>St. Germain .750ml                     </span></td><td> 35                                                                            </td><td><span style=white-space:pre-wrap>Bacardi U.s.a. Inc.             </span>       </td><td> 750                                                                           </td><td> 6                                                                             </td><td>1                                                                              </td><td>NULL                                                                           </td><td>40                                                                             </td><td>2009-10-14                                                                     </td><td>98804001002                                                                    </td><td>10898800000000                                                                 </td><td>$19.22                                                                         </td><td>28.83                                                                          </td><td>115.33                                                                         </td></tr>\n",
       "</tbody>\n",
       "</table>\n"
      ],
      "text/latex": [
       "\\begin{tabular}{r|llllllllllllllll}\n",
       " item\\_no & category\\_name & item\\_description & vendor & vendor\\_name & bottle\\_size & pack & inner\\_pack & age & proof & list\\_date & upc & scc & bottle\\_price & shelf\\_price & case\\_cost\\\\\n",
       "\\hline\n",
       "\t 904616                                     & MISC. AMERICAN CORDIALS \\& LIQUEURS       & Travis Hasse Apple Pie                     & 305                                        & Mhw Ltd                                    &  750                                       & 12                                         &  1                                         & NULL                                       & 40                                         & 2009-02-11                                 & NULL                                       & NULL                                       & \\$9.77                                    & 14.66                                      & 117.22                                    \\\\\n",
       "\t 904638                                     & MISC. AMERICAN CORDIALS \\& LIQUEURS       & Dekuyper Lemon Drop                        &  65                                        & Jim Beam Brands                            &  750                                       & 12                                         &  1                                         & NULL                                       & 40                                         & 2010-01-27                                 & NULL                                       & 10080700000000                             & \\$6.30                                    &  9.45                                      &  75.60                                    \\\\\n",
       "\t 904640                                     & MISC. AMERICAN CORDIALS \\& LIQUEURS       & Dekuyper Alabama Slammer                   &  65                                        & Jim Beam Brands                            &  750                                       & 12                                         &  1                                         & NULL                                       & 40                                         & 2010-01-27                                 & NULL                                       & NULL                                       & \\$6.30                                    &  9.45                                      &  75.60                                    \\\\\n",
       "\t 904646                                     & MISC. AMERICAN CORDIALS \\& LIQUEURS       & Sharkwater DNO                             &  89                                        & Temperance Distiling Company               &  750                                       & 12                                         &  1                                         & NULL                                       & 40                                         & 2009-02-11                                 & 94922114464                                & 10094900000000                             & \\$10.71                                   & 16.07                                      & 128.53                                    \\\\\n",
       "\t 904826                                     & MISC. IMPORTED CORDIALS \\& LIQUEURS       & Ty Ku Premium Liqueur                      & 469                                        & Ty Ku Llc                                  &  750                                       &  6                                         &  1                                         & NULL                                       & 40                                         & 2009-06-09                                 & NULL                                       & NULL                                       & \\$17.00                                   & 25.50                                      & 102.00                                    \\\\\n",
       "\t 904848                                     & AMERICAN COCKTAILS                         & Ice Box Margarita                          & 298                                        & White Rock Distilleries Inc.               & 1750                                       &  6                                         &  1                                         & NULL                                       & 40                                         & 2010-08-12                                 & NULL                                       & NULL                                       & \\$6.50                                    &  9.75                                      &  39.00                                    \\\\\n",
       "\t 904855                                       & CREAM LIQUEURS                               & Rothman \\& Winter Creme De Violette         & 305                                          & Mhw Ltd                                      &  750                                         & 12                                           &  1                                           & NULL                                         & 40                                           & 2010-08-19                                   & NULL                                         & 904855                                       & \\$13.33                                     & 20.00                                        & 160.00                                      \\\\\n",
       "\t 904869                                     & FLAVORED RUM                               & Don Q Mojito Rum                           & 451                                        & Serralles Usa                              &  750                                       & 12                                         &  1                                         & NULL                                       & 40                                         & 2010-08-25                                 & NULL                                       & NULL                                       & \\$6.41                                    &  9.62                                      &  76.94                                    \\\\\n",
       "\t 904887                                     & FLAVORED RUM                               & Don Q Mojito Rum                           & 451                                        & Serralles Usa                              & 1000                                       & 12                                         &  1                                         & NULL                                       & 40                                         & 2010-08-27                                 & 82301100801                                & NULL                                       & \\$9.50                                    & 14.24                                      & 113.94                                    \\\\\n",
       "\t 904982                                     & IMPORTED GRAPE BRANDIES                    & Conjure                                    & 305                                        & Mhw Ltd                                    &  375                                       & 12                                         &  1                                         & NULL                                       & 40                                         & 2011-02-16                                 & NULL                                       & 10081400000000                             & \\$10.50                                   & 15.75                                      & 126.00                                    \\\\\n",
       "\t  15616                                     & IRISH WHISKIES                             & Irishman Single Malt                       & 357                                        & Palm Bay Imports Inc.                      &  750                                       &  6                                         &  1                                         & NULL                                       & 40                                         & 2013-11-01                                 & 86785581040                                & 70086800000000                             & \\$24.67                                   & 37.01                                      & 147.97                                    \\\\\n",
       "\t  15617                                     & IRISH WHISKIES                             & Irishman Original Clan Irish Whiskey       & 357                                        & Palm Bay Imports Inc.                      &  750                                       &  6                                         &  1                                         & NULL                                       & 40                                         & 2013-08-01                                 & 86785581026                                & 70086800000000                             & \\$16.67                                   & 25.01                                      &  99.97                                    \\\\\n",
       "\t   2496                                     & DECANTERS \\& SPECIALTY PACKAGES           & Starbucks Coffee Liqueur With Mug          &  65                                        & Jim Beam Brands                            &  750                                       &  6                                         &  1                                         & NULL                                       & 40                                         & 2006-09-01                                 & NULL                                       & NULL                                       & \\$12.06                                   & 18.09                                      &  72.37                                    \\\\\n",
       "\t   2503                                     & DECANTERS \\& SPECIALTY PACKAGES           & Starbucks Holiday Gift 05                  &  65                                        & Jim Beam Brands                            &  750                                       &  6                                         &  1                                         & NULL                                       & 40                                         & 2005-10-01                                 & NULL                                       & NULL                                       & \\$12.99                                   & 19.49                                      &  77.96                                    \\\\\n",
       "\t   2760                                     & DECANTERS \\& SPECIALTY PACKAGES           & Kahlua W/2 Glasses                         & 370                                        & Pernod Ricard Usa/austin Nichols           &  750                                       &  6                                         &  1                                         & NULL                                       & 40                                         & 2006-08-01                                 & NULL                                       & NULL                                       & \\$11.11                                   & 16.67                                      &  66.68                                    \\\\\n",
       "\t   2774                                     & DECANTERS \\& SPECIALTY PACKAGES           & Kahlua W/2 Glasses                         & 370                                        & Pernod Ricard Usa/austin Nichols           &  750                                       &  6                                         &  1                                         & NULL                                       & 40                                         & 2006-09-01                                 & NULL                                       & NULL                                       & \\$11.11                                   & 16.67                                      &  66.68                                    \\\\\n",
       "\t   2779                                     & DECANTERS \\& SPECIALTY PACKAGES           & Kahlua Tin                                 & 370                                        & Pernod Ricard Usa/austin Nichols           &  750                                       &  6                                         &  1                                         & NULL                                       & 40                                         & 2012-10-01                                 & 89540504810                                & 10089500000000                             & \\$12.00                                   & 18.00                                      &  71.97                                    \\\\\n",
       "\t   2795                                     & DECANTERS \\& SPECIALTY PACKAGES           & Kamora With Glasses                        &  65                                        & Jim Beam Brands                            &  750                                       &  6                                         &  1                                         & NULL                                       & 40                                         & 2002-08-01                                 & NULL                                       & NULL                                       & \\$6.39                                    &  9.59                                      &  38.36                                    \\\\\n",
       "\t   2798                                     & DECANTERS \\& SPECIALTY PACKAGES           & Kamora W/6 Pina Colada                     &  65                                        & Jim Beam Brands                            &  750                                       &  6                                         &  1                                         & NULL                                       & 40                                         & 2002-08-01                                 & NULL                                       & NULL                                       & \\$6.39                                    &  9.59                                      &  38.36                                    \\\\\n",
       "\t   2825                                     & DECANTERS \\& SPECIALTY PACKAGES           & Kahlua W/4 Stoli Flavored Minis            & 490                                        & Allied Domecq Spirits And Wine Usa         &  750                                       &  6                                         &  1                                         & NULL                                       & 40                                         & 2005-09-01                                 & NULL                                       & NULL                                       & \\$11.11                                   & 16.67                                      &  66.67                                    \\\\\n",
       "\t   2826                                     & DECANTERS \\& SPECIALTY PACKAGES           & Kahlua W/4 Stoli Flavored Minis            & 370                                        & Pernod Ricard Usa/austin Nichols           &  750                                       &  6                                         &  1                                         & NULL                                       & 40                                         & 2005-09-01                                 & NULL                                       & NULL                                       & \\$11.11                                   & 16.67                                      &  66.67                                    \\\\\n",
       "\t   2833                                     & DECANTERS \\& SPECIALTY PACKAGES           & Kahlua W/fondue Set                        & 370                                        & Pernod Ricard Usa/austin Nichols           &  750                                       &  6                                         &  1                                         & NULL                                       & 40                                         & 2007-08-01                                 & NULL                                       & NULL                                       & \\$11.61                                   & 17.42                                      &  69.68                                    \\\\\n",
       "\t   2836                                     & DECANTERS \\& SPECIALTY PACKAGES           & Kahlua w/Mug and 3-50ml Flavors            & 370                                        & Pernod Ricard Usa/austin Nichols           &  750                                       &  6                                         &  4                                         & NULL                                       & 40                                         & 2011-09-01                                 & 89540503707                                & 10089500000000                             & \\$11.62                                   & 17.43                                      &  69.68                                    \\\\\n",
       "\t   2889                                     & DECANTERS \\& SPECIALTY PACKAGES           & Kahlua Sampler Pack                        & 370                                        & Pernod Ricard Usa/austin Nichols           &  250                                       & 24                                         &  5                                         & NULL                                       & 40                                         & 2013-10-01                                 & 89540504674                                & 10089500000000                             & \\$3.49                                    &  5.24                                      &  83.76                                    \\\\\n",
       "\t   3346                                     & DECANTERS \\& SPECIALTY PACKAGES           & Frangelico w/Candle                        & 461                                        & Campari(skyy)                              &  750                                       &  6                                         &  1                                         & NULL                                       & 40                                         & 2014-12-01                                 & 721059000000                               & 10721100000000                             & \\$13.50                                   & 20.25                                      &  80.97                                    \\\\\n",
       "\t   3373                                     & DECANTERS \\& SPECIALTY PACKAGES           & Kahlua Sampler Pack                        & 370                                        & Pernod Ricard Usa/austin Nichols           & 3000                                       &  2                                         & 60                                         & NULL                                       & 40                                         & 2012-10-01                                 & 89540504827                                & 10089500000000                             & \\$53.94                                   & 80.91                                      & 107.88                                    \\\\\n",
       "\t 963558                                     & AMERICAN COCKTAILS                         & Tgi Fridays Kosmic Kaze Shooter Chargeback & 260                                        & Diageo Americas                            &   50                                       & 60                                         &  1                                         & NULL                                       & 40                                         & 1995-06-01                                 & NULL                                       & NULL                                       & \\$0.64                                    &  0.95                                      &  38.15                                    \\\\\n",
       "\t 965266                                     & IMPORTED VODKA                             & Jinro Chamisul Classic Soju                & 293                                        & Jinro America Inc                          &  375                                       & 24                                         &  1                                         & NULL                                       & 40                                         & 2013-09-20                                 & NULL                                       & 10795700000000                             & \\$3.63                                    &  5.45                                      &  87.00                                    \\\\\n",
       "\t 965269                                     & IMPORTED VODKA                             & Jinro Chamisul Classic Soju                & 293                                        & Jinro America Inc                          &  750                                       & 12                                         &  1                                         & NULL                                       & 40                                         & 2013-09-20                                 & NULL                                       & NULL                                       & \\$7.25                                    & 10.88                                      &  87.00                                    \\\\\n",
       "\t 966053                                     & MISC. IMPORTED CORDIALS \\& LIQUEURS       & Nuvo Peach Cobbler                         & 305                                        & Mhw Ltd                                    &  200                                       & 12                                         &  1                                         & NULL                                       & 40                                         & 2013-01-08                                 & 88076178151                                & 966053                                     & \\$5.99                                    &  8.99                                      &  71.91                                    \\\\\n",
       "\t ... & ... & ... & ... & ... & ... & ... & ... & ... & ... & ... & ... & ... & ... & ... & ...\\\\\n",
       "\t 902854                                    & AMERICAN COCKTAILS                        & Seagram Blue Beast Gin \\& Juice          & 370                                       & Pernod Ricard Usa/austin Nichols          &  750                                      & 12                                        & 1                                         & NULL                                      & 40                                        & 2000-11-20                                & 80432401446                               & NULL                                      & \\$4.99                                   &  7.49                                     &  59.88                                   \\\\\n",
       "\t 902881                                    & AMERICAN COCKTAILS                        & Seagram Red Blast Gin \\& Juice(dno)      & 370                                       & Pernod Ricard Usa/austin Nichols          &  750                                      & 12                                        & 1                                         & NULL                                      & 40                                        & 2000-11-20                                & NULL                                      & NULL                                      & \\$4.57                                   &  6.85                                     &  54.80                                   \\\\\n",
       "\t 902903                                  & COFFEE LIQUEURS                         & Kahlua French Vanilla                   & 370                                     & Pernod Ricard Usa/austin Nichols        &  750                                    & 12                                      & 1                                       & NULL                                    & 40                                      & 2007-04-19                              & NULL                                    & NULL                                    & \\$11.61                                & 17.42                                   & 139.36                                 \\\\\n",
       "\t 902906                                    & AMERICAN COCKTAILS                        & Seagram Passion Gin \\& Juice             & 370                                       & Pernod Ricard Usa/austin Nichols          &  200                                      & 48                                        & 1                                         & NULL                                      & 40                                        & 1997-04-02                                & NULL                                      & NULL                                      & \\$1.48                                   &  2.22                                     &  70.97                                   \\\\\n",
       "\t 902908                                    & AMERICAN COCKTAILS                        & Seag Lemon Splash G\\&j (dno)             & 370                                       & Pernod Ricard Usa/austin Nichols          &  200                                      & 48                                        & 1                                         & NULL                                      & 40                                        & 2000-01-11                                & NULL                                      & NULL                                      & \\$1.48                                   &  2.22                                     &  70.97                                   \\\\\n",
       "\t 902953                                    & AMERICAN COCKTAILS                        & Seagram Passion Gin \\& Juice             & 370                                       & Pernod Ricard Usa/austin Nichols          &  750                                      & 12                                        & 1                                         & NULL                                      & 40                                        & 2000-11-20                                & NULL                                      & NULL                                      & \\$4.57                                   &  6.86                                     &  54.80                                   \\\\\n",
       "\t 902965                                  & MISC. IMPORTED CORDIALS \\& LIQUEURS    & Alize Blue                              & 295                                     & Kobrand Corporation                     &  200                                    & 24                                      & 1                                       & NULL                                    & 40                                      & 2004-11-01                              & NULL                                    & NULL                                    & \\$2.81                                 &  4.22                                   &  67.45                                 \\\\\n",
       "\t 903003                                  & MISC. IMPORTED CORDIALS \\& LIQUEURS    & Massenez Creme De Framboise             & 150                                     & Dreyfus Ashby Co.                       &  750                                    &  6                                      & 1                                       & NULL                                    & 40                                      & 2007-05-07                              & NULL                                    & NULL                                    & \\$17.67                                & 26.51                                   & 106.00                                 \\\\\n",
       "\t 903063                                  & MISC. IMPORTED CORDIALS \\& LIQUEURS    & Massenez Creme De Mure                  & 150                                     & Dreyfus Ashby Co.                       &  750                                    &  6                                      & 1                                       & NULL                                    & 40                                      & 2007-05-07                              & NULL                                    & NULL                                    & \\$17.67                                & 26.51                                   & 106.00                                 \\\\\n",
       "\t 903101                                  & MISC. IMPORTED CORDIALS \\& LIQUEURS    & Massenez Creme De Fraise De Bois        & 150                                     & Dreyfus Ashby Co.                       &  750                                    &  6                                      & 1                                       & NULL                                    & 40                                      & 2007-05-07                              & NULL                                    & NULL                                    & \\$17.67                                & 26.51                                   & 106.00                                 \\\\\n",
       "\t 903138                                  & MISC. IMPORTED CORDIALS \\& LIQUEURS    & Alize Blue                              & 295                                     & Kobrand Corporation                     &  750                                    & 12                                      & 1                                       & NULL                                    & 40                                      & 2004-11-01                              & NULL                                    & 84692474301                             & \\$11.63                                & 17.45                                   & 139.50                                 \\\\\n",
       "\t 903147                                  & MISC. IMPORTED CORDIALS \\& LIQUEURS    & Alize Blue                              & 295                                     & Kobrand Corporation                     &  375                                    & 12                                      & 1                                       & NULL                                    & 40                                      & 2004-10-01                              & NULL                                    & 84692474400                             & \\$5.63                                 &  8.45                                   &  67.50                                 \\\\\n",
       "\t 903171                                    & AMERICAN COCKTAILS                        & Seagram Lemon Splash Gin \\& Juice        & 370                                       & Pernod Ricard Usa/austin Nichols          &  750                                      & 12                                        & 1                                         & NULL                                      & 40                                        & 2001-03-19                                & NULL                                      & NULL                                      & \\$4.57                                   &  6.86                                     &  54.80                                   \\\\\n",
       "\t 903227                                  & APPLE SCHNAPPS                          & Colonial Club Apple Schnapps            & 350                                     & Luxco-cleveland                         &  750                                    & 12                                      & 1                                       & NULL                                    & 40                                      & 2002-02-11                              & NULL                                    & NULL                                    & \\$2.83                                 &  4.25                                   &  33.96                                 \\\\\n",
       "\t 903300                                    & AMERICAN COCKTAILS                        & Seagram Hunch Punch Gin \\& Juice         & 370                                       & Pernod Ricard Usa/austin Nichols          &  750                                      & 12                                        & 1                                         & NULL                                      & 40                                        & 2001-03-19                                & NULL                                      & NULL                                      & \\$4.57                                   &  6.85                                     &  54.80                                   \\\\\n",
       "\t 903494                                    & AMERICAN COCKTAILS                        & Seagram Tropical Gin \\& Juice            & 370                                       & Pernod Ricard Usa/austin Nichols          &  750                                      & 12                                        & 1                                         & NULL                                      & 40                                        & 2001-05-01                                & NULL                                      & 10080400000000                            & \\$4.57                                   &  6.85                                     &  54.80                                   \\\\\n",
       "\t 903527                                  & MISC. AMERICAN CORDIALS \\& LIQUEURS    & Hiram Walker Melon Liqueur              & 370                                     & Pernod Ricard Usa/austin Nichols        &  750                                    & 12                                      & 1                                       & NULL                                    & 40                                      & 2008-08-01                              & NULL                                    & 10089500000000                          & \\$4.00                                 &  5.99                                   &  47.94                                 \\\\\n",
       "\t 903547                                  & MISC. IMPORTED CORDIALS \\& LIQUEURS    & Massenez Creme De Peche                 & 150                                     & Dreyfus Ashby Co.                       &  750                                    &  6                                      & 1                                       & NULL                                    & 40                                      & 2007-05-07                              & NULL                                    & NULL                                    & \\$17.67                                & 26.51                                   & 106.00                                 \\\\\n",
       "\t 903586                                  & MISC. IMPORTED CORDIALS \\& LIQUEURS    & Massenez Creme De Cassis De Dijon       & 150                                     & Dreyfus Ashby Co.                       &  750                                    &  6                                      & 1                                       & NULL                                    & 40                                      & 2007-05-07                              & NULL                                    & NULL                                    & \\$17.67                                & 26.51                                   & 106.00                                 \\\\\n",
       "\t 903642                                  & MISCELLANEOUS BRANDIES                  & Kajmir(dno)                             & 115                                     & Constellation Wine Company Inc.         &  750                                    & 12                                      & 1                                       & NULL                                    & 40                                      & 2009-01-06                              & NULL                                    & NULL                                    & \\$10.00                                & 15.00                                   & 119.94                                 \\\\\n",
       "\t 903727                                    & AMERICAN COCKTAILS                        & Seagram Red Grapefruit Gin \\&(dno)       & 370                                       & Pernod Ricard Usa/austin Nichols          &  375                                      & 24                                        & 1                                         & NULL                                      & 40                                        & 2003-04-01                                & 80432403457                               & NULL                                      & \\$2.66                                   &  3.99                                     &  63.89                                   \\\\\n",
       "\t 903792                                  & MISC. IMPORTED CORDIALS \\& LIQUEURS    & Gabriel Boudier Cassis(need New Vendor) & 370                                     & Pernod Ricard Usa/austin Nichols        &  750                                    & 12                                      & 1                                       & NULL                                    & 40                                      & 1990-08-15                              & NULL                                    & NULL                                    & \\$10.33                                & 15.50                                   & 123.90                                 \\\\\n",
       "\t 903808                                  & FLAVORED RUM                            & Whaler's Killer Coconut Rum             & 259                                     & Heaven Hill Distilleries Inc.           &  750                                    & 12                                      & 1                                       & NULL                                    & 40                                      & 2004-12-20                              & NULL                                    & 10677100000000                          & \\$6.94                                 & 10.41                                   &  83.29                                 \\\\\n",
       "\t 903956                                  & MISCELLANEOUS BRANDIES                  & Laird's Applejack                       & 297                                     & Laird And Company                       & 1000                                    & 12                                      & 1                                       & NULL                                    & 40                                      & 2003-08-29                              & NULL                                    & 10084800000000                          & \\$13.33                                & 20.00                                   & 159.95                                 \\\\\n",
       "\t 903966                                    & AMERICAN COCKTAILS                        & Seagram Blue Beast Gin \\& Juice          & 370                                       & Pernod Ricard Usa/austin Nichols          &  200                                      & 24                                        & 1                                         & NULL                                      & 40                                        & 2000-09-11                                & NULL                                      & 20080400000000                            & \\$0.99                                   &  1.49                                     &  23.76                                   \\\\\n",
       "\t 903990                                    & AMERICAN COCKTAILS                        & Seagram Red Blast Gin \\& Juice(dno)      & 370                                       & Pernod Ricard Usa/austin Nichols          &  200                                      & 48                                        & 1                                         & NULL                                      & 40                                        & 2000-09-11                                & NULL                                      & NULL                                      & \\$1.48                                   &  2.22                                     &  70.97                                   \\\\\n",
       "\t 904010                                  & TEQUILA                                 & Tanteo Jalapeno Tequila( do not use)    & 462                                     & Tanteo Tequila                          &  750                                    &  6                                      & 1                                       & NULL                                    & 40                                      & 2013-09-24                              & NULL                                    & NULL                                    & \\$22.33                                & 33.50                                   & 134.00                                 \\\\\n",
       "\t 904043                                  & COFFEE LIQUEURS                         & Starbucks Coffee Liqueur Dno            &  65                                     & Jim Beam Brands                         & 1000                                    & 12                                      & 1                                       & NULL                                    & 40                                      & 2009-03-25                              & NULL                                    & NULL                                    & \\$15.34                                & 23.01                                   & 184.11                                 \\\\\n",
       "\t 904557                                  & MISC. AMERICAN CORDIALS \\& LIQUEURS    & Dekuyper Sex On The Beach Traveler      &  65                                     & Jim Beam Brands                         &  750                                    & 12                                      & 1                                       & NULL                                    & 40                                      & 2009-10-13                              & NULL                                    & 10080700000000                          & \\$6.03                                 &  9.05                                   &  72.41                                 \\\\\n",
       "\t 904560                                  & MISC. IMPORTED CORDIALS \\& LIQUEURS    & St. Germain .750ml                      &  35                                     & Bacardi U.s.a. Inc.                     &  750                                    &  6                                      & 1                                       & NULL                                    & 40                                      & 2009-10-14                              & 98804001002                             & 10898800000000                          & \\$19.22                                & 28.83                                   & 115.33                                 \\\\\n",
       "\\end{tabular}\n"
      ],
      "text/markdown": [
       "\n",
       "| item_no | category_name | item_description | vendor | vendor_name | bottle_size | pack | inner_pack | age | proof | list_date | upc | scc | bottle_price | shelf_price | case_cost |\n",
       "|---|---|---|---|---|---|---|---|---|---|---|---|---|---|---|---|\n",
       "| 904616                                     | MISC. AMERICAN CORDIALS & LIQUEURS         | Travis Hasse Apple Pie                     | 305                                        | Mhw Ltd                                    |  750                                       | 12                                         |  1                                         | NULL                                       | 40                                         | 2009-02-11                                 | NULL                                       | NULL                                       | $9.77                                      | 14.66                                      | 117.22                                     |\n",
       "| 904638                                     | MISC. AMERICAN CORDIALS & LIQUEURS         | Dekuyper Lemon Drop                        |  65                                        | Jim Beam Brands                            |  750                                       | 12                                         |  1                                         | NULL                                       | 40                                         | 2010-01-27                                 | NULL                                       | 10080700000000                             | $6.30                                      |  9.45                                      |  75.60                                     |\n",
       "| 904640                                     | MISC. AMERICAN CORDIALS & LIQUEURS         | Dekuyper Alabama Slammer                   |  65                                        | Jim Beam Brands                            |  750                                       | 12                                         |  1                                         | NULL                                       | 40                                         | 2010-01-27                                 | NULL                                       | NULL                                       | $6.30                                      |  9.45                                      |  75.60                                     |\n",
       "| 904646                                     | MISC. AMERICAN CORDIALS & LIQUEURS         | Sharkwater DNO                             |  89                                        | Temperance Distiling Company               |  750                                       | 12                                         |  1                                         | NULL                                       | 40                                         | 2009-02-11                                 | 94922114464                                | 10094900000000                             | $10.71                                     | 16.07                                      | 128.53                                     |\n",
       "| 904826                                     | MISC. IMPORTED CORDIALS & LIQUEURS         | Ty Ku Premium Liqueur                      | 469                                        | Ty Ku Llc                                  |  750                                       |  6                                         |  1                                         | NULL                                       | 40                                         | 2009-06-09                                 | NULL                                       | NULL                                       | $17.00                                     | 25.50                                      | 102.00                                     |\n",
       "| 904848                                     | AMERICAN COCKTAILS                         | Ice Box Margarita                          | 298                                        | White Rock Distilleries Inc.               | 1750                                       |  6                                         |  1                                         | NULL                                       | 40                                         | 2010-08-12                                 | NULL                                       | NULL                                       | $6.50                                      |  9.75                                      |  39.00                                     |\n",
       "| 904855                                     | CREAM LIQUEURS                             | Rothman & Winter Creme De Violette         | 305                                        | Mhw Ltd                                    |  750                                       | 12                                         |  1                                         | NULL                                       | 40                                         | 2010-08-19                                 | NULL                                       | 904855                                     | $13.33                                     | 20.00                                      | 160.00                                     |\n",
       "| 904869                                     | FLAVORED RUM                               | Don Q Mojito Rum                           | 451                                        | Serralles Usa                              |  750                                       | 12                                         |  1                                         | NULL                                       | 40                                         | 2010-08-25                                 | NULL                                       | NULL                                       | $6.41                                      |  9.62                                      |  76.94                                     |\n",
       "| 904887                                     | FLAVORED RUM                               | Don Q Mojito Rum                           | 451                                        | Serralles Usa                              | 1000                                       | 12                                         |  1                                         | NULL                                       | 40                                         | 2010-08-27                                 | 82301100801                                | NULL                                       | $9.50                                      | 14.24                                      | 113.94                                     |\n",
       "| 904982                                     | IMPORTED GRAPE BRANDIES                    | Conjure                                    | 305                                        | Mhw Ltd                                    |  375                                       | 12                                         |  1                                         | NULL                                       | 40                                         | 2011-02-16                                 | NULL                                       | 10081400000000                             | $10.50                                     | 15.75                                      | 126.00                                     |\n",
       "|  15616                                     | IRISH WHISKIES                             | Irishman Single Malt                       | 357                                        | Palm Bay Imports Inc.                      |  750                                       |  6                                         |  1                                         | NULL                                       | 40                                         | 2013-11-01                                 | 86785581040                                | 70086800000000                             | $24.67                                     | 37.01                                      | 147.97                                     |\n",
       "|  15617                                     | IRISH WHISKIES                             | Irishman Original Clan Irish Whiskey       | 357                                        | Palm Bay Imports Inc.                      |  750                                       |  6                                         |  1                                         | NULL                                       | 40                                         | 2013-08-01                                 | 86785581026                                | 70086800000000                             | $16.67                                     | 25.01                                      |  99.97                                     |\n",
       "|   2496                                     | DECANTERS & SPECIALTY PACKAGES             | Starbucks Coffee Liqueur With Mug          |  65                                        | Jim Beam Brands                            |  750                                       |  6                                         |  1                                         | NULL                                       | 40                                         | 2006-09-01                                 | NULL                                       | NULL                                       | $12.06                                     | 18.09                                      |  72.37                                     |\n",
       "|   2503                                     | DECANTERS & SPECIALTY PACKAGES             | Starbucks Holiday Gift 05                  |  65                                        | Jim Beam Brands                            |  750                                       |  6                                         |  1                                         | NULL                                       | 40                                         | 2005-10-01                                 | NULL                                       | NULL                                       | $12.99                                     | 19.49                                      |  77.96                                     |\n",
       "|   2760                                     | DECANTERS & SPECIALTY PACKAGES             | Kahlua W/2 Glasses                         | 370                                        | Pernod Ricard Usa/austin Nichols           |  750                                       |  6                                         |  1                                         | NULL                                       | 40                                         | 2006-08-01                                 | NULL                                       | NULL                                       | $11.11                                     | 16.67                                      |  66.68                                     |\n",
       "|   2774                                     | DECANTERS & SPECIALTY PACKAGES             | Kahlua W/2 Glasses                         | 370                                        | Pernod Ricard Usa/austin Nichols           |  750                                       |  6                                         |  1                                         | NULL                                       | 40                                         | 2006-09-01                                 | NULL                                       | NULL                                       | $11.11                                     | 16.67                                      |  66.68                                     |\n",
       "|   2779                                     | DECANTERS & SPECIALTY PACKAGES             | Kahlua Tin                                 | 370                                        | Pernod Ricard Usa/austin Nichols           |  750                                       |  6                                         |  1                                         | NULL                                       | 40                                         | 2012-10-01                                 | 89540504810                                | 10089500000000                             | $12.00                                     | 18.00                                      |  71.97                                     |\n",
       "|   2795                                     | DECANTERS & SPECIALTY PACKAGES             | Kamora With Glasses                        |  65                                        | Jim Beam Brands                            |  750                                       |  6                                         |  1                                         | NULL                                       | 40                                         | 2002-08-01                                 | NULL                                       | NULL                                       | $6.39                                      |  9.59                                      |  38.36                                     |\n",
       "|   2798                                     | DECANTERS & SPECIALTY PACKAGES             | Kamora W/6 Pina Colada                     |  65                                        | Jim Beam Brands                            |  750                                       |  6                                         |  1                                         | NULL                                       | 40                                         | 2002-08-01                                 | NULL                                       | NULL                                       | $6.39                                      |  9.59                                      |  38.36                                     |\n",
       "|   2825                                     | DECANTERS & SPECIALTY PACKAGES             | Kahlua W/4 Stoli Flavored Minis            | 490                                        | Allied Domecq Spirits And Wine Usa         |  750                                       |  6                                         |  1                                         | NULL                                       | 40                                         | 2005-09-01                                 | NULL                                       | NULL                                       | $11.11                                     | 16.67                                      |  66.67                                     |\n",
       "|   2826                                     | DECANTERS & SPECIALTY PACKAGES             | Kahlua W/4 Stoli Flavored Minis            | 370                                        | Pernod Ricard Usa/austin Nichols           |  750                                       |  6                                         |  1                                         | NULL                                       | 40                                         | 2005-09-01                                 | NULL                                       | NULL                                       | $11.11                                     | 16.67                                      |  66.67                                     |\n",
       "|   2833                                     | DECANTERS & SPECIALTY PACKAGES             | Kahlua W/fondue Set                        | 370                                        | Pernod Ricard Usa/austin Nichols           |  750                                       |  6                                         |  1                                         | NULL                                       | 40                                         | 2007-08-01                                 | NULL                                       | NULL                                       | $11.61                                     | 17.42                                      |  69.68                                     |\n",
       "|   2836                                     | DECANTERS & SPECIALTY PACKAGES             | Kahlua w/Mug and 3-50ml Flavors            | 370                                        | Pernod Ricard Usa/austin Nichols           |  750                                       |  6                                         |  4                                         | NULL                                       | 40                                         | 2011-09-01                                 | 89540503707                                | 10089500000000                             | $11.62                                     | 17.43                                      |  69.68                                     |\n",
       "|   2889                                     | DECANTERS & SPECIALTY PACKAGES             | Kahlua Sampler Pack                        | 370                                        | Pernod Ricard Usa/austin Nichols           |  250                                       | 24                                         |  5                                         | NULL                                       | 40                                         | 2013-10-01                                 | 89540504674                                | 10089500000000                             | $3.49                                      |  5.24                                      |  83.76                                     |\n",
       "|   3346                                     | DECANTERS & SPECIALTY PACKAGES             | Frangelico w/Candle                        | 461                                        | Campari(skyy)                              |  750                                       |  6                                         |  1                                         | NULL                                       | 40                                         | 2014-12-01                                 | 721059000000                               | 10721100000000                             | $13.50                                     | 20.25                                      |  80.97                                     |\n",
       "|   3373                                     | DECANTERS & SPECIALTY PACKAGES             | Kahlua Sampler Pack                        | 370                                        | Pernod Ricard Usa/austin Nichols           | 3000                                       |  2                                         | 60                                         | NULL                                       | 40                                         | 2012-10-01                                 | 89540504827                                | 10089500000000                             | $53.94                                     | 80.91                                      | 107.88                                     |\n",
       "| 963558                                     | AMERICAN COCKTAILS                         | Tgi Fridays Kosmic Kaze Shooter Chargeback | 260                                        | Diageo Americas                            |   50                                       | 60                                         |  1                                         | NULL                                       | 40                                         | 1995-06-01                                 | NULL                                       | NULL                                       | $0.64                                      |  0.95                                      |  38.15                                     |\n",
       "| 965266                                     | IMPORTED VODKA                             | Jinro Chamisul Classic Soju                | 293                                        | Jinro America Inc                          |  375                                       | 24                                         |  1                                         | NULL                                       | 40                                         | 2013-09-20                                 | NULL                                       | 10795700000000                             | $3.63                                      |  5.45                                      |  87.00                                     |\n",
       "| 965269                                     | IMPORTED VODKA                             | Jinro Chamisul Classic Soju                | 293                                        | Jinro America Inc                          |  750                                       | 12                                         |  1                                         | NULL                                       | 40                                         | 2013-09-20                                 | NULL                                       | NULL                                       | $7.25                                      | 10.88                                      |  87.00                                     |\n",
       "| 966053                                     | MISC. IMPORTED CORDIALS & LIQUEURS         | Nuvo Peach Cobbler                         | 305                                        | Mhw Ltd                                    |  200                                       | 12                                         |  1                                         | NULL                                       | 40                                         | 2013-01-08                                 | 88076178151                                | 966053                                     | $5.99                                      |  8.99                                      |  71.91                                     |\n",
       "| ... | ... | ... | ... | ... | ... | ... | ... | ... | ... | ... | ... | ... | ... | ... | ... |\n",
       "| 902854                                  | AMERICAN COCKTAILS                      | Seagram Blue Beast Gin & Juice          | 370                                     | Pernod Ricard Usa/austin Nichols        |  750                                    | 12                                      | 1                                       | NULL                                    | 40                                      | 2000-11-20                              | 80432401446                             | NULL                                    | $4.99                                   |  7.49                                   |  59.88                                  |\n",
       "| 902881                                  | AMERICAN COCKTAILS                      | Seagram Red Blast Gin & Juice(dno)      | 370                                     | Pernod Ricard Usa/austin Nichols        |  750                                    | 12                                      | 1                                       | NULL                                    | 40                                      | 2000-11-20                              | NULL                                    | NULL                                    | $4.57                                   |  6.85                                   |  54.80                                  |\n",
       "| 902903                                  | COFFEE LIQUEURS                         | Kahlua French Vanilla                   | 370                                     | Pernod Ricard Usa/austin Nichols        |  750                                    | 12                                      | 1                                       | NULL                                    | 40                                      | 2007-04-19                              | NULL                                    | NULL                                    | $11.61                                  | 17.42                                   | 139.36                                  |\n",
       "| 902906                                  | AMERICAN COCKTAILS                      | Seagram Passion Gin & Juice             | 370                                     | Pernod Ricard Usa/austin Nichols        |  200                                    | 48                                      | 1                                       | NULL                                    | 40                                      | 1997-04-02                              | NULL                                    | NULL                                    | $1.48                                   |  2.22                                   |  70.97                                  |\n",
       "| 902908                                  | AMERICAN COCKTAILS                      | Seag Lemon Splash G&j (dno)             | 370                                     | Pernod Ricard Usa/austin Nichols        |  200                                    | 48                                      | 1                                       | NULL                                    | 40                                      | 2000-01-11                              | NULL                                    | NULL                                    | $1.48                                   |  2.22                                   |  70.97                                  |\n",
       "| 902953                                  | AMERICAN COCKTAILS                      | Seagram Passion Gin & Juice             | 370                                     | Pernod Ricard Usa/austin Nichols        |  750                                    | 12                                      | 1                                       | NULL                                    | 40                                      | 2000-11-20                              | NULL                                    | NULL                                    | $4.57                                   |  6.86                                   |  54.80                                  |\n",
       "| 902965                                  | MISC. IMPORTED CORDIALS & LIQUEURS      | Alize Blue                              | 295                                     | Kobrand Corporation                     |  200                                    | 24                                      | 1                                       | NULL                                    | 40                                      | 2004-11-01                              | NULL                                    | NULL                                    | $2.81                                   |  4.22                                   |  67.45                                  |\n",
       "| 903003                                  | MISC. IMPORTED CORDIALS & LIQUEURS      | Massenez Creme De Framboise             | 150                                     | Dreyfus Ashby Co.                       |  750                                    |  6                                      | 1                                       | NULL                                    | 40                                      | 2007-05-07                              | NULL                                    | NULL                                    | $17.67                                  | 26.51                                   | 106.00                                  |\n",
       "| 903063                                  | MISC. IMPORTED CORDIALS & LIQUEURS      | Massenez Creme De Mure                  | 150                                     | Dreyfus Ashby Co.                       |  750                                    |  6                                      | 1                                       | NULL                                    | 40                                      | 2007-05-07                              | NULL                                    | NULL                                    | $17.67                                  | 26.51                                   | 106.00                                  |\n",
       "| 903101                                  | MISC. IMPORTED CORDIALS & LIQUEURS      | Massenez Creme De Fraise De Bois        | 150                                     | Dreyfus Ashby Co.                       |  750                                    |  6                                      | 1                                       | NULL                                    | 40                                      | 2007-05-07                              | NULL                                    | NULL                                    | $17.67                                  | 26.51                                   | 106.00                                  |\n",
       "| 903138                                  | MISC. IMPORTED CORDIALS & LIQUEURS      | Alize Blue                              | 295                                     | Kobrand Corporation                     |  750                                    | 12                                      | 1                                       | NULL                                    | 40                                      | 2004-11-01                              | NULL                                    | 84692474301                             | $11.63                                  | 17.45                                   | 139.50                                  |\n",
       "| 903147                                  | MISC. IMPORTED CORDIALS & LIQUEURS      | Alize Blue                              | 295                                     | Kobrand Corporation                     |  375                                    | 12                                      | 1                                       | NULL                                    | 40                                      | 2004-10-01                              | NULL                                    | 84692474400                             | $5.63                                   |  8.45                                   |  67.50                                  |\n",
       "| 903171                                  | AMERICAN COCKTAILS                      | Seagram Lemon Splash Gin & Juice        | 370                                     | Pernod Ricard Usa/austin Nichols        |  750                                    | 12                                      | 1                                       | NULL                                    | 40                                      | 2001-03-19                              | NULL                                    | NULL                                    | $4.57                                   |  6.86                                   |  54.80                                  |\n",
       "| 903227                                  | APPLE SCHNAPPS                          | Colonial Club Apple Schnapps            | 350                                     | Luxco-cleveland                         |  750                                    | 12                                      | 1                                       | NULL                                    | 40                                      | 2002-02-11                              | NULL                                    | NULL                                    | $2.83                                   |  4.25                                   |  33.96                                  |\n",
       "| 903300                                  | AMERICAN COCKTAILS                      | Seagram Hunch Punch Gin & Juice         | 370                                     | Pernod Ricard Usa/austin Nichols        |  750                                    | 12                                      | 1                                       | NULL                                    | 40                                      | 2001-03-19                              | NULL                                    | NULL                                    | $4.57                                   |  6.85                                   |  54.80                                  |\n",
       "| 903494                                  | AMERICAN COCKTAILS                      | Seagram Tropical Gin & Juice            | 370                                     | Pernod Ricard Usa/austin Nichols        |  750                                    | 12                                      | 1                                       | NULL                                    | 40                                      | 2001-05-01                              | NULL                                    | 10080400000000                          | $4.57                                   |  6.85                                   |  54.80                                  |\n",
       "| 903527                                  | MISC. AMERICAN CORDIALS & LIQUEURS      | Hiram Walker Melon Liqueur              | 370                                     | Pernod Ricard Usa/austin Nichols        |  750                                    | 12                                      | 1                                       | NULL                                    | 40                                      | 2008-08-01                              | NULL                                    | 10089500000000                          | $4.00                                   |  5.99                                   |  47.94                                  |\n",
       "| 903547                                  | MISC. IMPORTED CORDIALS & LIQUEURS      | Massenez Creme De Peche                 | 150                                     | Dreyfus Ashby Co.                       |  750                                    |  6                                      | 1                                       | NULL                                    | 40                                      | 2007-05-07                              | NULL                                    | NULL                                    | $17.67                                  | 26.51                                   | 106.00                                  |\n",
       "| 903586                                  | MISC. IMPORTED CORDIALS & LIQUEURS      | Massenez Creme De Cassis De Dijon       | 150                                     | Dreyfus Ashby Co.                       |  750                                    |  6                                      | 1                                       | NULL                                    | 40                                      | 2007-05-07                              | NULL                                    | NULL                                    | $17.67                                  | 26.51                                   | 106.00                                  |\n",
       "| 903642                                  | MISCELLANEOUS BRANDIES                  | Kajmir(dno)                             | 115                                     | Constellation Wine Company Inc.         |  750                                    | 12                                      | 1                                       | NULL                                    | 40                                      | 2009-01-06                              | NULL                                    | NULL                                    | $10.00                                  | 15.00                                   | 119.94                                  |\n",
       "| 903727                                  | AMERICAN COCKTAILS                      | Seagram Red Grapefruit Gin &(dno)       | 370                                     | Pernod Ricard Usa/austin Nichols        |  375                                    | 24                                      | 1                                       | NULL                                    | 40                                      | 2003-04-01                              | 80432403457                             | NULL                                    | $2.66                                   |  3.99                                   |  63.89                                  |\n",
       "| 903792                                  | MISC. IMPORTED CORDIALS & LIQUEURS      | Gabriel Boudier Cassis(need New Vendor) | 370                                     | Pernod Ricard Usa/austin Nichols        |  750                                    | 12                                      | 1                                       | NULL                                    | 40                                      | 1990-08-15                              | NULL                                    | NULL                                    | $10.33                                  | 15.50                                   | 123.90                                  |\n",
       "| 903808                                  | FLAVORED RUM                            | Whaler's Killer Coconut Rum             | 259                                     | Heaven Hill Distilleries Inc.           |  750                                    | 12                                      | 1                                       | NULL                                    | 40                                      | 2004-12-20                              | NULL                                    | 10677100000000                          | $6.94                                   | 10.41                                   |  83.29                                  |\n",
       "| 903956                                  | MISCELLANEOUS BRANDIES                  | Laird's Applejack                       | 297                                     | Laird And Company                       | 1000                                    | 12                                      | 1                                       | NULL                                    | 40                                      | 2003-08-29                              | NULL                                    | 10084800000000                          | $13.33                                  | 20.00                                   | 159.95                                  |\n",
       "| 903966                                  | AMERICAN COCKTAILS                      | Seagram Blue Beast Gin & Juice          | 370                                     | Pernod Ricard Usa/austin Nichols        |  200                                    | 24                                      | 1                                       | NULL                                    | 40                                      | 2000-09-11                              | NULL                                    | 20080400000000                          | $0.99                                   |  1.49                                   |  23.76                                  |\n",
       "| 903990                                  | AMERICAN COCKTAILS                      | Seagram Red Blast Gin & Juice(dno)      | 370                                     | Pernod Ricard Usa/austin Nichols        |  200                                    | 48                                      | 1                                       | NULL                                    | 40                                      | 2000-09-11                              | NULL                                    | NULL                                    | $1.48                                   |  2.22                                   |  70.97                                  |\n",
       "| 904010                                  | TEQUILA                                 | Tanteo Jalapeno Tequila( do not use)    | 462                                     | Tanteo Tequila                          |  750                                    |  6                                      | 1                                       | NULL                                    | 40                                      | 2013-09-24                              | NULL                                    | NULL                                    | $22.33                                  | 33.50                                   | 134.00                                  |\n",
       "| 904043                                  | COFFEE LIQUEURS                         | Starbucks Coffee Liqueur Dno            |  65                                     | Jim Beam Brands                         | 1000                                    | 12                                      | 1                                       | NULL                                    | 40                                      | 2009-03-25                              | NULL                                    | NULL                                    | $15.34                                  | 23.01                                   | 184.11                                  |\n",
       "| 904557                                  | MISC. AMERICAN CORDIALS & LIQUEURS      | Dekuyper Sex On The Beach Traveler      |  65                                     | Jim Beam Brands                         |  750                                    | 12                                      | 1                                       | NULL                                    | 40                                      | 2009-10-13                              | NULL                                    | 10080700000000                          | $6.03                                   |  9.05                                   |  72.41                                  |\n",
       "| 904560                                  | MISC. IMPORTED CORDIALS & LIQUEURS      | St. Germain .750ml                      |  35                                     | Bacardi U.s.a. Inc.                     |  750                                    |  6                                      | 1                                       | NULL                                    | 40                                      | 2009-10-14                              | 98804001002                             | 10898800000000                          | $19.22                                  | 28.83                                   | 115.33                                  |\n",
       "\n"
      ],
      "text/plain": [
       "    item_no category_name                     \n",
       "1   904616  MISC. AMERICAN CORDIALS & LIQUEURS\n",
       "2   904638  MISC. AMERICAN CORDIALS & LIQUEURS\n",
       "3   904640  MISC. AMERICAN CORDIALS & LIQUEURS\n",
       "4   904646  MISC. AMERICAN CORDIALS & LIQUEURS\n",
       "5   904826  MISC. IMPORTED CORDIALS & LIQUEURS\n",
       "6   904848  AMERICAN COCKTAILS                \n",
       "7   904855  CREAM LIQUEURS                    \n",
       "8   904869  FLAVORED RUM                      \n",
       "9   904887  FLAVORED RUM                      \n",
       "10  904982  IMPORTED GRAPE BRANDIES           \n",
       "11   15616  IRISH WHISKIES                    \n",
       "12   15617  IRISH WHISKIES                    \n",
       "13    2496  DECANTERS & SPECIALTY PACKAGES    \n",
       "14    2503  DECANTERS & SPECIALTY PACKAGES    \n",
       "15    2760  DECANTERS & SPECIALTY PACKAGES    \n",
       "16    2774  DECANTERS & SPECIALTY PACKAGES    \n",
       "17    2779  DECANTERS & SPECIALTY PACKAGES    \n",
       "18    2795  DECANTERS & SPECIALTY PACKAGES    \n",
       "19    2798  DECANTERS & SPECIALTY PACKAGES    \n",
       "20    2825  DECANTERS & SPECIALTY PACKAGES    \n",
       "21    2826  DECANTERS & SPECIALTY PACKAGES    \n",
       "22    2833  DECANTERS & SPECIALTY PACKAGES    \n",
       "23    2836  DECANTERS & SPECIALTY PACKAGES    \n",
       "24    2889  DECANTERS & SPECIALTY PACKAGES    \n",
       "25    3346  DECANTERS & SPECIALTY PACKAGES    \n",
       "26    3373  DECANTERS & SPECIALTY PACKAGES    \n",
       "27  963558  AMERICAN COCKTAILS                \n",
       "28  965266  IMPORTED VODKA                    \n",
       "29  965269  IMPORTED VODKA                    \n",
       "30  966053  MISC. IMPORTED CORDIALS & LIQUEURS\n",
       "... ...     ...                               \n",
       "178 902854  AMERICAN COCKTAILS                \n",
       "179 902881  AMERICAN COCKTAILS                \n",
       "180 902903  COFFEE LIQUEURS                   \n",
       "181 902906  AMERICAN COCKTAILS                \n",
       "182 902908  AMERICAN COCKTAILS                \n",
       "183 902953  AMERICAN COCKTAILS                \n",
       "184 902965  MISC. IMPORTED CORDIALS & LIQUEURS\n",
       "185 903003  MISC. IMPORTED CORDIALS & LIQUEURS\n",
       "186 903063  MISC. IMPORTED CORDIALS & LIQUEURS\n",
       "187 903101  MISC. IMPORTED CORDIALS & LIQUEURS\n",
       "188 903138  MISC. IMPORTED CORDIALS & LIQUEURS\n",
       "189 903147  MISC. IMPORTED CORDIALS & LIQUEURS\n",
       "190 903171  AMERICAN COCKTAILS                \n",
       "191 903227  APPLE SCHNAPPS                    \n",
       "192 903300  AMERICAN COCKTAILS                \n",
       "193 903494  AMERICAN COCKTAILS                \n",
       "194 903527  MISC. AMERICAN CORDIALS & LIQUEURS\n",
       "195 903547  MISC. IMPORTED CORDIALS & LIQUEURS\n",
       "196 903586  MISC. IMPORTED CORDIALS & LIQUEURS\n",
       "197 903642  MISCELLANEOUS BRANDIES            \n",
       "198 903727  AMERICAN COCKTAILS                \n",
       "199 903792  MISC. IMPORTED CORDIALS & LIQUEURS\n",
       "200 903808  FLAVORED RUM                      \n",
       "201 903956  MISCELLANEOUS BRANDIES            \n",
       "202 903966  AMERICAN COCKTAILS                \n",
       "203 903990  AMERICAN COCKTAILS                \n",
       "204 904010  TEQUILA                           \n",
       "205 904043  COFFEE LIQUEURS                   \n",
       "206 904557  MISC. AMERICAN CORDIALS & LIQUEURS\n",
       "207 904560  MISC. IMPORTED CORDIALS & LIQUEURS\n",
       "    item_description                           vendor\n",
       "1   Travis Hasse Apple Pie                     305   \n",
       "2   Dekuyper Lemon Drop                         65   \n",
       "3   Dekuyper Alabama Slammer                    65   \n",
       "4   Sharkwater DNO                              89   \n",
       "5   Ty Ku Premium Liqueur                      469   \n",
       "6   Ice Box Margarita                          298   \n",
       "7   Rothman & Winter Creme De Violette         305   \n",
       "8   Don Q Mojito Rum                           451   \n",
       "9   Don Q Mojito Rum                           451   \n",
       "10  Conjure                                    305   \n",
       "11  Irishman Single Malt                       357   \n",
       "12  Irishman Original Clan Irish Whiskey       357   \n",
       "13  Starbucks Coffee Liqueur With Mug           65   \n",
       "14  Starbucks Holiday Gift 05                   65   \n",
       "15  Kahlua W/2 Glasses                         370   \n",
       "16  Kahlua W/2 Glasses                         370   \n",
       "17  Kahlua Tin                                 370   \n",
       "18  Kamora With Glasses                         65   \n",
       "19  Kamora W/6 Pina Colada                      65   \n",
       "20  Kahlua W/4 Stoli Flavored Minis            490   \n",
       "21  Kahlua W/4 Stoli Flavored Minis            370   \n",
       "22  Kahlua W/fondue Set                        370   \n",
       "23  Kahlua w/Mug and 3-50ml Flavors            370   \n",
       "24  Kahlua Sampler Pack                        370   \n",
       "25  Frangelico w/Candle                        461   \n",
       "26  Kahlua Sampler Pack                        370   \n",
       "27  Tgi Fridays Kosmic Kaze Shooter Chargeback 260   \n",
       "28  Jinro Chamisul Classic Soju                293   \n",
       "29  Jinro Chamisul Classic Soju                293   \n",
       "30  Nuvo Peach Cobbler                         305   \n",
       "... ...                                        ...   \n",
       "178 Seagram Blue Beast Gin & Juice             370   \n",
       "179 Seagram Red Blast Gin & Juice(dno)         370   \n",
       "180 Kahlua French Vanilla                      370   \n",
       "181 Seagram Passion Gin & Juice                370   \n",
       "182 Seag Lemon Splash G&j (dno)                370   \n",
       "183 Seagram Passion Gin & Juice                370   \n",
       "184 Alize Blue                                 295   \n",
       "185 Massenez Creme De Framboise                150   \n",
       "186 Massenez Creme De Mure                     150   \n",
       "187 Massenez Creme De Fraise De Bois           150   \n",
       "188 Alize Blue                                 295   \n",
       "189 Alize Blue                                 295   \n",
       "190 Seagram Lemon Splash Gin & Juice           370   \n",
       "191 Colonial Club Apple Schnapps               350   \n",
       "192 Seagram Hunch Punch Gin & Juice            370   \n",
       "193 Seagram Tropical Gin & Juice               370   \n",
       "194 Hiram Walker Melon Liqueur                 370   \n",
       "195 Massenez Creme De Peche                    150   \n",
       "196 Massenez Creme De Cassis De Dijon          150   \n",
       "197 Kajmir(dno)                                115   \n",
       "198 Seagram Red Grapefruit Gin &(dno)          370   \n",
       "199 Gabriel Boudier Cassis(need New Vendor)    370   \n",
       "200 Whaler's Killer Coconut Rum                259   \n",
       "201 Laird's Applejack                          297   \n",
       "202 Seagram Blue Beast Gin & Juice             370   \n",
       "203 Seagram Red Blast Gin & Juice(dno)         370   \n",
       "204 Tanteo Jalapeno Tequila( do not use)       462   \n",
       "205 Starbucks Coffee Liqueur Dno                65   \n",
       "206 Dekuyper Sex On The Beach Traveler          65   \n",
       "207 St. Germain .750ml                          35   \n",
       "    vendor_name                        bottle_size pack inner_pack age  proof\n",
       "1   Mhw Ltd                             750        12    1         NULL 40   \n",
       "2   Jim Beam Brands                     750        12    1         NULL 40   \n",
       "3   Jim Beam Brands                     750        12    1         NULL 40   \n",
       "4   Temperance Distiling Company        750        12    1         NULL 40   \n",
       "5   Ty Ku Llc                           750         6    1         NULL 40   \n",
       "6   White Rock Distilleries Inc.       1750         6    1         NULL 40   \n",
       "7   Mhw Ltd                             750        12    1         NULL 40   \n",
       "8   Serralles Usa                       750        12    1         NULL 40   \n",
       "9   Serralles Usa                      1000        12    1         NULL 40   \n",
       "10  Mhw Ltd                             375        12    1         NULL 40   \n",
       "11  Palm Bay Imports Inc.               750         6    1         NULL 40   \n",
       "12  Palm Bay Imports Inc.               750         6    1         NULL 40   \n",
       "13  Jim Beam Brands                     750         6    1         NULL 40   \n",
       "14  Jim Beam Brands                     750         6    1         NULL 40   \n",
       "15  Pernod Ricard Usa/austin Nichols    750         6    1         NULL 40   \n",
       "16  Pernod Ricard Usa/austin Nichols    750         6    1         NULL 40   \n",
       "17  Pernod Ricard Usa/austin Nichols    750         6    1         NULL 40   \n",
       "18  Jim Beam Brands                     750         6    1         NULL 40   \n",
       "19  Jim Beam Brands                     750         6    1         NULL 40   \n",
       "20  Allied Domecq Spirits And Wine Usa  750         6    1         NULL 40   \n",
       "21  Pernod Ricard Usa/austin Nichols    750         6    1         NULL 40   \n",
       "22  Pernod Ricard Usa/austin Nichols    750         6    1         NULL 40   \n",
       "23  Pernod Ricard Usa/austin Nichols    750         6    4         NULL 40   \n",
       "24  Pernod Ricard Usa/austin Nichols    250        24    5         NULL 40   \n",
       "25  Campari(skyy)                       750         6    1         NULL 40   \n",
       "26  Pernod Ricard Usa/austin Nichols   3000         2   60         NULL 40   \n",
       "27  Diageo Americas                      50        60    1         NULL 40   \n",
       "28  Jinro America Inc                   375        24    1         NULL 40   \n",
       "29  Jinro America Inc                   750        12    1         NULL 40   \n",
       "30  Mhw Ltd                             200        12    1         NULL 40   \n",
       "... ...                                ...         ...  ...        ...  ...  \n",
       "178 Pernod Ricard Usa/austin Nichols    750        12   1          NULL 40   \n",
       "179 Pernod Ricard Usa/austin Nichols    750        12   1          NULL 40   \n",
       "180 Pernod Ricard Usa/austin Nichols    750        12   1          NULL 40   \n",
       "181 Pernod Ricard Usa/austin Nichols    200        48   1          NULL 40   \n",
       "182 Pernod Ricard Usa/austin Nichols    200        48   1          NULL 40   \n",
       "183 Pernod Ricard Usa/austin Nichols    750        12   1          NULL 40   \n",
       "184 Kobrand Corporation                 200        24   1          NULL 40   \n",
       "185 Dreyfus Ashby Co.                   750         6   1          NULL 40   \n",
       "186 Dreyfus Ashby Co.                   750         6   1          NULL 40   \n",
       "187 Dreyfus Ashby Co.                   750         6   1          NULL 40   \n",
       "188 Kobrand Corporation                 750        12   1          NULL 40   \n",
       "189 Kobrand Corporation                 375        12   1          NULL 40   \n",
       "190 Pernod Ricard Usa/austin Nichols    750        12   1          NULL 40   \n",
       "191 Luxco-cleveland                     750        12   1          NULL 40   \n",
       "192 Pernod Ricard Usa/austin Nichols    750        12   1          NULL 40   \n",
       "193 Pernod Ricard Usa/austin Nichols    750        12   1          NULL 40   \n",
       "194 Pernod Ricard Usa/austin Nichols    750        12   1          NULL 40   \n",
       "195 Dreyfus Ashby Co.                   750         6   1          NULL 40   \n",
       "196 Dreyfus Ashby Co.                   750         6   1          NULL 40   \n",
       "197 Constellation Wine Company Inc.     750        12   1          NULL 40   \n",
       "198 Pernod Ricard Usa/austin Nichols    375        24   1          NULL 40   \n",
       "199 Pernod Ricard Usa/austin Nichols    750        12   1          NULL 40   \n",
       "200 Heaven Hill Distilleries Inc.       750        12   1          NULL 40   \n",
       "201 Laird And Company                  1000        12   1          NULL 40   \n",
       "202 Pernod Ricard Usa/austin Nichols    200        24   1          NULL 40   \n",
       "203 Pernod Ricard Usa/austin Nichols    200        48   1          NULL 40   \n",
       "204 Tanteo Tequila                      750         6   1          NULL 40   \n",
       "205 Jim Beam Brands                    1000        12   1          NULL 40   \n",
       "206 Jim Beam Brands                     750        12   1          NULL 40   \n",
       "207 Bacardi U.s.a. Inc.                 750         6   1          NULL 40   \n",
       "    list_date  upc          scc            bottle_price shelf_price case_cost\n",
       "1   2009-02-11 NULL         NULL           $9.77        14.66       117.22   \n",
       "2   2010-01-27 NULL         10080700000000 $6.30         9.45        75.60   \n",
       "3   2010-01-27 NULL         NULL           $6.30         9.45        75.60   \n",
       "4   2009-02-11 94922114464  10094900000000 $10.71       16.07       128.53   \n",
       "5   2009-06-09 NULL         NULL           $17.00       25.50       102.00   \n",
       "6   2010-08-12 NULL         NULL           $6.50         9.75        39.00   \n",
       "7   2010-08-19 NULL         904855         $13.33       20.00       160.00   \n",
       "8   2010-08-25 NULL         NULL           $6.41         9.62        76.94   \n",
       "9   2010-08-27 82301100801  NULL           $9.50        14.24       113.94   \n",
       "10  2011-02-16 NULL         10081400000000 $10.50       15.75       126.00   \n",
       "11  2013-11-01 86785581040  70086800000000 $24.67       37.01       147.97   \n",
       "12  2013-08-01 86785581026  70086800000000 $16.67       25.01        99.97   \n",
       "13  2006-09-01 NULL         NULL           $12.06       18.09        72.37   \n",
       "14  2005-10-01 NULL         NULL           $12.99       19.49        77.96   \n",
       "15  2006-08-01 NULL         NULL           $11.11       16.67        66.68   \n",
       "16  2006-09-01 NULL         NULL           $11.11       16.67        66.68   \n",
       "17  2012-10-01 89540504810  10089500000000 $12.00       18.00        71.97   \n",
       "18  2002-08-01 NULL         NULL           $6.39         9.59        38.36   \n",
       "19  2002-08-01 NULL         NULL           $6.39         9.59        38.36   \n",
       "20  2005-09-01 NULL         NULL           $11.11       16.67        66.67   \n",
       "21  2005-09-01 NULL         NULL           $11.11       16.67        66.67   \n",
       "22  2007-08-01 NULL         NULL           $11.61       17.42        69.68   \n",
       "23  2011-09-01 89540503707  10089500000000 $11.62       17.43        69.68   \n",
       "24  2013-10-01 89540504674  10089500000000 $3.49         5.24        83.76   \n",
       "25  2014-12-01 721059000000 10721100000000 $13.50       20.25        80.97   \n",
       "26  2012-10-01 89540504827  10089500000000 $53.94       80.91       107.88   \n",
       "27  1995-06-01 NULL         NULL           $0.64         0.95        38.15   \n",
       "28  2013-09-20 NULL         10795700000000 $3.63         5.45        87.00   \n",
       "29  2013-09-20 NULL         NULL           $7.25        10.88        87.00   \n",
       "30  2013-01-08 88076178151  966053         $5.99         8.99        71.91   \n",
       "... ...        ...          ...            ...          ...         ...      \n",
       "178 2000-11-20 80432401446  NULL           $4.99         7.49        59.88   \n",
       "179 2000-11-20 NULL         NULL           $4.57         6.85        54.80   \n",
       "180 2007-04-19 NULL         NULL           $11.61       17.42       139.36   \n",
       "181 1997-04-02 NULL         NULL           $1.48         2.22        70.97   \n",
       "182 2000-01-11 NULL         NULL           $1.48         2.22        70.97   \n",
       "183 2000-11-20 NULL         NULL           $4.57         6.86        54.80   \n",
       "184 2004-11-01 NULL         NULL           $2.81         4.22        67.45   \n",
       "185 2007-05-07 NULL         NULL           $17.67       26.51       106.00   \n",
       "186 2007-05-07 NULL         NULL           $17.67       26.51       106.00   \n",
       "187 2007-05-07 NULL         NULL           $17.67       26.51       106.00   \n",
       "188 2004-11-01 NULL         84692474301    $11.63       17.45       139.50   \n",
       "189 2004-10-01 NULL         84692474400    $5.63         8.45        67.50   \n",
       "190 2001-03-19 NULL         NULL           $4.57         6.86        54.80   \n",
       "191 2002-02-11 NULL         NULL           $2.83         4.25        33.96   \n",
       "192 2001-03-19 NULL         NULL           $4.57         6.85        54.80   \n",
       "193 2001-05-01 NULL         10080400000000 $4.57         6.85        54.80   \n",
       "194 2008-08-01 NULL         10089500000000 $4.00         5.99        47.94   \n",
       "195 2007-05-07 NULL         NULL           $17.67       26.51       106.00   \n",
       "196 2007-05-07 NULL         NULL           $17.67       26.51       106.00   \n",
       "197 2009-01-06 NULL         NULL           $10.00       15.00       119.94   \n",
       "198 2003-04-01 80432403457  NULL           $2.66         3.99        63.89   \n",
       "199 1990-08-15 NULL         NULL           $10.33       15.50       123.90   \n",
       "200 2004-12-20 NULL         10677100000000 $6.94        10.41        83.29   \n",
       "201 2003-08-29 NULL         10084800000000 $13.33       20.00       159.95   \n",
       "202 2000-09-11 NULL         20080400000000 $0.99         1.49        23.76   \n",
       "203 2000-09-11 NULL         NULL           $1.48         2.22        70.97   \n",
       "204 2013-09-24 NULL         NULL           $22.33       33.50       134.00   \n",
       "205 2009-03-25 NULL         NULL           $15.34       23.01       184.11   \n",
       "206 2009-10-13 NULL         10080700000000 $6.03         9.05        72.41   \n",
       "207 2009-10-14 98804001002  10898800000000 $19.22       28.83       115.33   "
      ]
     },
     "metadata": {},
     "output_type": "display_data"
    }
   ],
   "source": [
    "# Filter\n",
    "filter(data,proof==40 )"
   ]
  },
  {
   "cell_type": "code",
   "execution_count": null,
   "id": "happy-telescope",
   "metadata": {},
   "outputs": [],
   "source": [
    "# More than one filter?\n",
    "filter(data,proof==40,pack>10)"
   ]
  },
  {
   "cell_type": "code",
   "execution_count": null,
   "id": "shared-craps",
   "metadata": {},
   "outputs": [],
   "source": [
    "# Arrange\n",
    "arrange(data, vendor)"
   ]
  },
  {
   "cell_type": "code",
   "execution_count": null,
   "id": "stuffed-baseball",
   "metadata": {},
   "outputs": [],
   "source": [
    "# Change the order\n",
    "arrange(data, desc(vendor))"
   ]
  },
  {
   "cell_type": "code",
   "execution_count": null,
   "id": "atlantic-header",
   "metadata": {},
   "outputs": [],
   "source": [
    "# Filter then arrange\n",
    "arrange(filter(data,bottle_size>10), vendor)\n"
   ]
  },
  {
   "cell_type": "markdown",
   "id": "fresh-romania",
   "metadata": {},
   "source": [
    "## Piping\n",
    "\n",
    "Using functions in R can be laborious if you want to apply more than one to your data as every new function needs to be wrapped around your statement (meaning it could get quite long). Instead we can use a technique called 'piping' which allows you to concatenate functions into a single statement using `%>%`.\n",
    "\n",
    "Using the example from above:"
   ]
  },
  {
   "cell_type": "code",
   "execution_count": null,
   "id": "sharp-reception",
   "metadata": {},
   "outputs": [],
   "source": [
    "data %>% filter(bottle_size>10) %>% arrange(vendor)"
   ]
  },
  {
   "cell_type": "code",
   "execution_count": null,
   "id": "advance-bidding",
   "metadata": {},
   "outputs": [],
   "source": [
    "# This can be stored to a variable\n",
    "d <- data %>% filter(bottle_size>10) %>% arrange(vendor)"
   ]
  },
  {
   "cell_type": "markdown",
   "id": "editorial-commissioner",
   "metadata": {},
   "source": [
    "Piping is a more intuitive way of writing your code as it starts with your data and then applies the functions.\n",
    "\n",
    "The process can be summarised by:\n",
    "<img src=\"./Assets/Session_2/pipe.PNG\" >"
   ]
  },
  {
   "cell_type": "markdown",
   "id": "delayed-anthropology",
   "metadata": {},
   "source": [
    "## Slicing, Column Selection and Renaming\n",
    "\n",
    "Note, that R is 1-indexed (unlike Python which is 0-indexed). Keep this in mind when slicing data. "
   ]
  },
  {
   "cell_type": "code",
   "execution_count": null,
   "id": "turkish-singapore",
   "metadata": {},
   "outputs": [],
   "source": [
    "data %>% slice(1:5)"
   ]
  },
  {
   "cell_type": "markdown",
   "id": "compound-showcase",
   "metadata": {},
   "source": [
    "Selecting a column is a simple as just saying what column you want:"
   ]
  },
  {
   "cell_type": "code",
   "execution_count": null,
   "id": "located-mediterranean",
   "metadata": {},
   "outputs": [],
   "source": [
    "data %>% select(category_name) %>% head()"
   ]
  },
  {
   "cell_type": "markdown",
   "id": "desirable-proof",
   "metadata": {},
   "source": [
    "When renaming a column notice that the new name comes first:"
   ]
  },
  {
   "cell_type": "code",
   "execution_count": null,
   "id": "german-canberra",
   "metadata": {},
   "outputs": [],
   "source": [
    "data %>% rename(vendor_no=vendor) "
   ]
  },
  {
   "cell_type": "markdown",
   "id": "periodic-cache",
   "metadata": {},
   "source": [
    "## Mutate, Group By and Summarise\n",
    "\n",
    "Mutate allows you to update or create new columns:"
   ]
  },
  {
   "cell_type": "code",
   "execution_count": null,
   "id": "mechanical-pastor",
   "metadata": {},
   "outputs": [],
   "source": [
    "data %>% mutate(total_cost=pack*case_cost) "
   ]
  },
  {
   "cell_type": "markdown",
   "id": "exposed-dominant",
   "metadata": {},
   "source": [
    "If you want to change an existing column you just need to reference it as the column name in the mutate statement. Note for these changes to take effect I would need to assign the pipeline to a variable."
   ]
  },
  {
   "cell_type": "code",
   "execution_count": null,
   "id": "extra-south",
   "metadata": {},
   "outputs": [],
   "source": [
    "data %>% mutate(vendor=vendor+1)"
   ]
  },
  {
   "cell_type": "markdown",
   "id": "instructional-trout",
   "metadata": {},
   "source": [
    "Summarise allows you to tuen many observations into a single datapoint. This is not to be confused with summary() which we saw earlier."
   ]
  },
  {
   "cell_type": "code",
   "execution_count": null,
   "id": "increasing-object",
   "metadata": {},
   "outputs": [],
   "source": [
    "data %>% summarise(mean_bottle_size=mean(bottle_size))"
   ]
  },
  {
   "cell_type": "markdown",
   "id": "medical-crown",
   "metadata": {},
   "source": [
    "Summarise is particularly powerful when combined with group_by which allows you to summarise within a group:"
   ]
  },
  {
   "cell_type": "code",
   "execution_count": null,
   "id": "other-outreach",
   "metadata": {},
   "outputs": [],
   "source": [
    "data %>% group_by(category_name) %>% summarise(mean_bottle_size=mean(bottle_size)) %>% head()"
   ]
  },
  {
   "cell_type": "markdown",
   "id": "domestic-longitude",
   "metadata": {},
   "source": [
    "## Exercise\n",
    "\n",
    "### 1) Import gapminder data using `read_csv`"
   ]
  },
  {
   "cell_type": "code",
   "execution_count": null,
   "id": "entire-machine",
   "metadata": {},
   "outputs": [],
   "source": [
    "gap_data <- read_csv('./data/gapminder_data.csv')"
   ]
  },
  {
   "cell_type": "markdown",
   "id": "theoretical-triumph",
   "metadata": {},
   "source": [
    "### Check the head, tail and summary statistics of your data"
   ]
  },
  {
   "cell_type": "code",
   "execution_count": null,
   "id": "impressive-carol",
   "metadata": {},
   "outputs": [],
   "source": [
    "# A:"
   ]
  },
  {
   "cell_type": "markdown",
   "id": "satisfied-delay",
   "metadata": {},
   "source": [
    "Click here for solution\n",
    "\n",
    "<span style ='color:white'>\n",
    "\n",
    "head(gap_data)\n",
    "tail(gap_data)\n",
    "summary(gap_data)"
   ]
  },
  {
   "cell_type": "markdown",
   "id": "dimensional-football",
   "metadata": {},
   "source": [
    "### 3) Calculate the summary statistics for the `pop` column"
   ]
  },
  {
   "cell_type": "code",
   "execution_count": null,
   "id": "integrated-reply",
   "metadata": {},
   "outputs": [],
   "source": [
    "# A:"
   ]
  },
  {
   "cell_type": "markdown",
   "id": "filled-defensive",
   "metadata": {},
   "source": [
    "Click here for solution\n",
    "\n",
    "<span style ='color:white'>\n",
    "summary(gap_data$pop)"
   ]
  },
  {
   "cell_type": "markdown",
   "id": "sunrise-watershed",
   "metadata": {},
   "source": [
    "### 4) Filter the Dataset to only include data for `2007` and call it `gap_2007`"
   ]
  },
  {
   "cell_type": "code",
   "execution_count": null,
   "id": "respective-character",
   "metadata": {},
   "outputs": [],
   "source": [
    "# A:"
   ]
  },
  {
   "cell_type": "markdown",
   "id": "clear-leone",
   "metadata": {},
   "source": [
    "Click here for solution\n",
    "\n",
    "<span style ='color:white'>\n",
    "\n",
    "gap_2007 <- gap_data %>% filter(year==2007)"
   ]
  },
  {
   "cell_type": "markdown",
   "id": "first-westminster",
   "metadata": {},
   "source": [
    "### 5) Slice the first 20 rows of the data and call it `gap_20`"
   ]
  },
  {
   "cell_type": "code",
   "execution_count": null,
   "id": "superb-conversation",
   "metadata": {},
   "outputs": [],
   "source": [
    "# A:"
   ]
  },
  {
   "cell_type": "markdown",
   "id": "thick-dominant",
   "metadata": {},
   "source": [
    "Click here for solution\n",
    "\n",
    "<span style ='color:white'>\n",
    "\n",
    "gap_20 <- gap_data %>% slice(1:20)"
   ]
  },
  {
   "cell_type": "markdown",
   "id": "greenhouse-colony",
   "metadata": {},
   "source": [
    "### 6) Return the mean `gdpPercap` for each continent for 2007"
   ]
  },
  {
   "cell_type": "code",
   "execution_count": null,
   "id": "collaborative-roots",
   "metadata": {},
   "outputs": [],
   "source": [
    "# A:"
   ]
  },
  {
   "cell_type": "markdown",
   "id": "magnetic-genius",
   "metadata": {},
   "source": [
    "Click here for solution\n",
    "\n",
    "<span style ='color:white'>\n",
    "gap_data %>% filter(year==2007) %>% group_by(continent) %>% summarise(mean_gdpPercap_2007=mean(gdpPercap))"
   ]
  },
  {
   "cell_type": "markdown",
   "id": "powered-hawaii",
   "metadata": {},
   "source": [
    "<hr>"
   ]
  },
  {
   "cell_type": "markdown",
   "id": "behind-society",
   "metadata": {},
   "source": [
    "<a id=\"visualisation-in-R\"></a>\n",
    "<div class='image' style='position:relative;width:100%;height:60%'>\n",
    "    <img src=\"./Assets/background.PNG\" >\n",
    "    <h2 style ='color:white; font-size: 60px; font-weight:bold; position:absolute; top:150px; left:100px; width:90%'> Visualisation in R </h2>\n",
    "</div>\n",
    "<br>\n",
    "\n",
    "\n",
    "\n"
   ]
  },
  {
   "cell_type": "markdown",
   "id": "modular-cooperation",
   "metadata": {},
   "source": [
    "[Top](#outline)\n",
    "\n",
    "<p><b>Aim:</b> Build Visualisations in R <p>"
   ]
  },
  {
   "cell_type": "markdown",
   "id": "lucky-chuck",
   "metadata": {},
   "source": [
    "We know from previous modules that visualisation is an important part of our exploratory data analysis. You have seen how to do it in Excel, Python and with a platform. For your portfolio it is important you show a range of skills and tehcniques so it is a good idea to consider how you can demonstrate some analysis using R, and visualisations are a good place to start. "
   ]
  },
  {
   "cell_type": "markdown",
   "id": "dense-cotton",
   "metadata": {},
   "source": [
    "## Visualisation with `ggplot`\n",
    "\n",
    "The main visualisation package we will use is ggplot which offers a wide variety of visualisations for you to choose from.\n",
    "<img src=\"./Assets/Session_2/iris.PNG\" >\n",
    "<img src=\"./Assets/Session_2/responsibilities.PNG\" >\n",
    "\n",
    "<a href='https://www.datanovia.com/en/blog/ggplot-examples-best-reference/'> Some other examples </a> "
   ]
  },
  {
   "cell_type": "markdown",
   "id": "varying-clone",
   "metadata": {},
   "source": [
    "The syntax for building a visualisation is `ggplot(data,aesthetics) + plot type`. Let's build a simple scatter graph from our gap_data to demonstrate:"
   ]
  },
  {
   "cell_type": "code",
   "execution_count": null,
   "id": "ignored-darwin",
   "metadata": {},
   "outputs": [],
   "source": [
    "# To build a scatter graph we need to state the data source, what our x and y values are and what type of plot we want.\n",
    "ggplot(data=gap_data,aes(x=lifeExp,y=pop)) + geom_point()"
   ]
  },
  {
   "cell_type": "code",
   "execution_count": null,
   "id": "crude-bundle",
   "metadata": {},
   "outputs": [],
   "source": [
    "# If I wanted to colour by continent\n",
    "ggplot(data=gap_data,aes(x=lifeExp,y=pop,color=continent)) + geom_point()"
   ]
  },
  {
   "cell_type": "code",
   "execution_count": null,
   "id": "charitable-metropolitan",
   "metadata": {},
   "outputs": [],
   "source": [
    "# To build a bar graph we change to geom_bar. In this example we are calculating the mean lifeExp per continent\n",
    "ggplot(data=gap_data,aes(x=continent,y=lifeExp)) + geom_bar(stat='summary',fun='mean')"
   ]
  },
  {
   "cell_type": "code",
   "execution_count": null,
   "id": "retired-comparative",
   "metadata": {},
   "outputs": [],
   "source": [
    "# Boxplots\n",
    "ggplot(data=gap_data,aes(x=continent,y=lifeExp)) + geom_boxplot()"
   ]
  },
  {
   "cell_type": "markdown",
   "id": "damaged-lindsay",
   "metadata": {},
   "source": [
    "We can also change things about our plots to make them more attractive, such as colours, titles and captions."
   ]
  },
  {
   "cell_type": "code",
   "execution_count": null,
   "id": "arranged-candle",
   "metadata": {},
   "outputs": [],
   "source": [
    "ggplot(data=gap_data,aes(x=continent,y=lifeExp)) + \n",
    "    geom_bar(stat='summary',fun='mean',fill=c('blue','red','green','yellow','orange')) +\n",
    "    labs(x='Continent',y='Mean Life Expectancy',title='Mean Life Expectancy per Continent') "
   ]
  },
  {
   "cell_type": "markdown",
   "id": "offshore-ability",
   "metadata": {},
   "source": [
    "If we want to fit more than one visualisation on the page, we can use faceting to create subplots"
   ]
  },
  {
   "cell_type": "code",
   "execution_count": null,
   "id": "mobile-default",
   "metadata": {},
   "outputs": [],
   "source": [
    "ggplot(data=gap_data,aes(x=lifeExp,y=pop)) + geom_point() + facet_wrap(vars(continent))"
   ]
  },
  {
   "cell_type": "markdown",
   "id": "brown-germany",
   "metadata": {},
   "source": [
    "Of course there are far more things you can do to build visualisations in R, more than we can show you in this session. Like Python, R has a well documented library to help you understand and build the visualisations you want."
   ]
  },
  {
   "cell_type": "markdown",
   "id": "christian-longitude",
   "metadata": {},
   "source": [
    "## Exercise\n",
    "\n",
    "<ol>\n",
    "    <li> Plot the gdpPercap against lifeExp as a scatter plot using 2007 data </li>\n",
    "    <li> Plot the gdpPercap against lifeEXP as a scatter plot, colour by continent using 2007 data </li>\n",
    "    <li> Plot the gdpPercap against lifeExp as a scatter plot, colour by continent and size by pop using 2007 data (Hint: you can add the argument size to the aesthetics </li>\n",
    "    <li> Make a line plot of the pop column for the United Kingdom (Hint: you will need geom_line() not geom_point())</li>\n",
    "</ol>"
   ]
  },
  {
   "cell_type": "code",
   "execution_count": null,
   "id": "broadband-election",
   "metadata": {},
   "outputs": [],
   "source": [
    "# A:"
   ]
  },
  {
   "cell_type": "markdown",
   "id": "large-judgment",
   "metadata": {},
   "source": [
    "Click here for solutions\n",
    "<span style ='color:white'>\n",
    "    #1 ggplot(data = gap_2007, aes(x=gdpPercap,y=lifeExp))+\n",
    "  geom_point()+\n",
    "  labs(x='GDP per Capita',y='Life Expectancy')\n",
    "    #2 ggplot(data = gap_2007, aes(x=gdpPercap,y=lifeExp,color=continent))+\n",
    "  geom_point()+\n",
    "  labs(x='GDP per Capita',y='Life Expectancy')\n",
    "    #3 ggplot(data = gap_2007, aes(x=gdpPercap,y=lifeExp,color=continent,size=pop))+\n",
    "  geom_point()+\n",
    "  labs(x='GDP per Capita',y='Life Expectancy')\n",
    "    #4 uk_pop=gap_data %>% filter(country=='United Kingdom')\n",
    "ggplot(data = uk_pop, aes(x=year,y=pop)) + \n",
    "  geom_line() +\n",
    "  labs(x='Year',y='Population',title='UK population per year')"
   ]
  },
  {
   "cell_type": "markdown",
   "id": "otherwise-petroleum",
   "metadata": {},
   "source": [
    "### Stretch\n",
    "\n",
    "Can you recreate the following plots?\n",
    "1) gdpPercap against lifeExp as a scatter plot with subplots\n",
    "<img src=\"./Assets/Session_2/scatter.PNG\" >\n",
    "2) Boxplots for lifeExp for all continents\n",
    "<img src=\"./Assets/Session_2/box.PNG\" >\n",
    "3) Box plot and jitter plot of Europe population in 2007\n",
    "<img src=\"./Assets/Session_2/Jitter.PNG\" >"
   ]
  },
  {
   "cell_type": "code",
   "execution_count": null,
   "id": "mobile-operator",
   "metadata": {},
   "outputs": [],
   "source": [
    "# A"
   ]
  },
  {
   "cell_type": "markdown",
   "id": "amino-reception",
   "metadata": {},
   "source": [
    "Click here for solutions\n",
    "<span style ='color:white'>\n",
    "    #1 ggplot(data=gap_data, aes(x=gdpPercap,\n",
    "                     y=lifeExp, size=pop, \n",
    "                     color=continent)) + \n",
    "              geom_point() + facet_wrap(vars(continent))\n",
    "    #2 ggplot(gap_data, aes(x=lifeExp)) +\n",
    "              geom_boxplot() +\n",
    "              facet_wrap(vars(continent))\n",
    "    #3 ggplot(filter(gap_2007,continent=='Europe'),aes(x=continent,y=pop)) + \n",
    "              geom_boxplot(color='blue') + \n",
    "              geom_jitter(color='red')"
   ]
  },
  {
   "cell_type": "markdown",
   "id": "separated-factor",
   "metadata": {},
   "source": [
    "<hr>"
   ]
  },
  {
   "cell_type": "markdown",
   "id": "agreed-exclusion",
   "metadata": {},
   "source": [
    "<a id=\"linear-modelling-in-R\"></a>\n",
    "<div class='image' style='position:relative;width:100%;height:60%'>\n",
    "    <img src=\"./Assets/background.PNG\" >\n",
    "    <h2 style ='color:white; font-size: 60px; font-weight:bold; position:absolute; top:150px; left:100px; width:90%'> Linear Modelling in R </h2>\n",
    "</div>\n",
    "\n",
    "\n"
   ]
  },
  {
   "cell_type": "markdown",
   "id": "dental-spoke",
   "metadata": {},
   "source": [
    "[Top](#outline)\n",
    "\n",
    "<p><b>Aim:</b> Learn about different modelling techniques in R <p>"
   ]
  },
  {
   "cell_type": "markdown",
   "id": "reverse-civilian",
   "metadata": {},
   "source": [
    "The final part of our whistle-stop tour of R is to see how eays it is do build a linear model. R has a wide range of models you can use as well as allowing you to perform statistical tests such as ANOVA, t-tests and generalised linear modelling. The examples below show how to start building these models/tests but if you want to learn more will need to do your own research."
   ]
  },
  {
   "cell_type": "markdown",
   "id": "systematic-population",
   "metadata": {},
   "source": [
    "## Linear Regression\n",
    "\n",
    "Think back to statsmodels we saw in Python for building a model, the syntax is very similar (if not simpler). \n",
    "\n",
    "To start all you need is `lm(dependent~independent, data=data)`"
   ]
  },
  {
   "cell_type": "code",
   "execution_count": null,
   "id": "adverse-freight",
   "metadata": {},
   "outputs": [],
   "source": [
    "mymodel <- lm(lifeExp~gdpPercap,data=gap_data)"
   ]
  },
  {
   "cell_type": "code",
   "execution_count": null,
   "id": "rough-provider",
   "metadata": {},
   "outputs": [],
   "source": [
    "my_multi_model <- lm(lifeExp~gdpPercap + pop, data=gap_data) # Adding in more than one predictor"
   ]
  },
  {
   "cell_type": "markdown",
   "id": "smooth-lease",
   "metadata": {},
   "source": [
    "To evaluate your model, checking coefficients and scores all you need is `summary()`"
   ]
  },
  {
   "cell_type": "code",
   "execution_count": null,
   "id": "alpha-coaching",
   "metadata": {},
   "outputs": [],
   "source": [
    "summary(mymodel)"
   ]
  },
  {
   "cell_type": "markdown",
   "id": "measured-breakdown",
   "metadata": {},
   "source": [
    "Values you should inspect- R-squared and the coefficients of your predictors (listed as Estimate). Like with statsmodels, the Pr(>|t|) will tell you how statistically significant that feature is (below 0.05 is good)"
   ]
  },
  {
   "cell_type": "code",
   "execution_count": null,
   "id": "entire-differential",
   "metadata": {},
   "outputs": [],
   "source": [
    "summary(my_multi_model)"
   ]
  },
  {
   "cell_type": "markdown",
   "id": "designed-classification",
   "metadata": {},
   "source": [
    "## Logistic Regression\n",
    "\n",
    "In R logistic regression is known as a logit model and can be accessed using a generalised linear model (glm). For this example we will create a new column for our 2007 data called `is_europe` where if a country is in Europe the value will be 1 and 0 otherwise. We can use the `ifelse` function combined with `mutate` to create this feature."
   ]
  },
  {
   "cell_type": "code",
   "execution_count": null,
   "id": "religious-fiber",
   "metadata": {},
   "outputs": [],
   "source": [
    "gap_europe_2007 = gap_2007 %>% mutate(is_europe= ifelse(continent=='Europe',1,0))"
   ]
  },
  {
   "cell_type": "code",
   "execution_count": null,
   "id": "partial-bandwidth",
   "metadata": {},
   "outputs": [],
   "source": [
    "logit_model <- glm(is_europe~gdpPercap, data=gap_europe_2007)"
   ]
  },
  {
   "cell_type": "code",
   "execution_count": null,
   "id": "aerial-amplifier",
   "metadata": {},
   "outputs": [],
   "source": [
    "summary(logit_model)"
   ]
  },
  {
   "cell_type": "markdown",
   "id": "incorrect-wireless",
   "metadata": {},
   "source": [
    "## t-test\n",
    "\n",
    "Earlier in the course we discussed hypothesis testing to see if something was statistically significant (e.g. more students failing a test than expected). We can use a t-test to check if there is a statistically significant difference between our observed mean and the one we would expect. For example, in 1997 the average life expectancy in Asia was 59 but by 2007 it was nearly 71. Is this a significant increase? \n",
    "\n",
    "We can check with a t-test"
   ]
  },
  {
   "cell_type": "code",
   "execution_count": null,
   "id": "outer-realtor",
   "metadata": {},
   "outputs": [],
   "source": [
    "gap_data %>% filter(year==1977) %>% group_by(continent) %>% summarise(mean_lifeExp=mean(lifeExp))"
   ]
  },
  {
   "cell_type": "code",
   "execution_count": null,
   "id": "south-jewel",
   "metadata": {},
   "outputs": [],
   "source": [
    "gap_data %>% filter(year==2007) %>% group_by(continent) %>% summarise(mean_lifeExp=mean(lifeExp))"
   ]
  },
  {
   "cell_type": "code",
   "execution_count": null,
   "id": "varied-acrobat",
   "metadata": {},
   "outputs": [],
   "source": [
    "gap_asia_2007= gap_data %>% filter(year==2007,continent=='Asia') #subset our data to Asia in 2007"
   ]
  },
  {
   "cell_type": "markdown",
   "id": "protecting-happiness",
   "metadata": {},
   "source": [
    "H0: Life Expectancy in 2007 is the same as in 1977 (mean=59.6) <br>\n",
    "H1: Life Expectancy in 2007 is not the same as in 1977 (mean!=59.6)\n",
    "\n",
    "This is a two tailed test which we will conduct at the 5% level"
   ]
  },
  {
   "cell_type": "code",
   "execution_count": null,
   "id": "conceptual-yorkshire",
   "metadata": {},
   "outputs": [],
   "source": [
    "t.test(gap_asia_2007$lifeExp,mu=59.6) "
   ]
  },
  {
   "cell_type": "markdown",
   "id": "bizarre-coalition",
   "metadata": {},
   "source": [
    "The values to pick out are the p-value (less than 0.05 so we have sufficient evidence to reject the null hypothesis in favour of the alternate) and the 95% confidence interval which states we are 95% confident that the true mean life expectancy for Asia in 2007 is between 67.9 and 73.6. As the 1977 average of 59.6 does not fall in this range we have further evidence we should reject the null hypothesis."
   ]
  },
  {
   "cell_type": "markdown",
   "id": "occupational-philadelphia",
   "metadata": {},
   "source": [
    "However, this was a two tailed test. We can amend our code for it to be one tailed.\n",
    "\n",
    "e.g. H1: Life Expectancy in 2007 is greater than that in 1977 (mean>59.6)"
   ]
  },
  {
   "cell_type": "code",
   "execution_count": null,
   "id": "differential-flush",
   "metadata": {},
   "outputs": [],
   "source": [
    "t.test(gap_asia_2007$lifeExp,mu=59.6,alternative='greater')"
   ]
  },
  {
   "cell_type": "markdown",
   "id": "varying-lending",
   "metadata": {},
   "source": [
    "There are many other tests available in R to consider for hypothesis testing. This is an area where R has a clear advantage of Python as these tests are already built in."
   ]
  },
  {
   "cell_type": "markdown",
   "id": "ordinary-thickness",
   "metadata": {},
   "source": [
    "<hr>"
   ]
  },
  {
   "cell_type": "markdown",
   "id": "applicable-disease",
   "metadata": {},
   "source": [
    "<a id=\"rstudio\"></a> \n",
    "<div class='image' style='position:relative;width:100%;height:60%'>\n",
    "    <img src=\"./Assets/background.PNG\" >\n",
    "    <h2 style ='color:white; font-size: 60px; font-weight:bold; position:absolute; top:150px; left:100px; width:90%'> R Studio </h2>\n",
    "</div>\n",
    "\n"
   ]
  },
  {
   "cell_type": "markdown",
   "id": "nasty-floating",
   "metadata": {},
   "source": [
    "[Top](#outline)\n",
    "<img src=\"./Assets/Session_2/rlogo.PNG\" > <br>\n",
    "    \n",
    "Up to this point we have been using Jupyter Notebook to code in R, but this is not the industry standard. Most companies tend to use a GUI like RStudio. For your portfolio you are welcome to keep using Jupyter but if you would like you can download RStudio from <a href=' https://rstudio.com/products/rstudio/download/'> here </a>. \n",
    "    \n",
    "While the GUI is different, the syntax is the exact same. Everything you have learned today can be typed the same way in RStudio. <br>\n",
    "    \n",
    "<img src=\"./Assets/Session_2/rsgui.PNG\" >"
   ]
  },
  {
   "cell_type": "markdown",
   "id": "least-norman",
   "metadata": {},
   "source": [
    "<hr>"
   ]
  },
  {
   "cell_type": "markdown",
   "id": "younger-folks",
   "metadata": {},
   "source": [
    "<a id=\"recap\"></a> \n",
    "<div class='image' style='position:relative;width:100%;height:60%'>\n",
    "    <img src=\"./Assets/background.PNG\" >\n",
    "    <h2 style ='color:white; font-size: 60px; font-weight:bold; position:absolute; top:150px; left:100px; width:90%'> Recap </h2>\n",
    "</div>\n"
   ]
  },
  {
   "cell_type": "markdown",
   "id": "requested-photography",
   "metadata": {},
   "source": [
    "\n",
    "\n",
    "[Top](#outline)"
   ]
  },
  {
   "cell_type": "markdown",
   "id": "possible-eugene",
   "metadata": {},
   "source": [
    "## Learning Objectives\n",
    "\n",
    "- Understand the Basics of R\n",
    "- Compare and Contrast the funcitons of R with Python\n",
    "- Utilise R to perform Data Analytics"
   ]
  }
 ],
 "metadata": {
  "kernelspec": {
   "display_name": "R",
   "language": "R",
   "name": "ir"
  },
  "language_info": {
   "codemirror_mode": "r",
   "file_extension": ".r",
   "mimetype": "text/x-r-source",
   "name": "R",
   "pygments_lexer": "r",
   "version": "3.6.1"
  }
 },
 "nbformat": 4,
 "nbformat_minor": 5
}
