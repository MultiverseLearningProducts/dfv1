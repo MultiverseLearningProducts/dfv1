{
 "cells": [
  {
   "cell_type": "markdown",
   "id": "bee5b2e1",
   "metadata": {},
   "source": [
    "<img src=\"Assets/header.PNG\" style=\"width: 1000px; height: 100px\">\n",
    "\n",
    "<h1 style ='color:black; font-size: 50px; font-weight:bold'> Session 2: R </h1>\n",
    "\n",
    "\n",
    "\n",
    "<hr>"
   ]
  },
  {
   "cell_type": "markdown",
   "id": "4ad61da7",
   "metadata": {},
   "source": [
    "<p> In this session we will be exploring R, a computing language which has been optimised for statistical analysis and machine learning. While it does not have the range of functionality Python has, it more than makes up for it with the suite of packages it has for data manipulation, analysis and visualisation. \n",
    "\n",
    "This notebook will cover the basics of R, exploratory data analysis and visualisations. <p>"
   ]
  },
  {
   "cell_type": "markdown",
   "id": "a4d49352",
   "metadata": {},
   "source": [
    "<a id=\"outline\"></a>\n",
    "\n",
    "## Session Outline\n",
    "\n",
    "- [Features of R](#features_of_r)\n",
    "- [Control Flow in R](#control-flow-in-R)\n",
    "- [Exploratory Data Analysis in R](#exploratory-data-analysis-in-R)\n",
    "- [Visualisation in R](#visualisation-in-R)\n",
    "- [Linear Modelling in R](#linear-modelling-in-R)\n",
    "- [RStudio](#rstudio)\n",
    "- [Recap](#recap)\n",
    "\n",
    "## Learning Objectives\n",
    "\n",
    "- Understand the Basics of R\n",
    "- Compare and Contrast the functions of R with Python\n",
    "- Utilise R to perform Data Analytics\n",
    "\n",
    "<hr>\n",
    "\n"
   ]
  },
  {
   "cell_type": "markdown",
   "id": "1f91b69f",
   "metadata": {},
   "source": [
    "<a id=\"features_of_r\"></a>\n",
    "\n",
    "<div class='image' style='width:100%;height:100%'>\n",
    "    <img src=\"Assets/section.PNG\" >\n",
    "    <h2 style ='color:#f4f4f4; font-size: 70px; font-weight:bold; position:absolute; top:150px; left:200px; width:90%'> Features of R </h2>\n",
    "</div>"
   ]
  },
  {
   "cell_type": "markdown",
   "id": "37216779",
   "metadata": {},
   "source": [
    "<a href=#outline> Top </a>\n",
    "\n",
    "<p><b>Aim:</b> Understand the Basic Features of R </p>\n",
    "\n",
    "\n",
    "R is a statistical language realeased in 1995 by Ross Ihaka and Robert Gentleman at the University of Auckland. It was named after the first letter of both author's names, and as a play on S, the computing language R was built upon. R is mostly used for statistical computation and analysis but has also gained attention for developing machine learning products. Like Python, R's statistical computing capabilities can be extended with packages. R is also an object orientated language (OOP) but is not as intuitive as python. However, the wide range of statistical tests and the ease of building visualisations makes R a favourite of statisticians across the globe. \n",
    "\n",
    "<h1> Packages </h1>\n",
    "\n",
    "R packages are collections of functions that allow for reusability, modularity and building cleaner code through extending R capabilities. Packages are stored in repositories called <b>C</b>omprehensive <b>R</b> <b>A</b>rchive <b>N</b>etworks or CRANs. As with Python, R is open source meaning anyone can write packages and you can install any package available in a CRAN. \n",
    "\n",
    "A script in R is a text file with extension `.R` where you can write your code and save anywhere."
   ]
  },
  {
   "cell_type": "markdown",
   "id": "f2f70ce7",
   "metadata": {},
   "source": [
    "### Data Types in R\n",
    "\n",
    "The table below shows the different data types in R and what their python equivalents are.\n",
    "\n",
    "<table style=\" width:100%\">\n",
    "    <tr>\n",
    "        <th style=\"text-align:left; font-size:15px\"><b>Data Type (R)</b></th>\n",
    "    <th style=\"text-align:left; font-size:15px\"><b>Python Equivalent</b></th>\n",
    "    <th style=\"text-align:left; font-size:15px\"><b>Example</b></th>\n",
    "</tr>\n",
    "<tr>\n",
    "    <td style=\"text-align:left\">Character</td> \n",
    "    <td style=\"text-align:left\">String</td>\n",
    "    <td style=\"text-align:left\">'A', 'MultiVerse', 'a123abc'</td> \n",
    "    \n",
    "</tr>\n",
    "<tr>\n",
    "    <td style=\"text-align:left\">Integer</td>\n",
    "    <td style=\"text-align:left\">Integer</td>\n",
    "    <td style=\"text-align:left\">3, 7, 102</td>\n",
    "    \n",
    "</tr>\n",
    "\n",
    "<tr>\n",
    "    <td style=\"text-align:left\">Numeric</td>\n",
    "    <td style=\"text-align:left\">Float</td>\n",
    "    <td style=\"text-align:left\">10.5, 3.14, 2.3</td>\n",
    "    \n",
    "</tr>\n",
    "<tr>\n",
    "    <td style=\"text-align:left\">Logical</td>\n",
    "    <td style=\"text-align:left\">Boolean</td>\n",
    "    <td style=\"text-align:left\">TRUE, FALSE</td>\n",
    "    \n",
    "</tr>\n",
    "<tr>\n",
    "    <td style=\"text-align:left\">NA</td>\n",
    "    <td style=\"text-align:left\">NaN</td>\n",
    "    <td style=\"text-align:left\"></td>\n",
    "    \n",
    "</tr>\n",
    "    \n",
    "    \n",
    "<tr style=\"border: none\">\n",
    "\n",
    "</tr>\n",
    "\n",
    "</table>"
   ]
  },
  {
   "cell_type": "markdown",
   "id": "89ef4ad6",
   "metadata": {},
   "source": [
    "Note that for logical data types they are all capitalised as opposed to python where only the first letter is uppercase."
   ]
  },
  {
   "cell_type": "markdown",
   "id": "b6579a9f",
   "metadata": {},
   "source": [
    "If you are ever stuck in R, remember there is the `help()` function to bring up the documentation. Otherwise, stackoverflow has plenty of solutions to common problems.\n"
   ]
  },
  {
   "cell_type": "markdown",
   "id": "9ae212a4",
   "metadata": {},
   "source": [
    "## Declaring Variables in R\n",
    "\n",
    "### For a single variable"
   ]
  },
  {
   "cell_type": "code",
   "execution_count": null,
   "id": "9cc0dbe2",
   "metadata": {},
   "outputs": [],
   "source": [
    "x <- 'my variable' "
   ]
  },
  {
   "cell_type": "markdown",
   "id": "65b5aec2",
   "metadata": {},
   "source": [
    "Traditionally we use `<-` to assign a variable, but `=` works just as well."
   ]
  },
  {
   "cell_type": "code",
   "execution_count": null,
   "id": "4702fb35",
   "metadata": {},
   "outputs": [],
   "source": [
    "x = 'my variable'"
   ]
  },
  {
   "cell_type": "markdown",
   "id": "02780c78",
   "metadata": {},
   "source": [
    "Like python, R has a print function to see what is stored in a variable."
   ]
  },
  {
   "cell_type": "code",
   "execution_count": null,
   "id": "5334b92b",
   "metadata": {},
   "outputs": [],
   "source": [
    "print(x)"
   ]
  },
  {
   "cell_type": "markdown",
   "id": "8a3d7fa2",
   "metadata": {},
   "source": [
    "Or we could just call the variable name itself to see what is stored..."
   ]
  },
  {
   "cell_type": "code",
   "execution_count": null,
   "id": "a52206ef",
   "metadata": {},
   "outputs": [],
   "source": [
    "x"
   ]
  },
  {
   "cell_type": "markdown",
   "id": "0215aad3",
   "metadata": {},
   "source": [
    "We can also call a collection of integers"
   ]
  },
  {
   "cell_type": "code",
   "execution_count": null,
   "id": "c301b7d0",
   "metadata": {},
   "outputs": [],
   "source": [
    "y <- 2:6\n",
    "y"
   ]
  },
  {
   "cell_type": "markdown",
   "id": "59fb98a2",
   "metadata": {},
   "source": [
    "You can check the datatype of a variable by using the command `typeof()`"
   ]
  },
  {
   "cell_type": "code",
   "execution_count": null,
   "id": "be429cee",
   "metadata": {},
   "outputs": [],
   "source": [
    "typeof(y)"
   ]
  },
  {
   "cell_type": "code",
   "execution_count": null,
   "id": "cb7e3282",
   "metadata": {},
   "outputs": [],
   "source": [
    "# We can add comments in R the same way we do in Python"
   ]
  },
  {
   "cell_type": "code",
   "execution_count": null,
   "id": "7aa22e68",
   "metadata": {},
   "outputs": [],
   "source": [
    "'But there are\n",
    "other methods of doing it too, \n",
    "which let you put it over multiple lines\n",
    "but hashtag is best practice\n",
    "so please dont use this'"
   ]
  },
  {
   "cell_type": "markdown",
   "id": "09ae8bfc",
   "metadata": {},
   "source": [
    "### Mathematical Operators\n",
    "\n",
    "Like python, R has a range of in built operators"
   ]
  },
  {
   "cell_type": "code",
   "execution_count": null,
   "id": "d36fe989",
   "metadata": {},
   "outputs": [],
   "source": [
    "1 + 1"
   ]
  },
  {
   "cell_type": "code",
   "execution_count": null,
   "id": "863c9ff1",
   "metadata": {},
   "outputs": [],
   "source": [
    "10-15"
   ]
  },
  {
   "cell_type": "code",
   "execution_count": null,
   "id": "6c252ab3",
   "metadata": {},
   "outputs": [],
   "source": [
    "5 * 6"
   ]
  },
  {
   "cell_type": "code",
   "execution_count": null,
   "id": "4a8fc0f1",
   "metadata": {},
   "outputs": [],
   "source": [
    "2 ** 5"
   ]
  },
  {
   "cell_type": "code",
   "execution_count": null,
   "id": "5756f686",
   "metadata": {},
   "outputs": [],
   "source": [
    "10 %% 3 #Modulo"
   ]
  },
  {
   "cell_type": "code",
   "execution_count": null,
   "id": "3ba654e5",
   "metadata": {},
   "outputs": [],
   "source": [
    "10/5"
   ]
  },
  {
   "cell_type": "code",
   "execution_count": null,
   "id": "ed802b46",
   "metadata": {},
   "outputs": [],
   "source": [
    "sqrt(25)"
   ]
  },
  {
   "cell_type": "code",
   "execution_count": null,
   "id": "9448720c",
   "metadata": {},
   "outputs": [],
   "source": [
    "mean(c(3,5,6))"
   ]
  },
  {
   "cell_type": "code",
   "execution_count": null,
   "id": "3e806e53",
   "metadata": {},
   "outputs": [],
   "source": [
    "mean(4:6)"
   ]
  },
  {
   "cell_type": "code",
   "execution_count": null,
   "id": "82884e1d",
   "metadata": {},
   "outputs": [],
   "source": [
    "median(4:6)"
   ]
  },
  {
   "cell_type": "markdown",
   "id": "5f7961db",
   "metadata": {},
   "source": [
    "## Data Structures in R\n",
    "\n",
    "Like in python there exist data structures we use to store our data for analyis.\n",
    "\n",
    "\n",
    "### 1)<b> List:</b>  \n",
    "A collection of elements that can hold a combination of data types. Note, a list is also similar to a dictionary in python\n",
    "  "
   ]
  },
  {
   "cell_type": "code",
   "execution_count": null,
   "id": "8a446556",
   "metadata": {},
   "outputs": [],
   "source": [
    "l <- list('a'=1, 'b'=2,'c'=3)\n",
    "l"
   ]
  },
  {
   "cell_type": "markdown",
   "id": "39b49656",
   "metadata": {},
   "source": [
    "If I want to call an element from a list I need to use the `$` notation and reference the tag."
   ]
  },
  {
   "cell_type": "code",
   "execution_count": null,
   "id": "a2b17ec3",
   "metadata": {},
   "outputs": [],
   "source": [
    "l$a"
   ]
  },
  {
   "cell_type": "markdown",
   "id": "85cc09c5",
   "metadata": {},
   "source": [
    "Lists do not require tags to be called however."
   ]
  },
  {
   "cell_type": "code",
   "execution_count": null,
   "id": "21893e19",
   "metadata": {},
   "outputs": [],
   "source": [
    "l2 <- list(1,'some text',3, TRUE)\n",
    "l2"
   ]
  },
  {
   "cell_type": "markdown",
   "id": "1b7186a4",
   "metadata": {},
   "source": [
    "We can reference elements from a list by using their key. Lists in R are more similar to dictionaries in python."
   ]
  },
  {
   "cell_type": "code",
   "execution_count": null,
   "id": "6dec8c43",
   "metadata": {},
   "outputs": [],
   "source": [
    "l2[4]\n"
   ]
  },
  {
   "cell_type": "code",
   "execution_count": null,
   "id": "2dca4754",
   "metadata": {},
   "outputs": [],
   "source": [
    "l2[4]"
   ]
  },
  {
   "cell_type": "code",
   "execution_count": null,
   "id": "1d14aab2",
   "metadata": {},
   "outputs": [],
   "source": [
    "l['a']"
   ]
  },
  {
   "cell_type": "markdown",
   "id": "5d99acef",
   "metadata": {},
   "source": [
    "If I want to retrieve this value for further use I need to use `[[]]`"
   ]
  },
  {
   "cell_type": "code",
   "execution_count": null,
   "id": "f05abbd7",
   "metadata": {},
   "outputs": [],
   "source": [
    "l2[[4]]"
   ]
  },
  {
   "cell_type": "code",
   "execution_count": null,
   "id": "86d33cbb",
   "metadata": {},
   "outputs": [],
   "source": [
    "l[['a']]"
   ]
  },
  {
   "cell_type": "markdown",
   "id": "6e8644eb",
   "metadata": {},
   "source": [
    "To add items to a list you need to call the tag of where you want it to be placed and assign it the value you want. "
   ]
  },
  {
   "cell_type": "code",
   "execution_count": null,
   "id": "49dd4d60",
   "metadata": {},
   "outputs": [],
   "source": [
    "l[['d']] <- 'Multiverse'\n",
    "l"
   ]
  },
  {
   "cell_type": "markdown",
   "id": "92d36508",
   "metadata": {},
   "source": [
    "Editing a value in a list follows the same format."
   ]
  },
  {
   "cell_type": "code",
   "execution_count": null,
   "id": "0f6c4a46",
   "metadata": {},
   "outputs": [],
   "source": [
    "l[['a']] <- 20\n",
    "l"
   ]
  },
  {
   "cell_type": "markdown",
   "id": "03ee6376",
   "metadata": {},
   "source": [
    "To delete an item you assign the tag the value `NULL`."
   ]
  },
  {
   "cell_type": "code",
   "execution_count": null,
   "id": "81921303",
   "metadata": {},
   "outputs": [],
   "source": [
    "l[['b']] <- NULL; l #The semi-colon allows us to put multiple commands in the same line, though we do not recommend doing this"
   ]
  },
  {
   "cell_type": "markdown",
   "id": "66bdf630",
   "metadata": {},
   "source": [
    "Note, we can use `str()` to find the types of variables in a structure"
   ]
  },
  {
   "cell_type": "code",
   "execution_count": null,
   "id": "425ab955",
   "metadata": {},
   "outputs": [],
   "source": [
    "str(l)"
   ]
  },
  {
   "cell_type": "markdown",
   "id": "1b76823e",
   "metadata": {},
   "source": [
    "### 2) Vectors:\n",
    "\n",
    "A collection of elements of the <b>same data type</b>, similar to numpy arrays\n",
    "\n",
    "We use `c()` to define a vector"
   ]
  },
  {
   "cell_type": "code",
   "execution_count": null,
   "id": "912d0799",
   "metadata": {},
   "outputs": [],
   "source": [
    "numbers <- c(1,2,3,8)\n",
    "numbers"
   ]
  },
  {
   "cell_type": "code",
   "execution_count": null,
   "id": "7f1ed94f",
   "metadata": {},
   "outputs": [],
   "source": [
    "str(numbers)"
   ]
  },
  {
   "cell_type": "markdown",
   "id": "8c672494",
   "metadata": {},
   "source": [
    "To edit, append or view values from a vector you just use the same notation as a list. Note that vectors are not zero indexed."
   ]
  },
  {
   "cell_type": "code",
   "execution_count": null,
   "id": "99044c06",
   "metadata": {},
   "outputs": [],
   "source": [
    "numbers[4]"
   ]
  },
  {
   "cell_type": "code",
   "execution_count": null,
   "id": "553f155a",
   "metadata": {},
   "outputs": [],
   "source": [
    "numbers[c(1,4)] #access several elements"
   ]
  },
  {
   "cell_type": "code",
   "execution_count": null,
   "id": "26d980cc",
   "metadata": {},
   "outputs": [],
   "source": [
    "numbers[1]= 5\n",
    "numbers"
   ]
  },
  {
   "cell_type": "code",
   "execution_count": null,
   "id": "51338746",
   "metadata": {},
   "outputs": [],
   "source": [
    "numbers[5]=10\n",
    "numbers"
   ]
  },
  {
   "cell_type": "markdown",
   "id": "fdb063fe",
   "metadata": {},
   "source": [
    "We can make it more like a dictionary and apply tags to the values."
   ]
  },
  {
   "cell_type": "code",
   "execution_count": null,
   "id": "00913f29",
   "metadata": {},
   "outputs": [],
   "source": [
    "l"
   ]
  },
  {
   "cell_type": "code",
   "execution_count": null,
   "id": "aadcc3f5",
   "metadata": {},
   "outputs": [],
   "source": [
    "more_numbers <- c('first'=1, 'second'=2, 'third'=3)\n",
    "more_numbers"
   ]
  },
  {
   "cell_type": "code",
   "execution_count": null,
   "id": "232617c4",
   "metadata": {},
   "outputs": [],
   "source": [
    "more_numbers['first']"
   ]
  },
  {
   "cell_type": "code",
   "execution_count": null,
   "id": "5e952d13",
   "metadata": {},
   "outputs": [],
   "source": [
    "more_numbers[['first']]"
   ]
  },
  {
   "cell_type": "markdown",
   "id": "659beeda",
   "metadata": {},
   "source": [
    "#### What is the difference between a list and a vector?"
   ]
  },
  {
   "cell_type": "code",
   "execution_count": null,
   "id": "f87f57c6",
   "metadata": {},
   "outputs": [],
   "source": [
    "# A:"
   ]
  },
  {
   "cell_type": "markdown",
   "id": "2822289f",
   "metadata": {},
   "source": [
    "Click here for solution\n",
    "\n",
    "<span style ='color:white'>\n",
    "\n",
    "All elements in a vector must be of the same data type, lists can have a variety. Run the two lines below and see what happens to the vector.\n",
    "    \n",
    "list_ex <- list(1,'a', 4)\n",
    "vector_ex <- c(1, 'a', 4)\n",
    "    \n",
    "Because one element is a character, all of them are converted to characters."
   ]
  },
  {
   "cell_type": "markdown",
   "id": "68f2eda6",
   "metadata": {},
   "source": [
    "### 3) Matrices:\n",
    "\n",
    "A table like structure with rows and columns (an extension of a vector)"
   ]
  },
  {
   "cell_type": "code",
   "execution_count": null,
   "id": "34f2ac08",
   "metadata": {},
   "outputs": [],
   "source": [
    "X <- matrix(nrow=2,ncol=3)\n",
    "print(X) # An empty matrix"
   ]
  },
  {
   "cell_type": "code",
   "execution_count": null,
   "id": "2e7bfac5",
   "metadata": {},
   "outputs": [],
   "source": [
    "X <- matrix(c(2,3,5,3,4,2),nrow=2,ncol=3)\n",
    "print(X)"
   ]
  },
  {
   "cell_type": "code",
   "execution_count": null,
   "id": "a2e2c628",
   "metadata": {},
   "outputs": [],
   "source": [
    "str(X)"
   ]
  },
  {
   "cell_type": "markdown",
   "id": "d229564a",
   "metadata": {},
   "source": [
    "To add a column to a matrix we use `cbind()`"
   ]
  },
  {
   "cell_type": "code",
   "execution_count": null,
   "id": "0350e238",
   "metadata": {},
   "outputs": [],
   "source": [
    "X2 <- cbind(X,c(4,5))\n",
    "print(X2)"
   ]
  },
  {
   "cell_type": "markdown",
   "id": "6d3a7dd6",
   "metadata": {},
   "source": [
    "To add a row to a matrix we use `rbind()`"
   ]
  },
  {
   "cell_type": "code",
   "execution_count": null,
   "id": "1c741936",
   "metadata": {},
   "outputs": [],
   "source": [
    "X3 <- rbind(X,c(34,2,1))\n",
    "print(X3)"
   ]
  },
  {
   "cell_type": "markdown",
   "id": "0d854077",
   "metadata": {},
   "source": [
    "### 4) DataFrames:\n",
    "\n",
    "A tabular data structure to perform statistical operations. Other than vectors, dataframes will likely be the most used data structure in data manipulation and analysis"
   ]
  },
  {
   "cell_type": "code",
   "execution_count": null,
   "id": "25498bd3",
   "metadata": {},
   "outputs": [],
   "source": [
    "df <- data.frame(one=c(1:5), two=c('A','B','C','D','E'))\n",
    "print(df)"
   ]
  },
  {
   "cell_type": "code",
   "execution_count": null,
   "id": "eb744612",
   "metadata": {},
   "outputs": [],
   "source": [
    "df"
   ]
  },
  {
   "cell_type": "code",
   "execution_count": null,
   "id": "6d3a82ea",
   "metadata": {},
   "outputs": [],
   "source": [
    "str(df)"
   ]
  },
  {
   "cell_type": "code",
   "execution_count": null,
   "id": "cbcfaa26",
   "metadata": {},
   "outputs": [],
   "source": [
    "df$one"
   ]
  },
  {
   "cell_type": "code",
   "execution_count": null,
   "id": "791074b9",
   "metadata": {},
   "outputs": [],
   "source": [
    "df['one']"
   ]
  },
  {
   "cell_type": "code",
   "execution_count": null,
   "id": "b3307823",
   "metadata": {},
   "outputs": [],
   "source": [
    "df[['one']]"
   ]
  },
  {
   "cell_type": "markdown",
   "id": "7bc0b3b7",
   "metadata": {},
   "source": [
    "Adding rows and columns is the same as a matrix"
   ]
  },
  {
   "cell_type": "code",
   "execution_count": null,
   "id": "3b862267",
   "metadata": {},
   "outputs": [],
   "source": [
    "df <- rbind(df,data.frame(one=6,two='F'))\n",
    "df"
   ]
  },
  {
   "cell_type": "code",
   "execution_count": null,
   "id": "632fd05a",
   "metadata": {},
   "outputs": [],
   "source": [
    "df <-cbind(df,data.frame(three=c(TRUE, FALSE, FALSE, TRUE, TRUE, FALSE)))\n",
    "df"
   ]
  },
  {
   "cell_type": "markdown",
   "id": "cc58544f",
   "metadata": {},
   "source": [
    "Or we can add columns by using the `$` notation."
   ]
  },
  {
   "cell_type": "code",
   "execution_count": null,
   "id": "40b56875",
   "metadata": {},
   "outputs": [],
   "source": [
    "df$four= c('R','R','Python','Python','Python','R')\n",
    "df"
   ]
  },
  {
   "cell_type": "markdown",
   "id": "a4811086",
   "metadata": {},
   "source": [
    "To delete a column, the simplest method is to create a `subset()` and select which rows you want to drop using `-c()`"
   ]
  },
  {
   "cell_type": "code",
   "execution_count": null,
   "id": "b3979943",
   "metadata": {},
   "outputs": [],
   "source": [
    "subset(df,select=-c(two)) # Dataframe output. Needs to be reassigned to df for the value to hold.\n",
    "\n",
    "# OR the following gives you a vector output\n",
    "df[,-c(2)]\n",
    "\n",
    "# OR for a more permanent change...\n",
    "df$two <- NULL"
   ]
  },
  {
   "cell_type": "markdown",
   "id": "6754b9a4",
   "metadata": {},
   "source": [
    "To delete a row, you reference the dataframe by calling the complement of the rows you <b> do not </b> want by using `-c()`"
   ]
  },
  {
   "cell_type": "code",
   "execution_count": null,
   "id": "66aa4f31",
   "metadata": {},
   "outputs": [],
   "source": [
    "df[-c(5),]"
   ]
  },
  {
   "cell_type": "markdown",
   "id": "47f99a73",
   "metadata": {},
   "source": [
    "Remember to reassign the dataframe to your variable name or your deletions won't actually hold!"
   ]
  },
  {
   "cell_type": "markdown",
   "id": "e4a3df35",
   "metadata": {},
   "source": [
    "## Exercise\n",
    "\n",
    "Create the following:\n",
    "\n",
    "<ol>\n",
    "    <li> A variable to store your name </li>\n",
    "    <li> A variable to store a vector from 1 to 10 </li>\n",
    "    <li> A variable to store a vector showing your name, age, city and if your OTJ is above 100% (True or False) </li>\n",
    "    <li> A variable to store a dataframe with three columns: name, age and city for 5 people \n",
    "</ol>"
   ]
  },
  {
   "cell_type": "code",
   "execution_count": null,
   "id": "3ed3842d",
   "metadata": {},
   "outputs": [],
   "source": [
    "# A:"
   ]
  },
  {
   "cell_type": "markdown",
   "id": "3c06074f",
   "metadata": {},
   "source": [
    "<hr>"
   ]
  },
  {
   "cell_type": "markdown",
   "id": "63ce36ac",
   "metadata": {},
   "source": [
    "<a id=\"control-flow-in-R\"></a>\n",
    "\n",
    "<div class='image' style='position:relative;width:100%;height:60%'>\n",
    "    <img src=\"Assets/section.PNG\" >\n",
    "    <h2 style ='color:#f4f4f4; font-size: 70px; font-weight:bold; position:absolute; top:150px; left:200px; width:90%'> Control Flow in R </h2>\n",
    "</div>\n",
    "<br>\n",
    "\n",
    "\n"
   ]
  },
  {
   "cell_type": "markdown",
   "id": "4f7bfa66",
   "metadata": {},
   "source": [
    "[Top](#outline)\n",
    "\n",
    "<p><b>Aim:</b> Understand how to set up loops and functions in R </p>"
   ]
  },
  {
   "cell_type": "markdown",
   "id": "ed9cd82a",
   "metadata": {},
   "source": [
    "Like with Python, R allows you to write loops which you can use to parse data or generate new data structures for your analysis. "
   ]
  },
  {
   "cell_type": "markdown",
   "id": "d3ab08ad",
   "metadata": {},
   "source": [
    "## Logic Statements\n",
    "\n",
    "In python these were denoted by `if` followed by some logical statement e.g. `if x==2:`\n",
    "\n",
    "R allows you to do these as well, although the logic statements are the same, the syntax for calling the statement is different"
   ]
  },
  {
   "cell_type": "markdown",
   "id": "56b32cc9",
   "metadata": {},
   "source": [
    "<table style=\" width:100%\">\n",
    "    <tr>\n",
    "        <th style=\"text-align:left; font-size:15px\"><b>Operator</b></th>\n",
    "        <th style=\"text-align:left; font-size:15px\"><b>Meaning</b></th>\n",
    "    </tr>\n",
    "    <tr>\n",
    "        <td style=\"text-align:left\">==</td> \n",
    "        <td style=\"text-align:left\">Equals</td>\n",
    "    </tr>\n",
    "    <tr>\n",
    "        <td style=\"text-align:left\">!=</td>\n",
    "        <td style=\"text-align:left\">Not Equals</td>\n",
    "    </tr>\n",
    "    <tr>\n",
    "        <td style=\"text-align:left\">></td>\n",
    "        <td style=\"text-align:left\">Greater Than</td>\n",
    "    </tr>\n",
    "    <tr>\n",
    "        <td style=\"text-align:left\">>=</td>\n",
    "        <td style=\"text-align:left\">Greater Than or Equals To</td>\n",
    "    </tr>\n",
    "    <tr>\n",
    "        <td style=\"text-align:left\"><</td>\n",
    "        <td style=\"text-align:left\">Less Than</td>\n",
    "    </tr>\n",
    "    <tr>\n",
    "        <td style=\"text-align:left\"><=</td>\n",
    "        <td style=\"text-align:left\">Lesser Than or Equals To</td>\n",
    "    </tr>\n",
    "    <tr>\n",
    "        <td style=\"text-align:left\">%in%</td>\n",
    "        <td style=\"text-align:left\">Is in</td>\n",
    "    </tr>\n",
    "    <tr style=\"border: none\">\n",
    "    </tr>\n",
    "</table>"
   ]
  },
  {
   "cell_type": "code",
   "execution_count": null,
   "id": "8f7c80f8",
   "metadata": {},
   "outputs": [],
   "source": [
    "# This is Python code; it won't run in R\n",
    "value = 10\n",
    "if value > 5:\n",
    "    print('something')"
   ]
  },
  {
   "cell_type": "code",
   "execution_count": null,
   "id": "6ad2f974",
   "metadata": {},
   "outputs": [],
   "source": [
    "value <- 10\n",
    "\n",
    "if (value > 5){\n",
    "    print('Greater than 5')\n",
    "}\n",
    " "
   ]
  },
  {
   "cell_type": "markdown",
   "id": "2b73091b",
   "metadata": {},
   "source": [
    "Adding in an else statement is simple, just place it after the brackets are closed."
   ]
  },
  {
   "cell_type": "code",
   "execution_count": null,
   "id": "af7c3c26",
   "metadata": {},
   "outputs": [],
   "source": [
    "value <- 4\n",
    "\n",
    "if (value > 5){\n",
    "    print('Greater than 5')\n",
    "} else {\n",
    "    print('Less than or equal to 5')\n",
    "}"
   ]
  },
  {
   "cell_type": "markdown",
   "id": "e2d87a5d",
   "metadata": {},
   "source": [
    "To add multiple conditions you just need to use else if."
   ]
  },
  {
   "cell_type": "code",
   "execution_count": null,
   "id": "6f0007c7",
   "metadata": {},
   "outputs": [],
   "source": [
    "value <- 5\n",
    "\n",
    "if (value > 10){\n",
    "    print('Greater than 10')\n",
    "} else if (value == 5) {\n",
    "    print('Equals 5')\n",
    "} else {\n",
    "    print('Not 5 and less than or equal to 10')\n",
    "}"
   ]
  },
  {
   "cell_type": "markdown",
   "id": "30baaa2d",
   "metadata": {},
   "source": [
    "We can also add in multiple conditions. This is the same as python with `|` representing or and `&` meaning and."
   ]
  },
  {
   "cell_type": "code",
   "execution_count": null,
   "id": "dbce9c25",
   "metadata": {},
   "outputs": [],
   "source": [
    "value <- 7\n",
    "\n",
    "if (value > 5 & value < 10){\n",
    "    print(' Value between 5 and 10')\n",
    "}"
   ]
  },
  {
   "cell_type": "code",
   "execution_count": null,
   "id": "afb3b259",
   "metadata": {},
   "outputs": [],
   "source": [
    "value <- 2\n",
    "\n",
    "if (value > 5 | value == 2){\n",
    "    print(' Value is 2 or greater than 5')\n",
    "}"
   ]
  },
  {
   "cell_type": "markdown",
   "id": "7b66811d",
   "metadata": {},
   "source": [
    "An advantage of R is that you can write entire blocks of code in one line, just ensure you have closed off the previous statement. Again, we don't recommend this as it isn't particularly readable."
   ]
  },
  {
   "cell_type": "code",
   "execution_count": null,
   "id": "dee558a7",
   "metadata": {},
   "outputs": [],
   "source": [
    "if (value > 10) {print('value greater than 10')} else {print('value less than 10')}"
   ]
  },
  {
   "cell_type": "markdown",
   "id": "0709e2de",
   "metadata": {},
   "source": [
    "## For Loops\n",
    "\n",
    "Now we know how to build in a logical statement we can add these into for loops. In this example we will loop through a vector of names and use the `paste()` command to create a string insert."
   ]
  },
  {
   "cell_type": "code",
   "execution_count": null,
   "id": "642128a2",
   "metadata": {},
   "outputs": [],
   "source": [
    "names <-  c('John','Jack','Andrew','Joseph','Laura','Grace','Rohit','Haydeh')"
   ]
  },
  {
   "cell_type": "code",
   "execution_count": null,
   "id": "b3c2c6a8",
   "metadata": {},
   "outputs": [],
   "source": [
    "for (name in names){\n",
    "    print(paste(\"Hi\", name))\n",
    "}"
   ]
  },
  {
   "cell_type": "markdown",
   "id": "a4cd9d75",
   "metadata": {},
   "source": [
    "It is simple to add in a logical statement to our loop, for example if we wanted to check if a name had 4 letters in it. Note we use `nchar()` in R to check string length."
   ]
  },
  {
   "cell_type": "code",
   "execution_count": null,
   "id": "26691b7d",
   "metadata": {},
   "outputs": [],
   "source": [
    "for (name in names){\n",
    "    if (nchar(name)==4){\n",
    "        print(paste(name, \" has 4 letters\"))\n",
    "    } else{\n",
    "        print(paste(name, \"does not have 4 letters\"))\n",
    "    }\n",
    "}"
   ]
  },
  {
   "cell_type": "markdown",
   "id": "6ee3c5b4",
   "metadata": {},
   "source": [
    "## While Loops\n",
    "\n",
    "The syntax is similar to before, always remember to add in your exit clause!\n",
    "\n",
    "Remember, while loops are used when you don't know how many iterations you will need."
   ]
  },
  {
   "cell_type": "code",
   "execution_count": null,
   "id": "d178c415",
   "metadata": {},
   "outputs": [],
   "source": [
    "n <- 20\n",
    "\n",
    "while (n>0){\n",
    "    print(paste('Five times ',n,' is ',n*5))\n",
    "    n <- n-1\n",
    "}"
   ]
  },
  {
   "cell_type": "markdown",
   "id": "c36fe359",
   "metadata": {},
   "source": [
    "## Functions"
   ]
  },
  {
   "cell_type": "markdown",
   "id": "b928a3d0",
   "metadata": {},
   "source": [
    "Functions are useful ways of storing our code so we can use them again later. The process of building a function is simple and consists of defining the function and then writing what it does. For example, we can write a function that returns the square root of the difference of two squared numbers. "
   ]
  },
  {
   "cell_type": "code",
   "execution_count": null,
   "id": "e5f578f8",
   "metadata": {},
   "outputs": [],
   "source": [
    "sqrt_squared_diff <- function(x,y){\n",
    "    return(sqrt(abs(x**2-y**2)))\n",
    "}"
   ]
  },
  {
   "cell_type": "code",
   "execution_count": null,
   "id": "72a29629",
   "metadata": {},
   "outputs": [],
   "source": [
    "sqrt_squared_diff(5,2)"
   ]
  },
  {
   "cell_type": "markdown",
   "id": "5e173504",
   "metadata": {},
   "source": [
    "## Exercise\n",
    "\n",
    "<ol>\n",
    "    <li> Write a loop which squares the numbers from 1 to 20 and prints the result </li>\n",
    "    <li> Write a loop which takes 5 names and prints `TRUE` if the number of characters is greater than 7</li>\n",
    "    <li> Write a loop that counts down from 20, `You have [number] seconds left`. When the number reaches 0 print a `Game Over` statement</li>\n",
    "    <li> Write the game 'FizzBuzz' where if the number is a multiple of 3 it returns 'Fizz', 'Buzz' if it is a multiple of 5 and 'Fizzbuzz' if it is a multiple of both. If it is neither print the number, do this for the numbers from 1 to 100</li>\n",
    "    <li> [Stretch] Write a function that simulates the game 'Rock, Paper, Scissors' you will need to look up R's random and user input functions. Note that your loop should check the player's input is valid. </li>\n",
    "</ol>\n",
    "    "
   ]
  },
  {
   "cell_type": "code",
   "execution_count": null,
   "id": "0e134a64",
   "metadata": {},
   "outputs": [],
   "source": [
    "# A:"
   ]
  },
  {
   "cell_type": "markdown",
   "id": "d4e24f1b",
   "metadata": {},
   "source": [
    "Click here for solutions\n",
    "\n",
    "<span style ='color:white'>\n",
    "    \n",
    "#1 for (i in c(1:20)){\n",
    "    print(i**2)\n",
    "}\n",
    "    \n",
    "#2 for (name in c('Andrew','Clara','Alexia','Campbell','Olusegun')){\n",
    "    if (nchar(name)>7){\n",
    "        print (TRUE)\n",
    "    } else {\n",
    "        print (FALSE)\n",
    "    }\n",
    "}\n",
    "\n",
    "#3 n <- 20\n",
    "\n",
    "while (n >=0) {\n",
    "    if (n>0){\n",
    "        print(paste(\"You have \",n,\" seconds left\"))\n",
    "        n=n-1\n",
    "    } else {\n",
    "        print('Game Over')\n",
    "        n=n-1\n",
    "    }\n",
    "}\n",
    "    \n",
    "#4 for (i in c(1:100)){\n",
    "    if (i %% 5 == 0 & i %% 3==0){\n",
    "        print('Fizzbuzz')\n",
    "    } else if (i%%5==0){\n",
    "        print('Fizz')\n",
    "    } else if (i%%3==0){\n",
    "        print('Buzz')\n",
    "    } else{\n",
    "        print(i)\n",
    "    }\n",
    "}\n",
    "    \n",
    "#5 \n",
    "state=TRUE\n",
    "while (state == TRUE){\n",
    "    your_answer <- readline(prompt='Rock, Paper or Scissors: ')\n",
    "    if (your_answer %in% c('Rock','Paper','Scissors')){    \n",
    "    computer_answer <- sample(c('Rock', 'Paper', 'Scissors'),1)\n",
    "    print(paste('Computer picked ',computer_answer))\n",
    "    if (your_answer==computer_answer){\n",
    "        print('Draw!')\n",
    "        state=FALSE\n",
    "    } else if ((your_answer=='Rock' & computer_answer=='Paper') | (your_answer=='Paper' & computer_answer=='Scissors')|(your_answer=='Scissors' & computer_answer=='Rock')){\n",
    "        print('You Lose!')\n",
    "        state=FALSE        \n",
    "    } else {\n",
    "        print('You win!')\n",
    "        state=FALSE\n",
    "    }\n",
    "  } else {\n",
    "        state=TRUE\n",
    "    }\n",
    "}\n",
    "    "
   ]
  },
  {
   "cell_type": "markdown",
   "id": "abd1b3fa",
   "metadata": {},
   "source": [
    "<hr>"
   ]
  },
  {
   "cell_type": "markdown",
   "id": "1f5e4070",
   "metadata": {},
   "source": [
    "<a id=\"exploratory-data-analysis-in-R\"></a>\n",
    "<div class='image' style='position:relative;width:100%;height:60%'>\n",
    "    <img src=\"Assets/section.PNG\" >\n",
    "    <h2 style ='color:#f4f4f4; font-size: 60px; font-weight:bold; position:absolute; top:150px; left:100px; width:90%'> Exploratory Data Analysis <br> in R </h2>\n",
    "</div>\n",
    "<br>\n",
    "\n",
    "\n"
   ]
  },
  {
   "cell_type": "markdown",
   "id": "2988f499",
   "metadata": {},
   "source": [
    "[Top](#outline)\n",
    "\n",
    "<p><b>Aim:</b> Consider how to perform EDA in R <p>"
   ]
  },
  {
   "cell_type": "markdown",
   "id": "6ee637e7",
   "metadata": {},
   "source": [
    "<i>'80% of your time spent on a data project will be spent cleaning data, the rest will be spent analysing it'</i> - pretty much every data scientist and analyst ever.\n",
    "\n",
    "We have seen time and time again throughout this course that EDA in an important and unskippable part of the data analytics life cycle. The principles in R are the same as with Python and Excel but the processes are different. We will now look at some common EDA tools you will use with R."
   ]
  },
  {
   "cell_type": "markdown",
   "id": "342a80f2",
   "metadata": {},
   "source": [
    "Much of the functionality of R is enhanced by functions and packages. Like in Python, some functions are not preinstalled so we use the command `install.packages` to build them in. Note, you only have to install a package once and from then any time you want to use it you just call the name of the package. \n",
    "\n",
    "For this lesson we will use tidyverse which includes everything you can see in this image:\n",
    "<br>\n",
    "<img src=\"./Assets/Session_2/packages.PNG\" >\n",
    "\n",
    "<a href='https://t.co/D5d1988JUp?amp=1'>Cheatsheets</a> are amazing for overviews for specific packages."
   ]
  },
  {
   "cell_type": "code",
   "execution_count": null,
   "id": "54e887fe",
   "metadata": {},
   "outputs": [],
   "source": [
    "#For the first time\n",
    "\n",
    "install.packages(\"tidyverse\")"
   ]
  },
  {
   "cell_type": "code",
   "execution_count": null,
   "id": "102dbc3c",
   "metadata": {},
   "outputs": [],
   "source": [
    "#Every time after\n",
    "library(tidyverse)"
   ]
  },
  {
   "cell_type": "markdown",
   "id": "8d3858c0",
   "metadata": {},
   "source": [
    "We are now going to look through some common EDA commands you will use in your analysis."
   ]
  },
  {
   "cell_type": "code",
   "execution_count": null,
   "id": "8d4a3f28",
   "metadata": {},
   "outputs": [],
   "source": [
    "# Loading a data set\n",
    "data <- read.csv('data/products.csv')\n",
    "\n",
    "# Note different import functions exist for different data files"
   ]
  },
  {
   "cell_type": "code",
   "execution_count": null,
   "id": "4ed96ead",
   "metadata": {},
   "outputs": [],
   "source": [
    "# Check the head\n",
    "tail(data)"
   ]
  },
  {
   "cell_type": "code",
   "execution_count": null,
   "id": "fc62aca7",
   "metadata": {},
   "outputs": [],
   "source": [
    "# Check summary statistics\n",
    "summary(data)"
   ]
  },
  {
   "cell_type": "code",
   "execution_count": null,
   "id": "48a71c78",
   "metadata": {},
   "outputs": [],
   "source": [
    "# For one column\n",
    "summary(data$pack)"
   ]
  },
  {
   "cell_type": "code",
   "execution_count": null,
   "id": "d122c9fe",
   "metadata": {},
   "outputs": [],
   "source": [
    "# For one statistic\n",
    "sd(data$pack)"
   ]
  },
  {
   "cell_type": "code",
   "execution_count": null,
   "id": "456578c9",
   "metadata": {},
   "outputs": [],
   "source": [
    "mean(data$pack)"
   ]
  },
  {
   "cell_type": "code",
   "execution_count": null,
   "id": "0c1bf8f6",
   "metadata": {},
   "outputs": [],
   "source": [
    "# Correlations\n",
    "cor(data$proof,data$bottle_size)"
   ]
  },
  {
   "cell_type": "markdown",
   "id": "6cc252e2",
   "metadata": {},
   "source": [
    "## Common Functions"
   ]
  },
  {
   "cell_type": "markdown",
   "id": "271037de",
   "metadata": {},
   "source": [
    "The following table shows the most common functions of tidyverse that you will use:\n",
    "\n",
    "<table style=\" width:100%\">\n",
    "    <tr>\n",
    "        <th style=\"text-align:left; font-size:15px\"><b>Function</b></th>\n",
    "    <th style=\"text-align:left; font-size:15px\"><b>What It Does</b></th>\n",
    "   \n",
    "</tr>\n",
    "<tr>\n",
    "    <td style=\"text-align:left\">filter()</td> \n",
    "    <td style=\"text-align:left\">Include (or exclude) certain rows</td>\n",
    "  \n",
    "</tr>\n",
    "<tr>\n",
    "    <td style=\"text-align:left\">arrange()</td>\n",
    "    <td style=\"text-align:left\">Change the order of observations</td>\n",
    "\n",
    "    \n",
    "</tr>\n",
    "\n",
    "<tr>\n",
    "    <td style=\"text-align:left\">select()</td>\n",
    "    <td style=\"text-align:left\">Include (or exclude) certain columns</td>\n",
    "\n",
    "    \n",
    "</tr>\n",
    "<tr>\n",
    "    <td style=\"text-align:left\">mutate()</td>\n",
    "    <td style=\"text-align:left\">Create new columns</td>\n",
    "\n",
    "    \n",
    "</tr>\n",
    "<tr>\n",
    "    <td style=\"text-align:left\">group_by()</td>\n",
    "    <td style=\"text-align:left\">Organise obervsations into groups</td>\n",
    "\n",
    "    \n",
    "</tr>\n",
    "<tr>\n",
    "    <td style=\"text-align:left\">summarise()</td>\n",
    "    <td style=\"text-align:left\">Derive aggregate statistics for groups of observations</td>\n",
    "\n",
    "    \n",
    "</tr>\n",
    "\n",
    "    \n",
    "    \n",
    "    \n",
    "<tr style=\"border: none\">\n",
    "\n",
    "</tr>\n",
    "\n",
    "</table>"
   ]
  },
  {
   "cell_type": "code",
   "execution_count": null,
   "id": "bbac7662",
   "metadata": {},
   "outputs": [],
   "source": [
    "# Filter\n",
    "filter(data,proof>40 )"
   ]
  },
  {
   "cell_type": "code",
   "execution_count": null,
   "id": "039c3a9b",
   "metadata": {},
   "outputs": [],
   "source": [
    "# More than one filter?\n",
    "filter(data,proof==40,pack>10)"
   ]
  },
  {
   "cell_type": "code",
   "execution_count": null,
   "id": "002fc41b",
   "metadata": {},
   "outputs": [],
   "source": [
    "# Arrange\n",
    "arrange(data, vendor)"
   ]
  },
  {
   "cell_type": "code",
   "execution_count": null,
   "id": "e65bc5bb",
   "metadata": {},
   "outputs": [],
   "source": [
    "# Change the order\n",
    "arrange(data, desc(vendor))"
   ]
  },
  {
   "cell_type": "code",
   "execution_count": null,
   "id": "d093b3f4",
   "metadata": {},
   "outputs": [],
   "source": [
    "# This is a Python example\n",
    "data[data.bottle_size>10].sort_values(by='vendor')"
   ]
  },
  {
   "cell_type": "code",
   "execution_count": null,
   "id": "0ca95393",
   "metadata": {},
   "outputs": [],
   "source": [
    "# Filter then arrange\n",
    "arrange(filter(data,bottle_size>10), vendor)"
   ]
  },
  {
   "cell_type": "markdown",
   "id": "54f50eb9",
   "metadata": {},
   "source": [
    "## Piping\n",
    "\n",
    "Using functions in R can be laborious if you want to apply more than one to your data as every new function needs to be wrapped around your statement (meaning it could get quite long). Instead we can use a technique called 'piping' which allows you to concatenate functions into a single statement using `%>%`.\n",
    "\n",
    "Using the example from above:"
   ]
  },
  {
   "cell_type": "code",
   "execution_count": null,
   "id": "92d4152d",
   "metadata": {},
   "outputs": [],
   "source": [
    "data %>% filter(bottle_size>10) %>% arrange(vendor)"
   ]
  },
  {
   "cell_type": "code",
   "execution_count": null,
   "id": "ab8a57e7",
   "metadata": {},
   "outputs": [],
   "source": [
    "# This can be stored to a variable\n",
    "d <- data %>% filter(bottle_size>10) %>% arrange(vendor)"
   ]
  },
  {
   "cell_type": "markdown",
   "id": "326c455a",
   "metadata": {},
   "source": [
    "Piping is a more intuitive way of writing your code as it starts with your data and then applies the functions.\n",
    "\n",
    "The process can be summarised by:\n",
    "<img src=\"./Assets/Session_2/pipe.PNG\" >"
   ]
  },
  {
   "cell_type": "markdown",
   "id": "39d53155",
   "metadata": {},
   "source": [
    "## Slicing, Column Selection and Renaming\n",
    "\n",
    "Note, that R is 1-indexed (unlike Python which is 0-indexed). Keep this in mind when slicing data. "
   ]
  },
  {
   "cell_type": "code",
   "execution_count": null,
   "id": "7259c910",
   "metadata": {},
   "outputs": [],
   "source": [
    "data %>% slice(1:5)\n",
    "data %>% slice(., 1:5)"
   ]
  },
  {
   "cell_type": "markdown",
   "id": "2e9a351a",
   "metadata": {},
   "source": [
    "Selecting a column is a simple as just saying what column you want:"
   ]
  },
  {
   "cell_type": "code",
   "execution_count": null,
   "id": "b6d158af",
   "metadata": {},
   "outputs": [],
   "source": [
    "data %>% select(category_name,proof) %>% head()"
   ]
  },
  {
   "cell_type": "markdown",
   "id": "a70e4d9a",
   "metadata": {},
   "source": [
    "When renaming a column notice that the new name comes first:"
   ]
  },
  {
   "cell_type": "code",
   "execution_count": null,
   "id": "71006e35",
   "metadata": {},
   "outputs": [],
   "source": [
    "data %>% rename(vendor_no=vendor) "
   ]
  },
  {
   "cell_type": "markdown",
   "id": "f9db6cfa",
   "metadata": {},
   "source": [
    "## Mutate, Group By and Summarise\n",
    "\n",
    "Mutate allows you to update or create new columns:"
   ]
  },
  {
   "cell_type": "code",
   "execution_count": null,
   "id": "d737c97b",
   "metadata": {},
   "outputs": [],
   "source": [
    "data %>% mutate(total_cost=pack*case_cost) "
   ]
  },
  {
   "cell_type": "markdown",
   "id": "83c01c5f",
   "metadata": {},
   "source": [
    "If you want to change an existing column you just need to reference it as the column name in the mutate statement. Note for these changes to take effect I would need to assign the pipeline to a variable."
   ]
  },
  {
   "cell_type": "code",
   "execution_count": null,
   "id": "e2b463ce",
   "metadata": {},
   "outputs": [],
   "source": [
    "data %>% mutate(vendor=vendor+1)"
   ]
  },
  {
   "cell_type": "markdown",
   "id": "4c96acf7",
   "metadata": {},
   "source": [
    "Summarise allows you to tuen many observations into a single datapoint. This is not to be confused with summary() which we saw earlier."
   ]
  },
  {
   "cell_type": "code",
   "execution_count": null,
   "id": "b497e271",
   "metadata": {},
   "outputs": [],
   "source": [
    "mean(data$bottle_size)"
   ]
  },
  {
   "cell_type": "code",
   "execution_count": null,
   "id": "8c028904",
   "metadata": {},
   "outputs": [],
   "source": [
    "data %>% summarise(mean_bottle_size=mean(bottle_size))"
   ]
  },
  {
   "cell_type": "markdown",
   "id": "b79d323c",
   "metadata": {},
   "source": [
    "Summarise is particularly powerful when combined with group_by which allows you to summarise within a group:"
   ]
  },
  {
   "cell_type": "code",
   "execution_count": null,
   "id": "c49975fb",
   "metadata": {},
   "outputs": [],
   "source": [
    "data %>% group_by(category_name) %>% summarise(mean_bottle_size=mean(bottle_size)) %>% head()"
   ]
  },
  {
   "cell_type": "markdown",
   "id": "4c5af396",
   "metadata": {},
   "source": [
    "## Exercise\n",
    "\n",
    "### 1) Import gapminder data using `read_csv`"
   ]
  },
  {
   "cell_type": "code",
   "execution_count": null,
   "id": "97eba24e",
   "metadata": {},
   "outputs": [],
   "source": [
    "gap_data <- read.csv('data/gapminder_data.csv')"
   ]
  },
  {
   "cell_type": "code",
   "execution_count": null,
   "id": "b2d487b7",
   "metadata": {},
   "outputs": [],
   "source": [
    "head(gap_data)"
   ]
  },
  {
   "cell_type": "markdown",
   "id": "c8744850",
   "metadata": {},
   "source": [
    "### Check the head, tail and summary statistics of your data"
   ]
  },
  {
   "cell_type": "code",
   "execution_count": null,
   "id": "1c7ca7f4",
   "metadata": {},
   "outputs": [],
   "source": [
    "# A:"
   ]
  },
  {
   "cell_type": "markdown",
   "id": "c1bb7420",
   "metadata": {},
   "source": [
    "Click here for solution\n",
    "\n",
    "<span style ='color:white'>\n",
    "\n",
    "head(gap_data)\n",
    "tail(gap_data)\n",
    "summary(gap_data)"
   ]
  },
  {
   "cell_type": "markdown",
   "id": "b7b0ff54",
   "metadata": {},
   "source": [
    "### 3) Calculate the summary statistics for the `pop` column"
   ]
  },
  {
   "cell_type": "code",
   "execution_count": null,
   "id": "1a0ff16a",
   "metadata": {},
   "outputs": [],
   "source": [
    "# A:"
   ]
  },
  {
   "cell_type": "markdown",
   "id": "249d4a56",
   "metadata": {},
   "source": [
    "Click here for solution\n",
    "\n",
    "<span style ='color:white'>\n",
    "summary(gap_data$pop)"
   ]
  },
  {
   "cell_type": "markdown",
   "id": "8de87b97",
   "metadata": {},
   "source": [
    "### 4) Filter the Dataset to only include data for `2007` and call it `gap_2007`"
   ]
  },
  {
   "cell_type": "code",
   "execution_count": null,
   "id": "e209cac4",
   "metadata": {},
   "outputs": [],
   "source": [
    "# A:"
   ]
  },
  {
   "cell_type": "markdown",
   "id": "78cba0e2",
   "metadata": {},
   "source": [
    "Click here for solution\n",
    "\n",
    "<span style ='color:white'>\n",
    "\n",
    "gap_2007 <- gap_data %>% filter(year==2007)"
   ]
  },
  {
   "cell_type": "markdown",
   "id": "a4e1eb8b",
   "metadata": {},
   "source": [
    "### 5) Slice the first 20 rows of the data and call it `gap_20`"
   ]
  },
  {
   "cell_type": "code",
   "execution_count": null,
   "id": "acf366e4",
   "metadata": {},
   "outputs": [],
   "source": [
    "# A:"
   ]
  },
  {
   "cell_type": "markdown",
   "id": "459f44fb",
   "metadata": {},
   "source": [
    "Click here for solution\n",
    "\n",
    "<span style ='color:white'>\n",
    "\n",
    "gap_20 <- gap_data %>% slice(1:20)"
   ]
  },
  {
   "cell_type": "markdown",
   "id": "0bfad329",
   "metadata": {},
   "source": [
    "### 6) Return the mean `gdpPercap` for each continent for 2007"
   ]
  },
  {
   "cell_type": "code",
   "execution_count": null,
   "id": "52bf178f",
   "metadata": {},
   "outputs": [],
   "source": [
    "# A:"
   ]
  },
  {
   "cell_type": "markdown",
   "id": "46d5accb",
   "metadata": {},
   "source": [
    "Click here for solution\n",
    "\n",
    "<span style ='color:white'>\n",
    "gap_data %>% filter(year==2007) %>% group_by(continent) %>% summarise(mean_gdpPercap_2007=mean(gdpPercap))"
   ]
  },
  {
   "cell_type": "markdown",
   "id": "984db067",
   "metadata": {},
   "source": [
    "<hr>"
   ]
  },
  {
   "cell_type": "markdown",
   "id": "616467b1",
   "metadata": {},
   "source": [
    "<a id=\"visualisation-in-R\"></a>\n",
    "<div class='image' style='position:relative;width:100%;height:60%'>\n",
    "    <img src=\"Assets/section.PNG\" >\n",
    "    <h2 style ='color:#f4f4f4; font-size: 60px; font-weight:bold; position:absolute; top:150px; left:200px; width:90%'> Visualisation in R </h2>\n",
    "</div>\n",
    "<br>\n",
    "\n",
    "\n",
    "\n"
   ]
  },
  {
   "cell_type": "markdown",
   "id": "8011af0c",
   "metadata": {},
   "source": [
    "[Top](#outline)\n",
    "\n",
    "<p><b>Aim:</b> Build Visualisations in R <p>"
   ]
  },
  {
   "cell_type": "markdown",
   "id": "fe965a7d",
   "metadata": {},
   "source": [
    "We know from previous modules that visualisation is an important part of our exploratory data analysis. You have seen how to do it in Excel, Python and with a platform. For your portfolio it is important you show a range of skills and tehcniques so it is a good idea to consider how you can demonstrate some analysis using R, and visualisations are a good place to start. "
   ]
  },
  {
   "cell_type": "markdown",
   "id": "fd6c4abf",
   "metadata": {},
   "source": [
    "## Visualisation with `ggplot`\n",
    "\n",
    "The main visualisation package we will use is ggplot which offers a wide variety of visualisations for you to choose from.\n",
    "<img src=\"./Assets/Session_2/iris.PNG\" >\n",
    "<img src=\"./Assets/Session_2/responsibilities.PNG\" >\n",
    "\n",
    "<a href='https://www.datanovia.com/en/blog/ggplot-examples-best-reference/'> Some other examples </a> "
   ]
  },
  {
   "cell_type": "markdown",
   "id": "0f318825",
   "metadata": {},
   "source": [
    "The syntax for building a visualisation is `ggplot(data,aesthetics) + plot type`. Let's build a simple scatter graph from our gap_data to demonstrate:"
   ]
  },
  {
   "cell_type": "code",
   "execution_count": null,
   "id": "fe821dbc",
   "metadata": {},
   "outputs": [],
   "source": [
    "# To build a scatter graph we need to state the data source, what our x and y values are and what type of plot we want.\n",
    "ggplot(data=gap_data,aes(x=lifeExp,y=pop)) + geom_point()"
   ]
  },
  {
   "cell_type": "code",
   "execution_count": null,
   "id": "c664ffa7",
   "metadata": {},
   "outputs": [],
   "source": [
    "gap_2007 <- gap_data %>% filter(year==2007)"
   ]
  },
  {
   "cell_type": "code",
   "execution_count": null,
   "id": "2ef2d0bc",
   "metadata": {},
   "outputs": [],
   "source": [
    "# If I wanted to colour by continent\n",
    "ggplot(data=gap_2007,aes(x=lifeExp,y=pop,color=continent)) + geom_point()"
   ]
  },
  {
   "cell_type": "code",
   "execution_count": null,
   "id": "4d8555c1",
   "metadata": {},
   "outputs": [],
   "source": [
    "# To build a bar graph we change to geom_bar. In this example we are calculating the mean lifeExp per continent\n",
    "ggplot(data=gap_data,aes(x=continent,y=lifeExp)) + geom_bar(stat='summary',fun='mean')"
   ]
  },
  {
   "cell_type": "code",
   "execution_count": null,
   "id": "647d2202",
   "metadata": {},
   "outputs": [],
   "source": [
    "# Boxplots\n",
    "ggplot(data=gap_data,aes(x=continent,y=lifeExp)) + geom_boxplot()"
   ]
  },
  {
   "cell_type": "markdown",
   "id": "72008822",
   "metadata": {},
   "source": [
    "We can also change things about our plots to make them more attractive, such as colours, titles and captions."
   ]
  },
  {
   "cell_type": "code",
   "execution_count": null,
   "id": "ab161a22",
   "metadata": {},
   "outputs": [],
   "source": [
    "ggplot(data=gap_data,aes(x=continent,y=lifeExp)) + \n",
    "    geom_bar(stat='summary',fun='mean',fill=c('#4d61f4','#242456','green','yellow','orange')) +\n",
    "    labs(x='Continent',y='Mean Life Expectancy',title='Mean Life Expectancy per Continent') "
   ]
  },
  {
   "cell_type": "markdown",
   "id": "58f2b24e",
   "metadata": {},
   "source": [
    "If we want to fit more than one visualisation on the page, we can use faceting to create subplots"
   ]
  },
  {
   "cell_type": "code",
   "execution_count": null,
   "id": "1613e863",
   "metadata": {},
   "outputs": [],
   "source": [
    "ggplot(data=gap_data,aes(x=lifeExp,y=pop,color=continent)) + geom_point() + facet_wrap(vars(continent))"
   ]
  },
  {
   "cell_type": "markdown",
   "id": "684a34a7",
   "metadata": {},
   "source": [
    "Of course there are far more things you can do to build visualisations in R, more than we can show you in this session. Like Python, R has a well documented library to help you understand and build the visualisations you want."
   ]
  },
  {
   "cell_type": "markdown",
   "id": "e4260858",
   "metadata": {},
   "source": [
    "## Exercise\n",
    "\n",
    "<ol>\n",
    "    <li> Plot the gdpPercap against lifeExp as a scatter plot using 2007 data </li>\n",
    "    <li> Plot the gdpPercap against lifeEXP as a scatter plot, colour by continent using 2007 data </li>\n",
    "    <li> Plot the gdpPercap against lifeExp as a scatter plot, colour by continent and size by pop using 2007 data (Hint: you can add the argument size to the aesthetics </li>\n",
    "    <li> Make a line plot of the pop column for the United Kingdom (Hint: you will need geom_line() not geom_point())</li>\n",
    "</ol>"
   ]
  },
  {
   "cell_type": "code",
   "execution_count": null,
   "id": "e60a742b",
   "metadata": {},
   "outputs": [],
   "source": [
    "# A:"
   ]
  },
  {
   "cell_type": "markdown",
   "id": "838a100f",
   "metadata": {},
   "source": [
    "Click here for solutions\n",
    "<span style ='color:white'>\n",
    "    #1 ggplot(data = gap_2007, aes(x=gdpPercap,y=lifeExp))+\n",
    "  geom_point()+\n",
    "  labs(x='GDP per Capita',y='Life Expectancy')\n",
    "    #2 ggplot(data = gap_2007, aes(x=gdpPercap,y=lifeExp,color=continent))+\n",
    "  geom_point()+\n",
    "  labs(x='GDP per Capita',y='Life Expectancy')\n",
    "    #3 ggplot(data = gap_2007, aes(x=gdpPercap,y=lifeExp,color=continent,size=pop))+\n",
    "  geom_point()+\n",
    "  labs(x='GDP per Capita',y='Life Expectancy')\n",
    "    #4 uk_pop=gap_data %>% filter(country=='United Kingdom')\n",
    "ggplot(data = uk_pop, aes(x=year,y=pop)) + \n",
    "  geom_line() +\n",
    "  labs(x='Year',y='Population',title='UK population per year')"
   ]
  },
  {
   "cell_type": "markdown",
   "id": "d161bb70",
   "metadata": {},
   "source": [
    "### Stretch\n",
    "\n",
    "Can you recreate the following plots?\n",
    "1) gdpPercap against lifeExp as a scatter plot with subplots\n",
    "<img src=\"./Assets/Session_2/scatter.PNG\" >\n",
    "2) Boxplots for lifeExp for all continents\n",
    "<img src=\"./Assets/Session_2/box.PNG\" >\n",
    "3) Box plot and jitter plot of Europe population in 2007\n",
    "<img src=\"./Assets/Session_2/Jitter.PNG\" >"
   ]
  },
  {
   "cell_type": "code",
   "execution_count": null,
   "id": "2364231d",
   "metadata": {},
   "outputs": [],
   "source": [
    "# A"
   ]
  },
  {
   "cell_type": "markdown",
   "id": "13a2743b",
   "metadata": {},
   "source": [
    "Click here for solutions\n",
    "<span style ='color:white'>\n",
    "    #1 ggplot(data=gap_data, aes(x=gdpPercap,\n",
    "                     y=lifeExp, size=pop, \n",
    "                     color=continent)) + \n",
    "              geom_point() + facet_wrap(vars(continent))\n",
    "    #2 ggplot(gap_data, aes(x=lifeExp)) +\n",
    "              geom_boxplot() +\n",
    "              facet_wrap(vars(continent))\n",
    "    #3 ggplot(filter(gap_2007,continent=='Europe'),aes(x=continent,y=pop)) + \n",
    "              geom_boxplot(color='blue') + \n",
    "              geom_jitter(color='red')"
   ]
  },
  {
   "cell_type": "markdown",
   "id": "0c4c3691",
   "metadata": {},
   "source": [
    "<hr>"
   ]
  },
  {
   "cell_type": "markdown",
   "id": "bfac0982",
   "metadata": {},
   "source": [
    "<a id=\"linear-modelling-in-R\"></a>\n",
    "<div class='image' style='position:relative;width:100%;height:60%'>\n",
    "    <img src=\"Assets/section.PNG\" >\n",
    "    <h2 style ='color:#f4f4f4; font-size: 60px; font-weight:bold; position:absolute; top:150px; left:200px; width:90%'> Linear Modelling in R </h2>\n",
    "</div>\n",
    "\n",
    "\n"
   ]
  },
  {
   "cell_type": "markdown",
   "id": "c3785e7a",
   "metadata": {},
   "source": [
    "[Top](#outline)\n",
    "\n",
    "<p><b>Aim:</b> Learn about different modelling techniques in R <p>"
   ]
  },
  {
   "cell_type": "markdown",
   "id": "ac186742",
   "metadata": {},
   "source": [
    "The final part of our whistle-stop tour of R is to see how eays it is do build a linear model. R has a wide range of models you can use as well as allowing you to perform statistical tests such as ANOVA, t-tests and generalised linear modelling. The examples below show how to start building these models/tests but if you want to learn more will need to do your own research."
   ]
  },
  {
   "cell_type": "markdown",
   "id": "90913cb3",
   "metadata": {},
   "source": [
    "## Linear Regression\n",
    "\n",
    "Think back to statsmodels we saw in Python for building a model, the syntax is very similar (if not simpler). \n",
    "\n",
    "To start all you need is `lm(dependent~independent, data=data)`"
   ]
  },
  {
   "cell_type": "code",
   "execution_count": null,
   "id": "2a0c3678",
   "metadata": {},
   "outputs": [],
   "source": [
    "mymodel <- lm(lifeExp~gdpPercap,data=gap_data)"
   ]
  },
  {
   "cell_type": "code",
   "execution_count": null,
   "id": "028143b9",
   "metadata": {},
   "outputs": [],
   "source": [
    "my_multi_model <- lm(lifeExp~gdpPercap + pop, data=gap_data) # Adding in more than one predictor"
   ]
  },
  {
   "cell_type": "markdown",
   "id": "d060a08e",
   "metadata": {},
   "source": [
    "To evaluate your model, checking coefficients and scores all you need is `summary()`"
   ]
  },
  {
   "cell_type": "code",
   "execution_count": null,
   "id": "de0e9eac",
   "metadata": {},
   "outputs": [],
   "source": [
    "summary(mymodel)"
   ]
  },
  {
   "cell_type": "markdown",
   "id": "2154b39f",
   "metadata": {},
   "source": [
    "Values you should inspect- R-squared and the coefficients of your predictors (listed as Estimate). Like with statsmodels, the Pr(>|t|) will tell you how statistically significant that feature is (below 0.05 is good)"
   ]
  },
  {
   "cell_type": "code",
   "execution_count": null,
   "id": "d61563f8",
   "metadata": {},
   "outputs": [],
   "source": [
    "summary(my_multi_model)"
   ]
  },
  {
   "cell_type": "markdown",
   "id": "f6503e6a",
   "metadata": {},
   "source": [
    "## Logistic Regression\n",
    "\n",
    "In R logistic regression is known as a logit model and can be accessed using a generalised linear model (glm). For this example we will create a new column for our 2007 data called `is_europe` where if a country is in Europe the value will be 1 and 0 otherwise. We can use the `ifelse` function combined with `mutate` to create this feature."
   ]
  },
  {
   "cell_type": "code",
   "execution_count": null,
   "id": "0ceea0c7",
   "metadata": {},
   "outputs": [],
   "source": [
    "gap_europe_2007 = gap_2007 %>% mutate(is_europe= ifelse(continent=='Europe',1,0))"
   ]
  },
  {
   "cell_type": "code",
   "execution_count": null,
   "id": "dae5bf5c",
   "metadata": {},
   "outputs": [],
   "source": [
    "gap_europe_2007"
   ]
  },
  {
   "cell_type": "code",
   "execution_count": null,
   "id": "8eb5e697",
   "metadata": {},
   "outputs": [],
   "source": [
    "logit_model <- glm(is_europe~gdpPercap+lifeExp, data=gap_europe_2007)"
   ]
  },
  {
   "cell_type": "code",
   "execution_count": null,
   "id": "b76c7598",
   "metadata": {},
   "outputs": [],
   "source": [
    "summary(logit_model)"
   ]
  },
  {
   "cell_type": "markdown",
   "id": "3e118da0",
   "metadata": {},
   "source": [
    "## t-test\n",
    "\n",
    "Earlier in the course we discussed hypothesis testing to see if something was statistically significant (e.g. more students failing a test than expected). We can use a t-test to check if there is a statistically significant difference between our observed mean and the one we would expect. For example, in 1997 the average life expectancy in Asia was 59 but by 2007 it was nearly 71. Is this a significant increase? \n",
    "\n",
    "We can check with a t-test"
   ]
  },
  {
   "cell_type": "code",
   "execution_count": null,
   "id": "bd5ad5e5",
   "metadata": {},
   "outputs": [],
   "source": [
    "gap_data %>% filter(year==1977) %>% group_by(continent) %>% summarise(mean_lifeExp=mean(lifeExp))"
   ]
  },
  {
   "cell_type": "code",
   "execution_count": null,
   "id": "36808201",
   "metadata": {},
   "outputs": [],
   "source": [
    "gap_data %>% filter(year==2007) %>% group_by(continent) %>% summarise(mean_lifeExp=mean(lifeExp))"
   ]
  },
  {
   "cell_type": "code",
   "execution_count": null,
   "id": "f332100f",
   "metadata": {},
   "outputs": [],
   "source": [
    "gap_asia_2007= gap_data %>% filter(year==2007,continent=='Asia') #subset our data to Asia in 2007"
   ]
  },
  {
   "cell_type": "markdown",
   "id": "55ff6950",
   "metadata": {},
   "source": [
    "H0: Life Expectancy in 2007 is the same as in 1977 (mean=59.6) <br>\n",
    "H1: Life Expectancy in 2007 is not the same as in 1977 (mean!=59.6)\n",
    "\n",
    "This is a two tailed test which we will conduct at the 5% level"
   ]
  },
  {
   "cell_type": "code",
   "execution_count": null,
   "id": "739d8e4d",
   "metadata": {},
   "outputs": [],
   "source": [
    "t.test(gap_asia_2007$lifeExp,mu=59.6) "
   ]
  },
  {
   "cell_type": "markdown",
   "id": "6c5187a2",
   "metadata": {},
   "source": [
    "The values to pick out are the p-value (less than 0.05 so we have sufficient evidence to reject the null hypothesis in favour of the alternate) and the 95% confidence interval which states we are 95% confident that the true mean life expectancy for Asia in 2007 is between 67.9 and 73.6. As the 1977 average of 59.6 does not fall in this range we have further evidence we should reject the null hypothesis."
   ]
  },
  {
   "cell_type": "markdown",
   "id": "238018ec",
   "metadata": {},
   "source": [
    "However, this was a two tailed test. We can amend our code for it to be one tailed.\n",
    "\n",
    "e.g. H1: Life Expectancy in 2007 is greater than that in 1977 (mean>59.6)"
   ]
  },
  {
   "cell_type": "code",
   "execution_count": null,
   "id": "66768644",
   "metadata": {},
   "outputs": [],
   "source": [
    "t.test(gap_asia_2007$lifeExp,mu=59.6,alternative='greater')"
   ]
  },
  {
   "cell_type": "markdown",
   "id": "4a55fd6f",
   "metadata": {},
   "source": [
    "There are many other tests available in R to consider for hypothesis testing. This is an area where R has a clear advantage of Python as these tests are already built in."
   ]
  },
  {
   "cell_type": "markdown",
   "id": "2148b130",
   "metadata": {},
   "source": [
    "<hr>"
   ]
  },
  {
   "cell_type": "markdown",
   "id": "6c1216c5",
   "metadata": {},
   "source": [
    "<a id=\"rstudio\"></a> \n",
    "<div class='image' style='position:relative;width:100%;height:60%'>\n",
    "    <img src=\"Assets/section.PNG\" >\n",
    "    <h2 style ='color:#f4f4f4; font-size: 60px; font-weight:bold; position:absolute; top:150px; left:200px; width:90%'> R Studio </h2>\n",
    "</div>\n",
    "\n"
   ]
  },
  {
   "cell_type": "markdown",
   "id": "212a3590",
   "metadata": {},
   "source": [
    "[Top](#outline)\n",
    "<img src=\"./Assets/Session_2/rlogo.PNG\" > <br>\n",
    "    \n",
    "Up to this point we have been using Jupyter Notebook to code in R, but this is not the industry standard. Most companies tend to use a GUI like RStudio. For your portfolio you are welcome to keep using Jupyter but if you would like you can download RStudio from <a href=' https://rstudio.com/products/rstudio/download/'> here </a>. \n",
    "    \n",
    "While the GUI is different, the syntax is the exact same. Everything you have learned today can be typed the same way in RStudio. <br>\n",
    "    \n",
    "<img src=\"./Assets/Session_2/rsgui.PNG\" >"
   ]
  },
  {
   "cell_type": "markdown",
   "id": "2d6c5792",
   "metadata": {},
   "source": [
    "<hr>"
   ]
  },
  {
   "cell_type": "markdown",
   "id": "11bcf797",
   "metadata": {},
   "source": [
    "<a id=\"recap\"></a> \n",
    "<div class='image' style='position:relative;width:100%;height:60%'>\n",
    "    <img src=\"Assets/section.PNG\" >\n",
    "    <h2 style ='color:#f4f4f4; font-size: 60px; font-weight:bold; position:absolute; top:150px; left:200px; width:90%'> Recap </h2>\n",
    "</div>\n"
   ]
  },
  {
   "cell_type": "markdown",
   "id": "cc3ed12d",
   "metadata": {},
   "source": [
    "\n",
    "\n",
    "[Top](#outline)"
   ]
  },
  {
   "cell_type": "markdown",
   "id": "0fcd7896",
   "metadata": {},
   "source": [
    "## Learning Objectives\n",
    "\n",
    "- Understand the Basics of R\n",
    "- Compare and Contrast the funcitons of R with Python\n",
    "- Utilise R to perform Data Analytics"
   ]
  }
 ],
 "metadata": {
  "kernelspec": {
   "display_name": "R",
   "language": "R",
   "name": "ir"
  },
  "language_info": {
   "codemirror_mode": "r",
   "file_extension": ".r",
   "mimetype": "text/x-r-source",
   "name": "R",
   "pygments_lexer": "r",
   "version": "3.6.1"
  },
  "toc": {
   "base_numbering": 1,
   "nav_menu": {},
   "number_sections": true,
   "sideBar": true,
   "skip_h1_title": false,
   "title_cell": "Table of Contents",
   "title_sidebar": "Contents",
   "toc_cell": false,
   "toc_position": {},
   "toc_section_display": true,
   "toc_window_display": false
  }
 },
 "nbformat": 4,
 "nbformat_minor": 5
}
