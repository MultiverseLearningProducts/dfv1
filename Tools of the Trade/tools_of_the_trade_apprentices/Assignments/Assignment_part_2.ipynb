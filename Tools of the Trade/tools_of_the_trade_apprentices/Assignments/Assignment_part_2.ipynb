{
 "cells": [
  {
   "cell_type": "markdown",
   "id": "deadly-malaysia",
   "metadata": {},
   "source": [
    "<img src=\"../Assets/Header.PNG\" style=\"width: 1000px; height: 100px\">\n",
    "\n"
   ]
  },
  {
   "cell_type": "markdown",
   "id": "residential-christopher",
   "metadata": {},
   "source": [
    "# Assignment\n",
    "\n",
    "In this module you have been shown how to perform statistical analysis in the language R. Much of the concepts we covered in python, it is just the syntax that has changed. To embed these skills you will be using the prebuilt in Iris dataset, a common tutorial dataset for building logistic regression models. Each record in the dataset is a different iris (flower) and you are told what species it is as well as different aspects of the plant. \n",
    "\n",
    "The tasks will give a basic overview of EDA in R, but feel free to research other techniques to enhance your knowledge."
   ]
  },
  {
   "cell_type": "code",
   "execution_count": null,
   "id": "arabic-instrument",
   "metadata": {},
   "outputs": [],
   "source": [
    "library(tidyverse)"
   ]
  },
  {
   "cell_type": "markdown",
   "id": "straight-jurisdiction",
   "metadata": {},
   "source": [
    "# 1) Investigate the data by checking the head, tail and calculating the summary statistics. \n",
    "\n",
    "(The data is already built in, just type `iris` to call it)"
   ]
  },
  {
   "cell_type": "code",
   "execution_count": null,
   "id": "mineral-clark",
   "metadata": {},
   "outputs": [],
   "source": [
    "# A:"
   ]
  },
  {
   "cell_type": "markdown",
   "id": "continuing-arkansas",
   "metadata": {},
   "source": [
    "# 2) Calculate the average petal length for each species"
   ]
  },
  {
   "cell_type": "code",
   "execution_count": null,
   "id": "close-lancaster",
   "metadata": {},
   "outputs": [],
   "source": [
    "#A: "
   ]
  },
  {
   "cell_type": "markdown",
   "id": "sensitive-communication",
   "metadata": {},
   "source": [
    "# 3) What is the difference in average sepal width for plants with petal width greater than or equal to 1.5 and those with less?"
   ]
  },
  {
   "cell_type": "code",
   "execution_count": null,
   "id": "prompt-procurement",
   "metadata": {},
   "outputs": [],
   "source": [
    "# A:"
   ]
  },
  {
   "cell_type": "markdown",
   "id": "considered-newcastle",
   "metadata": {},
   "source": [
    "# 4) Investigate the relationship between a plants Sepal and Petal width, is this relationship the same for each species?"
   ]
  },
  {
   "cell_type": "code",
   "execution_count": null,
   "id": "adapted-editing",
   "metadata": {},
   "outputs": [],
   "source": [
    "# A:"
   ]
  },
  {
   "cell_type": "markdown",
   "id": "respiratory-joyce",
   "metadata": {},
   "source": [
    "# 5) For each species of iris compare the distributions of petal lengths and sepal lengths"
   ]
  },
  {
   "cell_type": "code",
   "execution_count": null,
   "id": "attended-nurse",
   "metadata": {},
   "outputs": [],
   "source": [
    "# A:"
   ]
  },
  {
   "cell_type": "markdown",
   "id": "interior-million",
   "metadata": {},
   "source": [
    "# 6) The following block runs a pairplot for the iris data, what are your interpretations of the output?\n",
    "\n",
    "In particular consider how the information from this visualisation will influence your building of a logistic regression model."
   ]
  },
  {
   "cell_type": "code",
   "execution_count": null,
   "id": "egyptian-episode",
   "metadata": {},
   "outputs": [],
   "source": [
    "pairs(iris[1:4], \n",
    "      main = \"Anderson's Iris Data -- 3 species\",\n",
    "      pch = 21, \n",
    "      bg = c(\"#1b9e77\", \"#d95f02\", \"#7570b3\")[unclass(iris$Species)])"
   ]
  },
  {
   "cell_type": "markdown",
   "id": "exclusive-steam",
   "metadata": {},
   "source": [
    "There is a clear distinction between the green and the rest. From what we know already, setosa has the smallest average petal size so therefore green is setosa. If I wanted to build a logistic regression model, I believe I could build one which predicts if it is setosa or not to a high degree of accuracy"
   ]
  },
  {
   "cell_type": "markdown",
   "id": "deluxe-portrait",
   "metadata": {},
   "source": [
    "# 7) Build a logistic regression model to predict if a species of iris is `setosa` or not\n",
    "\n",
    "Hint: you will need to create a new column first"
   ]
  },
  {
   "cell_type": "code",
   "execution_count": null,
   "id": "universal-faith",
   "metadata": {},
   "outputs": [],
   "source": [
    "# A:"
   ]
  },
  {
   "cell_type": "markdown",
   "id": "spare-bennett",
   "metadata": {},
   "source": [
    "# 8) Which features are most useful for predicting if an iris is a setosa?"
   ]
  },
  {
   "cell_type": "code",
   "execution_count": null,
   "id": "sapphire-joyce",
   "metadata": {},
   "outputs": [],
   "source": [
    "# A:"
   ]
  },
  {
   "cell_type": "markdown",
   "id": "handled-clerk",
   "metadata": {},
   "source": [
    "# 9) Stretch: Research how to perform train test split in R. \n",
    "\n",
    "Build your model with the training data and evaluate it using the test data."
   ]
  },
  {
   "cell_type": "code",
   "execution_count": null,
   "id": "serious-smart",
   "metadata": {},
   "outputs": [],
   "source": [
    "# A:"
   ]
  }
 ],
 "metadata": {
  "kernelspec": {
   "display_name": "R",
   "language": "R",
   "name": "ir"
  },
  "language_info": {
   "codemirror_mode": "r",
   "file_extension": ".r",
   "mimetype": "text/x-r-source",
   "name": "R",
   "pygments_lexer": "r",
   "version": "3.6.1"
  }
 },
 "nbformat": 4,
 "nbformat_minor": 5
}
