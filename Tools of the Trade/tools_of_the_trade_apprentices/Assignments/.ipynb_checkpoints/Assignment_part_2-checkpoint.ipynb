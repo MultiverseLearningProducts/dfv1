{
 "cells": [
  {
   "cell_type": "markdown",
   "id": "deadly-malaysia",
   "metadata": {},
   "source": [
    "<img src=\"../Assets/Header.PNG\" style=\"width: 1000px; height: 100px\">\n",
    "\n"
   ]
  },
  {
   "cell_type": "markdown",
   "id": "residential-christopher",
   "metadata": {},
   "source": [
    "# Assignment\n",
    "\n",
    "In this module you have been shown how to perform statistical analysis in the language R. Much of the concepts we covered in python, it is just the syntax that has changed. To embed these skills you will be using the prebuilt in Iris dataset, a common tutorial dataset for building logistic regression models. Each record in the dataset is a different iris (flower) and you are told what species it is as well as different aspects of the plant. \n",
    "\n",
    "The tasks will give a basic overview of EDA in R, but feel free to research other techniques to enhance your knowledge."
   ]
  },
  {
   "cell_type": "code",
   "execution_count": null,
   "id": "arabic-instrument",
   "metadata": {},
   "outputs": [],
   "source": [
    "library(tidyverse)"
   ]
  },
  {
   "cell_type": "markdown",
   "id": "straight-jurisdiction",
   "metadata": {},
   "source": [
    "# 1) Investigate the data by checking the head, tail and calculating the summary statistics. \n",
    "\n",
    "(The data is already built in, just type `iris` to call it)"
   ]
  },
  {
   "cell_type": "code",
   "execution_count": 2,
   "id": "authorized-sight",
   "metadata": {},
   "outputs": [
    {
     "data": {
      "text/html": [
       "<table>\n",
       "<thead><tr><th scope=col>speed</th><th scope=col>dist</th></tr></thead>\n",
       "<tbody>\n",
       "\t<tr><td> 4 </td><td>  2</td></tr>\n",
       "\t<tr><td> 4 </td><td> 10</td></tr>\n",
       "\t<tr><td> 7 </td><td>  4</td></tr>\n",
       "\t<tr><td> 7 </td><td> 22</td></tr>\n",
       "\t<tr><td> 8 </td><td> 16</td></tr>\n",
       "\t<tr><td> 9 </td><td> 10</td></tr>\n",
       "\t<tr><td>10 </td><td> 18</td></tr>\n",
       "\t<tr><td>10 </td><td> 26</td></tr>\n",
       "\t<tr><td>10 </td><td> 34</td></tr>\n",
       "\t<tr><td>11 </td><td> 17</td></tr>\n",
       "\t<tr><td>11 </td><td> 28</td></tr>\n",
       "\t<tr><td>12 </td><td> 14</td></tr>\n",
       "\t<tr><td>12 </td><td> 20</td></tr>\n",
       "\t<tr><td>12 </td><td> 24</td></tr>\n",
       "\t<tr><td>12 </td><td> 28</td></tr>\n",
       "\t<tr><td>13 </td><td> 26</td></tr>\n",
       "\t<tr><td>13 </td><td> 34</td></tr>\n",
       "\t<tr><td>13 </td><td> 34</td></tr>\n",
       "\t<tr><td>13 </td><td> 46</td></tr>\n",
       "\t<tr><td>14 </td><td> 26</td></tr>\n",
       "\t<tr><td>14 </td><td> 36</td></tr>\n",
       "\t<tr><td>14 </td><td> 60</td></tr>\n",
       "\t<tr><td>14 </td><td> 80</td></tr>\n",
       "\t<tr><td>15 </td><td> 20</td></tr>\n",
       "\t<tr><td>15 </td><td> 26</td></tr>\n",
       "\t<tr><td>15 </td><td> 54</td></tr>\n",
       "\t<tr><td>16 </td><td> 32</td></tr>\n",
       "\t<tr><td>16 </td><td> 40</td></tr>\n",
       "\t<tr><td>17 </td><td> 32</td></tr>\n",
       "\t<tr><td>17 </td><td> 40</td></tr>\n",
       "\t<tr><td>17 </td><td> 50</td></tr>\n",
       "\t<tr><td>18 </td><td> 42</td></tr>\n",
       "\t<tr><td>18 </td><td> 56</td></tr>\n",
       "\t<tr><td>18 </td><td> 76</td></tr>\n",
       "\t<tr><td>18 </td><td> 84</td></tr>\n",
       "\t<tr><td>19 </td><td> 36</td></tr>\n",
       "\t<tr><td>19 </td><td> 46</td></tr>\n",
       "\t<tr><td>19 </td><td> 68</td></tr>\n",
       "\t<tr><td>20 </td><td> 32</td></tr>\n",
       "\t<tr><td>20 </td><td> 48</td></tr>\n",
       "\t<tr><td>20 </td><td> 52</td></tr>\n",
       "\t<tr><td>20 </td><td> 56</td></tr>\n",
       "\t<tr><td>20 </td><td> 64</td></tr>\n",
       "\t<tr><td>22 </td><td> 66</td></tr>\n",
       "\t<tr><td>23 </td><td> 54</td></tr>\n",
       "\t<tr><td>24 </td><td> 70</td></tr>\n",
       "\t<tr><td>24 </td><td> 92</td></tr>\n",
       "\t<tr><td>24 </td><td> 93</td></tr>\n",
       "\t<tr><td>24 </td><td>120</td></tr>\n",
       "\t<tr><td>25 </td><td> 85</td></tr>\n",
       "</tbody>\n",
       "</table>\n"
      ],
      "text/latex": [
       "\\begin{tabular}{r|ll}\n",
       " speed & dist\\\\\n",
       "\\hline\n",
       "\t  4  &   2\\\\\n",
       "\t  4  &  10\\\\\n",
       "\t  7  &   4\\\\\n",
       "\t  7  &  22\\\\\n",
       "\t  8  &  16\\\\\n",
       "\t  9  &  10\\\\\n",
       "\t 10  &  18\\\\\n",
       "\t 10  &  26\\\\\n",
       "\t 10  &  34\\\\\n",
       "\t 11  &  17\\\\\n",
       "\t 11  &  28\\\\\n",
       "\t 12  &  14\\\\\n",
       "\t 12  &  20\\\\\n",
       "\t 12  &  24\\\\\n",
       "\t 12  &  28\\\\\n",
       "\t 13  &  26\\\\\n",
       "\t 13  &  34\\\\\n",
       "\t 13  &  34\\\\\n",
       "\t 13  &  46\\\\\n",
       "\t 14  &  26\\\\\n",
       "\t 14  &  36\\\\\n",
       "\t 14  &  60\\\\\n",
       "\t 14  &  80\\\\\n",
       "\t 15  &  20\\\\\n",
       "\t 15  &  26\\\\\n",
       "\t 15  &  54\\\\\n",
       "\t 16  &  32\\\\\n",
       "\t 16  &  40\\\\\n",
       "\t 17  &  32\\\\\n",
       "\t 17  &  40\\\\\n",
       "\t 17  &  50\\\\\n",
       "\t 18  &  42\\\\\n",
       "\t 18  &  56\\\\\n",
       "\t 18  &  76\\\\\n",
       "\t 18  &  84\\\\\n",
       "\t 19  &  36\\\\\n",
       "\t 19  &  46\\\\\n",
       "\t 19  &  68\\\\\n",
       "\t 20  &  32\\\\\n",
       "\t 20  &  48\\\\\n",
       "\t 20  &  52\\\\\n",
       "\t 20  &  56\\\\\n",
       "\t 20  &  64\\\\\n",
       "\t 22  &  66\\\\\n",
       "\t 23  &  54\\\\\n",
       "\t 24  &  70\\\\\n",
       "\t 24  &  92\\\\\n",
       "\t 24  &  93\\\\\n",
       "\t 24  & 120\\\\\n",
       "\t 25  &  85\\\\\n",
       "\\end{tabular}\n"
      ],
      "text/markdown": [
       "\n",
       "| speed | dist |\n",
       "|---|---|\n",
       "|  4  |   2 |\n",
       "|  4  |  10 |\n",
       "|  7  |   4 |\n",
       "|  7  |  22 |\n",
       "|  8  |  16 |\n",
       "|  9  |  10 |\n",
       "| 10  |  18 |\n",
       "| 10  |  26 |\n",
       "| 10  |  34 |\n",
       "| 11  |  17 |\n",
       "| 11  |  28 |\n",
       "| 12  |  14 |\n",
       "| 12  |  20 |\n",
       "| 12  |  24 |\n",
       "| 12  |  28 |\n",
       "| 13  |  26 |\n",
       "| 13  |  34 |\n",
       "| 13  |  34 |\n",
       "| 13  |  46 |\n",
       "| 14  |  26 |\n",
       "| 14  |  36 |\n",
       "| 14  |  60 |\n",
       "| 14  |  80 |\n",
       "| 15  |  20 |\n",
       "| 15  |  26 |\n",
       "| 15  |  54 |\n",
       "| 16  |  32 |\n",
       "| 16  |  40 |\n",
       "| 17  |  32 |\n",
       "| 17  |  40 |\n",
       "| 17  |  50 |\n",
       "| 18  |  42 |\n",
       "| 18  |  56 |\n",
       "| 18  |  76 |\n",
       "| 18  |  84 |\n",
       "| 19  |  36 |\n",
       "| 19  |  46 |\n",
       "| 19  |  68 |\n",
       "| 20  |  32 |\n",
       "| 20  |  48 |\n",
       "| 20  |  52 |\n",
       "| 20  |  56 |\n",
       "| 20  |  64 |\n",
       "| 22  |  66 |\n",
       "| 23  |  54 |\n",
       "| 24  |  70 |\n",
       "| 24  |  92 |\n",
       "| 24  |  93 |\n",
       "| 24  | 120 |\n",
       "| 25  |  85 |\n",
       "\n"
      ],
      "text/plain": [
       "   speed dist\n",
       "1   4      2 \n",
       "2   4     10 \n",
       "3   7      4 \n",
       "4   7     22 \n",
       "5   8     16 \n",
       "6   9     10 \n",
       "7  10     18 \n",
       "8  10     26 \n",
       "9  10     34 \n",
       "10 11     17 \n",
       "11 11     28 \n",
       "12 12     14 \n",
       "13 12     20 \n",
       "14 12     24 \n",
       "15 12     28 \n",
       "16 13     26 \n",
       "17 13     34 \n",
       "18 13     34 \n",
       "19 13     46 \n",
       "20 14     26 \n",
       "21 14     36 \n",
       "22 14     60 \n",
       "23 14     80 \n",
       "24 15     20 \n",
       "25 15     26 \n",
       "26 15     54 \n",
       "27 16     32 \n",
       "28 16     40 \n",
       "29 17     32 \n",
       "30 17     40 \n",
       "31 17     50 \n",
       "32 18     42 \n",
       "33 18     56 \n",
       "34 18     76 \n",
       "35 18     84 \n",
       "36 19     36 \n",
       "37 19     46 \n",
       "38 19     68 \n",
       "39 20     32 \n",
       "40 20     48 \n",
       "41 20     52 \n",
       "42 20     56 \n",
       "43 20     64 \n",
       "44 22     66 \n",
       "45 23     54 \n",
       "46 24     70 \n",
       "47 24     92 \n",
       "48 24     93 \n",
       "49 24    120 \n",
       "50 25     85 "
      ]
     },
     "metadata": {},
     "output_type": "display_data"
    }
   ],
   "source": [
    "cars"
   ]
  },
  {
   "cell_type": "code",
   "execution_count": null,
   "id": "mineral-clark",
   "metadata": {},
   "outputs": [],
   "source": [
    "# A:"
   ]
  },
  {
   "cell_type": "markdown",
   "id": "continuing-arkansas",
   "metadata": {},
   "source": [
    "# 2) Calculate the average petal length for each species"
   ]
  },
  {
   "cell_type": "code",
   "execution_count": null,
   "id": "close-lancaster",
   "metadata": {},
   "outputs": [],
   "source": [
    "#A: "
   ]
  },
  {
   "cell_type": "markdown",
   "id": "sensitive-communication",
   "metadata": {},
   "source": [
    "# 3) What is the difference in average sepal width for plants with petal width greater than or equal to 1.5 and those with less?"
   ]
  },
  {
   "cell_type": "code",
   "execution_count": null,
   "id": "prompt-procurement",
   "metadata": {},
   "outputs": [],
   "source": [
    "# A:"
   ]
  },
  {
   "cell_type": "markdown",
   "id": "considered-newcastle",
   "metadata": {},
   "source": [
    "# 4) Investigate the relationship between a plants Sepal and Petal width, is this relationship the same for each species?"
   ]
  },
  {
   "cell_type": "code",
   "execution_count": null,
   "id": "adapted-editing",
   "metadata": {},
   "outputs": [],
   "source": [
    "# A:"
   ]
  },
  {
   "cell_type": "markdown",
   "id": "respiratory-joyce",
   "metadata": {},
   "source": [
    "# 5) For each species of iris compare the distributions of petal lengths and sepal lengths"
   ]
  },
  {
   "cell_type": "code",
   "execution_count": null,
   "id": "attended-nurse",
   "metadata": {},
   "outputs": [],
   "source": [
    "# A:"
   ]
  },
  {
   "cell_type": "markdown",
   "id": "interior-million",
   "metadata": {},
   "source": [
    "# 6) The following block runs a pairplot for the iris data, what are your interpretations of the output?\n",
    "\n",
    "In particular consider how the information from this visualisation will influence your building of a logistic regression model."
   ]
  },
  {
   "cell_type": "code",
   "execution_count": null,
   "id": "egyptian-episode",
   "metadata": {},
   "outputs": [],
   "source": [
    "pairs(iris[1:4], \n",
    "      main = \"Anderson's Iris Data -- 3 species\",\n",
    "      pch = 21, \n",
    "      bg = c(\"#1b9e77\", \"#d95f02\", \"#7570b3\")[unclass(iris$Species)])"
   ]
  },
  {
   "cell_type": "markdown",
   "id": "exclusive-steam",
   "metadata": {},
   "source": [
    "There is a clear distinction between the green and the rest. From what we know already, setosa has the smallest average petal size so therefore green is setosa. If I wanted to build a logistic regression model, I believe I could build one which predicts if it is setosa or not to a high degree of accuracy"
   ]
  },
  {
   "cell_type": "markdown",
   "id": "deluxe-portrait",
   "metadata": {},
   "source": [
    "# 7) Build a logistic regression model to predict if a species of iris is `setosa` or not\n",
    "\n",
    "Hint: you will need to create a new column first"
   ]
  },
  {
   "cell_type": "code",
   "execution_count": null,
   "id": "universal-faith",
   "metadata": {},
   "outputs": [],
   "source": [
    "# A:"
   ]
  },
  {
   "cell_type": "markdown",
   "id": "spare-bennett",
   "metadata": {},
   "source": [
    "# 8) Which features are most useful for predicting if an iris is a setosa?"
   ]
  },
  {
   "cell_type": "code",
   "execution_count": null,
   "id": "sapphire-joyce",
   "metadata": {},
   "outputs": [],
   "source": [
    "# A:"
   ]
  },
  {
   "cell_type": "markdown",
   "id": "handled-clerk",
   "metadata": {},
   "source": [
    "# 9) Stretch: Research how to perform train test split in R. \n",
    "\n",
    "Build your model with the training data and evaluate it using the test data."
   ]
  },
  {
   "cell_type": "code",
   "execution_count": null,
   "id": "serious-smart",
   "metadata": {},
   "outputs": [],
   "source": [
    "# A:"
   ]
  }
 ],
 "metadata": {
  "kernelspec": {
   "display_name": "R",
   "language": "R",
   "name": "ir"
  },
  "language_info": {
   "codemirror_mode": "r",
   "file_extension": ".r",
   "mimetype": "text/x-r-source",
   "name": "R",
   "pygments_lexer": "r",
   "version": "3.6.1"
  }
 },
 "nbformat": 4,
 "nbformat_minor": 5
}
