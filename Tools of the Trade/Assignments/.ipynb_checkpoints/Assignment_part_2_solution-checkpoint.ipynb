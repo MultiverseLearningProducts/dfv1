{
 "cells": [
  {
   "cell_type": "markdown",
   "id": "deadly-malaysia",
   "metadata": {},
   "source": [
    "<img src=\"../Assets/Header.PNG\" style=\"width: 1000px; height: 100px\">\n",
    "\n"
   ]
  },
  {
   "cell_type": "markdown",
   "id": "residential-christopher",
   "metadata": {},
   "source": [
    "# Assignment\n",
    "\n",
    "In this module you have been shown how to perform statistical analysis in the language R. Much of the concepts we covered in python, it is just the syntax that has changed. To embed these skills you will be using the prebuilt in Iris dataset, a common tutorial dataset for building logistic regression models. Each record in the dataset is a different iris (flower) and you are told what species it is as well as different aspects of the plant. \n",
    "\n",
    "The tasks will give a basic overview of EDA in R, but feel free to research other techniques to enhance your knowledge."
   ]
  },
  {
   "cell_type": "code",
   "execution_count": 1,
   "id": "arabic-instrument",
   "metadata": {},
   "outputs": [
    {
     "name": "stderr",
     "output_type": "stream",
     "text": [
      "Warning message:\n",
      "\"package 'tidyverse' was built under R version 3.6.3\"-- Attaching packages ------------------------------------------------------------------------------- tidyverse 1.3.0 --\n",
      "v ggplot2 3.3.3     v purrr   0.3.4\n",
      "v tibble  3.0.6     v dplyr   1.0.4\n",
      "v tidyr   1.1.2     v stringr 1.4.0\n",
      "v readr   1.3.1     v forcats 0.4.0\n",
      "Warning message:\n",
      "\"package 'ggplot2' was built under R version 3.6.3\"Warning message:\n",
      "\"package 'tibble' was built under R version 3.6.3\"Warning message:\n",
      "\"package 'tidyr' was built under R version 3.6.3\"Warning message:\n",
      "\"package 'purrr' was built under R version 3.6.3\"Warning message:\n",
      "\"package 'dplyr' was built under R version 3.6.3\"-- Conflicts ---------------------------------------------------------------------------------- tidyverse_conflicts() --\n",
      "x dplyr::filter() masks stats::filter()\n",
      "x dplyr::lag()    masks stats::lag()\n"
     ]
    }
   ],
   "source": [
    "library(tidyverse)"
   ]
  },
  {
   "cell_type": "markdown",
   "id": "straight-jurisdiction",
   "metadata": {},
   "source": [
    "# 1) Investigate the data by checking the head, tail and calculating the summary statistics. \n",
    "\n",
    "(The data is already built in, just type `iris` to call it)"
   ]
  },
  {
   "cell_type": "code",
   "execution_count": 2,
   "id": "another-supervisor",
   "metadata": {},
   "outputs": [
    {
     "data": {
      "text/html": [
       "<table>\n",
       "<thead><tr><th scope=col>Sepal.Length</th><th scope=col>Sepal.Width</th><th scope=col>Petal.Length</th><th scope=col>Petal.Width</th><th scope=col>Species</th></tr></thead>\n",
       "<tbody>\n",
       "\t<tr><td>5.1   </td><td>3.5   </td><td>1.4   </td><td>0.2   </td><td>setosa</td></tr>\n",
       "\t<tr><td>4.9   </td><td>3.0   </td><td>1.4   </td><td>0.2   </td><td>setosa</td></tr>\n",
       "\t<tr><td>4.7   </td><td>3.2   </td><td>1.3   </td><td>0.2   </td><td>setosa</td></tr>\n",
       "\t<tr><td>4.6   </td><td>3.1   </td><td>1.5   </td><td>0.2   </td><td>setosa</td></tr>\n",
       "\t<tr><td>5.0   </td><td>3.6   </td><td>1.4   </td><td>0.2   </td><td>setosa</td></tr>\n",
       "\t<tr><td>5.4   </td><td>3.9   </td><td>1.7   </td><td>0.4   </td><td>setosa</td></tr>\n",
       "</tbody>\n",
       "</table>\n"
      ],
      "text/latex": [
       "\\begin{tabular}{r|lllll}\n",
       " Sepal.Length & Sepal.Width & Petal.Length & Petal.Width & Species\\\\\n",
       "\\hline\n",
       "\t 5.1    & 3.5    & 1.4    & 0.2    & setosa\\\\\n",
       "\t 4.9    & 3.0    & 1.4    & 0.2    & setosa\\\\\n",
       "\t 4.7    & 3.2    & 1.3    & 0.2    & setosa\\\\\n",
       "\t 4.6    & 3.1    & 1.5    & 0.2    & setosa\\\\\n",
       "\t 5.0    & 3.6    & 1.4    & 0.2    & setosa\\\\\n",
       "\t 5.4    & 3.9    & 1.7    & 0.4    & setosa\\\\\n",
       "\\end{tabular}\n"
      ],
      "text/markdown": [
       "\n",
       "| Sepal.Length | Sepal.Width | Petal.Length | Petal.Width | Species |\n",
       "|---|---|---|---|---|\n",
       "| 5.1    | 3.5    | 1.4    | 0.2    | setosa |\n",
       "| 4.9    | 3.0    | 1.4    | 0.2    | setosa |\n",
       "| 4.7    | 3.2    | 1.3    | 0.2    | setosa |\n",
       "| 4.6    | 3.1    | 1.5    | 0.2    | setosa |\n",
       "| 5.0    | 3.6    | 1.4    | 0.2    | setosa |\n",
       "| 5.4    | 3.9    | 1.7    | 0.4    | setosa |\n",
       "\n"
      ],
      "text/plain": [
       "  Sepal.Length Sepal.Width Petal.Length Petal.Width Species\n",
       "1 5.1          3.5         1.4          0.2         setosa \n",
       "2 4.9          3.0         1.4          0.2         setosa \n",
       "3 4.7          3.2         1.3          0.2         setosa \n",
       "4 4.6          3.1         1.5          0.2         setosa \n",
       "5 5.0          3.6         1.4          0.2         setosa \n",
       "6 5.4          3.9         1.7          0.4         setosa "
      ]
     },
     "metadata": {},
     "output_type": "display_data"
    }
   ],
   "source": [
    "head(iris)"
   ]
  },
  {
   "cell_type": "code",
   "execution_count": 3,
   "id": "cosmetic-paris",
   "metadata": {},
   "outputs": [
    {
     "data": {
      "text/html": [
       "<table>\n",
       "<thead><tr><th></th><th scope=col>Sepal.Length</th><th scope=col>Sepal.Width</th><th scope=col>Petal.Length</th><th scope=col>Petal.Width</th><th scope=col>Species</th></tr></thead>\n",
       "<tbody>\n",
       "\t<tr><th scope=row>145</th><td>6.7      </td><td>3.3      </td><td>5.7      </td><td>2.5      </td><td>virginica</td></tr>\n",
       "\t<tr><th scope=row>146</th><td>6.7      </td><td>3.0      </td><td>5.2      </td><td>2.3      </td><td>virginica</td></tr>\n",
       "\t<tr><th scope=row>147</th><td>6.3      </td><td>2.5      </td><td>5.0      </td><td>1.9      </td><td>virginica</td></tr>\n",
       "\t<tr><th scope=row>148</th><td>6.5      </td><td>3.0      </td><td>5.2      </td><td>2.0      </td><td>virginica</td></tr>\n",
       "\t<tr><th scope=row>149</th><td>6.2      </td><td>3.4      </td><td>5.4      </td><td>2.3      </td><td>virginica</td></tr>\n",
       "\t<tr><th scope=row>150</th><td>5.9      </td><td>3.0      </td><td>5.1      </td><td>1.8      </td><td>virginica</td></tr>\n",
       "</tbody>\n",
       "</table>\n"
      ],
      "text/latex": [
       "\\begin{tabular}{r|lllll}\n",
       "  & Sepal.Length & Sepal.Width & Petal.Length & Petal.Width & Species\\\\\n",
       "\\hline\n",
       "\t145 & 6.7       & 3.3       & 5.7       & 2.5       & virginica\\\\\n",
       "\t146 & 6.7       & 3.0       & 5.2       & 2.3       & virginica\\\\\n",
       "\t147 & 6.3       & 2.5       & 5.0       & 1.9       & virginica\\\\\n",
       "\t148 & 6.5       & 3.0       & 5.2       & 2.0       & virginica\\\\\n",
       "\t149 & 6.2       & 3.4       & 5.4       & 2.3       & virginica\\\\\n",
       "\t150 & 5.9       & 3.0       & 5.1       & 1.8       & virginica\\\\\n",
       "\\end{tabular}\n"
      ],
      "text/markdown": [
       "\n",
       "| <!--/--> | Sepal.Length | Sepal.Width | Petal.Length | Petal.Width | Species |\n",
       "|---|---|---|---|---|---|\n",
       "| 145 | 6.7       | 3.3       | 5.7       | 2.5       | virginica |\n",
       "| 146 | 6.7       | 3.0       | 5.2       | 2.3       | virginica |\n",
       "| 147 | 6.3       | 2.5       | 5.0       | 1.9       | virginica |\n",
       "| 148 | 6.5       | 3.0       | 5.2       | 2.0       | virginica |\n",
       "| 149 | 6.2       | 3.4       | 5.4       | 2.3       | virginica |\n",
       "| 150 | 5.9       | 3.0       | 5.1       | 1.8       | virginica |\n",
       "\n"
      ],
      "text/plain": [
       "    Sepal.Length Sepal.Width Petal.Length Petal.Width Species  \n",
       "145 6.7          3.3         5.7          2.5         virginica\n",
       "146 6.7          3.0         5.2          2.3         virginica\n",
       "147 6.3          2.5         5.0          1.9         virginica\n",
       "148 6.5          3.0         5.2          2.0         virginica\n",
       "149 6.2          3.4         5.4          2.3         virginica\n",
       "150 5.9          3.0         5.1          1.8         virginica"
      ]
     },
     "metadata": {},
     "output_type": "display_data"
    }
   ],
   "source": [
    "tail(iris)"
   ]
  },
  {
   "cell_type": "code",
   "execution_count": 4,
   "id": "mineral-clark",
   "metadata": {},
   "outputs": [
    {
     "data": {
      "text/plain": [
       "  Sepal.Length    Sepal.Width     Petal.Length    Petal.Width   \n",
       " Min.   :4.300   Min.   :2.000   Min.   :1.000   Min.   :0.100  \n",
       " 1st Qu.:5.100   1st Qu.:2.800   1st Qu.:1.600   1st Qu.:0.300  \n",
       " Median :5.800   Median :3.000   Median :4.350   Median :1.300  \n",
       " Mean   :5.843   Mean   :3.057   Mean   :3.758   Mean   :1.199  \n",
       " 3rd Qu.:6.400   3rd Qu.:3.300   3rd Qu.:5.100   3rd Qu.:1.800  \n",
       " Max.   :7.900   Max.   :4.400   Max.   :6.900   Max.   :2.500  \n",
       "       Species  \n",
       " setosa    :50  \n",
       " versicolor:50  \n",
       " virginica :50  \n",
       "                \n",
       "                \n",
       "                "
      ]
     },
     "metadata": {},
     "output_type": "display_data"
    }
   ],
   "source": [
    "summary(iris)"
   ]
  },
  {
   "cell_type": "markdown",
   "id": "continuing-arkansas",
   "metadata": {},
   "source": [
    "# 2) Calculate the average petal length for each species"
   ]
  },
  {
   "cell_type": "code",
   "execution_count": 5,
   "id": "close-lancaster",
   "metadata": {},
   "outputs": [
    {
     "data": {
      "text/html": [
       "<table>\n",
       "<thead><tr><th scope=col>Species</th><th scope=col>Av.Petal.Width</th></tr></thead>\n",
       "<tbody>\n",
       "\t<tr><td>setosa    </td><td>0.246     </td></tr>\n",
       "\t<tr><td>versicolor</td><td>1.326     </td></tr>\n",
       "\t<tr><td>virginica </td><td>2.026     </td></tr>\n",
       "</tbody>\n",
       "</table>\n"
      ],
      "text/latex": [
       "\\begin{tabular}{r|ll}\n",
       " Species & Av.Petal.Width\\\\\n",
       "\\hline\n",
       "\t setosa     & 0.246     \\\\\n",
       "\t versicolor & 1.326     \\\\\n",
       "\t virginica  & 2.026     \\\\\n",
       "\\end{tabular}\n"
      ],
      "text/markdown": [
       "\n",
       "| Species | Av.Petal.Width |\n",
       "|---|---|\n",
       "| setosa     | 0.246      |\n",
       "| versicolor | 1.326      |\n",
       "| virginica  | 2.026      |\n",
       "\n"
      ],
      "text/plain": [
       "  Species    Av.Petal.Width\n",
       "1 setosa     0.246         \n",
       "2 versicolor 1.326         \n",
       "3 virginica  2.026         "
      ]
     },
     "metadata": {},
     "output_type": "display_data"
    }
   ],
   "source": [
    "iris %>% group_by(Species) %>%summarise('Av.Petal.Width'=mean(Petal.Width))"
   ]
  },
  {
   "cell_type": "markdown",
   "id": "sensitive-communication",
   "metadata": {},
   "source": [
    "# 3) What is the difference in average sepal width for plants with petal width greater than or equal to 1.5 and those with less?"
   ]
  },
  {
   "cell_type": "code",
   "execution_count": 6,
   "id": "prompt-procurement",
   "metadata": {},
   "outputs": [
    {
     "data": {
      "text/html": [
       "<table>\n",
       "<thead><tr><th scope=col>Petal.Width.Greater</th><th scope=col>Av.Sepal.Width</th></tr></thead>\n",
       "<tbody>\n",
       "\t<tr><td>0       </td><td>3.117442</td></tr>\n",
       "\t<tr><td>1       </td><td>2.976562</td></tr>\n",
       "</tbody>\n",
       "</table>\n"
      ],
      "text/latex": [
       "\\begin{tabular}{r|ll}\n",
       " Petal.Width.Greater & Av.Sepal.Width\\\\\n",
       "\\hline\n",
       "\t 0        & 3.117442\\\\\n",
       "\t 1        & 2.976562\\\\\n",
       "\\end{tabular}\n"
      ],
      "text/markdown": [
       "\n",
       "| Petal.Width.Greater | Av.Sepal.Width |\n",
       "|---|---|\n",
       "| 0        | 3.117442 |\n",
       "| 1        | 2.976562 |\n",
       "\n"
      ],
      "text/plain": [
       "  Petal.Width.Greater Av.Sepal.Width\n",
       "1 0                   3.117442      \n",
       "2 1                   2.976562      "
      ]
     },
     "metadata": {},
     "output_type": "display_data"
    }
   ],
   "source": [
    "iris %>% mutate(Petal.Width.Greater = ifelse(Petal.Width>=1.5,1,0)) %>% group_by(Petal.Width.Greater) %>% \n",
    "summarise('Av.Sepal.Width'=mean(Sepal.Width))"
   ]
  },
  {
   "cell_type": "markdown",
   "id": "considered-newcastle",
   "metadata": {},
   "source": [
    "# 4) Investigate the relationship between a plants Sepal and Petal width, is this relationship the same for each species?"
   ]
  },
  {
   "cell_type": "code",
   "execution_count": 7,
   "id": "adapted-editing",
   "metadata": {},
   "outputs": [
    {
     "data": {
      "image/png": "[encoded data removed]",
      "text/plain": [
       "plot without title"
      ]
     },
     "metadata": {},
     "output_type": "display_data"
    }
   ],
   "source": [
    "ggplot(data=iris, aes(x=Petal.Width,\n",
    "                     y=Sepal.Width, \n",
    "                     color=Species)) + \n",
    "              geom_point()"
   ]
  },
  {
   "cell_type": "markdown",
   "id": "respiratory-joyce",
   "metadata": {},
   "source": [
    "# 5) For each species of iris compare the distributions of petal lengths and sepal lengths"
   ]
  },
  {
   "cell_type": "code",
   "execution_count": 8,
   "id": "attended-nurse",
   "metadata": {},
   "outputs": [
    {
     "data": {
      "image/png": "[encoded data removed]",
      "text/plain": [
       "plot without title"
      ]
     },
     "metadata": {},
     "output_type": "display_data"
    }
   ],
   "source": [
    "ggplot(iris, aes(x=Petal.Length)) +\n",
    "              geom_boxplot() +\n",
    "              facet_wrap(vars(Species),ncol=2)"
   ]
  },
  {
   "cell_type": "code",
   "execution_count": 9,
   "id": "respected-consumption",
   "metadata": {},
   "outputs": [
    {
     "data": {
      "image/png": "[encoded data removed]",
      "text/plain": [
       "plot without title"
      ]
     },
     "metadata": {},
     "output_type": "display_data"
    }
   ],
   "source": [
    "ggplot(iris, aes(x=Petal.Width)) +\n",
    "              geom_boxplot() +\n",
    "              facet_wrap(vars(Species),ncol=2)"
   ]
  },
  {
   "cell_type": "markdown",
   "id": "interior-million",
   "metadata": {},
   "source": [
    "# 6) The following block runs a pairplot for the iris data, what are your interpretations of the output?\n",
    "\n",
    "In particular consider how the information from this visualisation will influence your building of a logistic regression model."
   ]
  },
  {
   "cell_type": "code",
   "execution_count": 10,
   "id": "egyptian-episode",
   "metadata": {},
   "outputs": [
    {
     "data": {
      "image/png": "[encoded data removed]",
      "text/plain": [
       "plot without title"
      ]
     },
     "metadata": {},
     "output_type": "display_data"
    }
   ],
   "source": [
    "pairs(iris[1:4], \n",
    "      main = \"Anderson's Iris Data -- 3 species\",\n",
    "      pch = 21, \n",
    "      bg = c(\"#1b9e77\", \"#d95f02\", \"#7570b3\")[unclass(iris$Species)])"
   ]
  },
  {
   "cell_type": "markdown",
   "id": "exclusive-steam",
   "metadata": {},
   "source": [
    "There is a clear distinction between the green and the rest. From what we know already, setosa has the smallest average petal size so therefore green is setosa. If I wanted to build a logistic regression model, I believe I could build one which predicts if it is setosa or not to a high degree of accuracy"
   ]
  },
  {
   "cell_type": "markdown",
   "id": "deluxe-portrait",
   "metadata": {},
   "source": [
    "# 7) Build a logistic regression model to predict if a species of iris is `setosa` or not\n",
    "\n",
    "Hint: you will need to create a new column first"
   ]
  },
  {
   "cell_type": "code",
   "execution_count": 11,
   "id": "right-banking",
   "metadata": {},
   "outputs": [],
   "source": [
    "iris_logit <- iris %>% mutate('is_setosa'=ifelse(Species=='setosa',1,0))"
   ]
  },
  {
   "cell_type": "code",
   "execution_count": 12,
   "id": "universal-faith",
   "metadata": {},
   "outputs": [],
   "source": [
    "logit_model <-glm(is_setosa~Petal.Length + Petal.Width + Sepal.Length + Sepal.Width, data=iris_logit)"
   ]
  },
  {
   "cell_type": "markdown",
   "id": "spare-bennett",
   "metadata": {},
   "source": [
    "# 8) Which features are most useful for predicting if an iris is a setosa?"
   ]
  },
  {
   "cell_type": "code",
   "execution_count": 13,
   "id": "sapphire-joyce",
   "metadata": {},
   "outputs": [
    {
     "data": {
      "text/plain": [
       "\n",
       "Call:\n",
       "glm(formula = is_setosa ~ Petal.Length + Petal.Width + Sepal.Length + \n",
       "    Sepal.Width, data = iris_logit)\n",
       "\n",
       "Deviance Residuals: \n",
       "     Min        1Q    Median        3Q       Max  \n",
       "-0.32490  -0.11283   0.01205   0.10140   0.42426  \n",
       "\n",
       "Coefficients:\n",
       "             Estimate Std. Error t value Pr(>|t|)    \n",
       "(Intercept)   0.11822    0.13597   0.869   0.3860    \n",
       "Petal.Length -0.22466    0.03774  -5.953 1.89e-08 ***\n",
       "Petal.Width  -0.05747    0.06270  -0.917   0.3608    \n",
       "Sepal.Length  0.06603    0.03826   1.726   0.0865 .  \n",
       "Sepal.Width   0.24285    0.03962   6.129 7.92e-09 ***\n",
       "---\n",
       "Signif. codes:  0 '***' 0.001 '**' 0.01 '*' 0.05 '.' 0.1 ' ' 1\n",
       "\n",
       "(Dispersion parameter for gaussian family taken to be 0.02115054)\n",
       "\n",
       "    Null deviance: 33.3333  on 149  degrees of freedom\n",
       "Residual deviance:  3.0668  on 145  degrees of freedom\n",
       "AIC: -145.82\n",
       "\n",
       "Number of Fisher Scoring iterations: 2\n"
      ]
     },
     "metadata": {},
     "output_type": "display_data"
    }
   ],
   "source": [
    "summary(logit_model)"
   ]
  },
  {
   "cell_type": "markdown",
   "id": "handled-clerk",
   "metadata": {},
   "source": [
    "# 9) Stretch: Research how to perform train test split in R. \n",
    "\n",
    "Build your model with the training data and evaluate it using the test data."
   ]
  },
  {
   "cell_type": "code",
   "execution_count": 14,
   "id": "cardiovascular-suite",
   "metadata": {},
   "outputs": [],
   "source": [
    "set.seed(100) #setting seed to reproduce results of random sampling\n",
    "trainingRowIndex <- sample(1:nrow(iris), 0.7*nrow(iris)) #row indices for training\n",
    "trainingData <- iris_logit[trainingRowIndex,] #Create train set\n",
    "testData <- iris_logit[-trainingRowIndex,] #Create test set"
   ]
  },
  {
   "cell_type": "code",
   "execution_count": 15,
   "id": "wireless-display",
   "metadata": {},
   "outputs": [],
   "source": [
    "logit_model_2 <-glm(is_setosa~Petal.Length + Petal.Width + Sepal.Length + Sepal.Width, data=trainingData) #build model"
   ]
  },
  {
   "cell_type": "code",
   "execution_count": 16,
   "id": "electoral-genealogy",
   "metadata": {},
   "outputs": [],
   "source": [
    "preds <- predict(logit_model_2,testData) #to build confusion matrix will need to make vector of predictions"
   ]
  },
  {
   "cell_type": "code",
   "execution_count": null,
   "id": "polyphonic-triangle",
   "metadata": {},
   "outputs": [],
   "source": [
    "install.packages('caret', dependencies = TRUE) #to build a confusion matrix we will need caret and e1071 packages"
   ]
  },
  {
   "cell_type": "code",
   "execution_count": 17,
   "id": "interstate-capitol",
   "metadata": {},
   "outputs": [
    {
     "name": "stderr",
     "output_type": "stream",
     "text": [
      "Loading required package: lattice\n",
      "\n",
      "Attaching package: 'caret'\n",
      "\n",
      "The following object is masked from 'package:purrr':\n",
      "\n",
      "    lift\n",
      "\n",
      "Warning message:\n",
      "\"package 'e1071' was built under R version 3.6.3\""
     ]
    }
   ],
   "source": [
    "library(caret)\n",
    "library(e1071)"
   ]
  },
  {
   "cell_type": "code",
   "execution_count": 18,
   "id": "czech-aerospace",
   "metadata": {},
   "outputs": [
    {
     "data": {
      "text/plain": [
       "Confusion Matrix and Statistics\n",
       "\n",
       "          Reference\n",
       "Prediction  0  1\n",
       "         0 31  0\n",
       "         1  0 14\n",
       "                                     \n",
       "               Accuracy : 1          \n",
       "                 95% CI : (0.9213, 1)\n",
       "    No Information Rate : 0.6889     \n",
       "    P-Value [Acc > NIR] : 5.209e-08  \n",
       "                                     \n",
       "                  Kappa : 1          \n",
       "                                     \n",
       " Mcnemar's Test P-Value : NA         \n",
       "                                     \n",
       "            Sensitivity : 1.0000     \n",
       "            Specificity : 1.0000     \n",
       "         Pos Pred Value : 1.0000     \n",
       "         Neg Pred Value : 1.0000     \n",
       "             Prevalence : 0.6889     \n",
       "         Detection Rate : 0.6889     \n",
       "   Detection Prevalence : 0.6889     \n",
       "      Balanced Accuracy : 1.0000     \n",
       "                                     \n",
       "       'Positive' Class : 0          \n",
       "                                     "
      ]
     },
     "metadata": {},
     "output_type": "display_data"
    }
   ],
   "source": [
    "confusionMatrix(factor(round(preds)),factor(testData['is_setosa'][1:nrow(testData),]))"
   ]
  },
  {
   "cell_type": "code",
   "execution_count": null,
   "id": "serious-smart",
   "metadata": {},
   "outputs": [],
   "source": []
  }
 ],
 "metadata": {
  "kernelspec": {
   "display_name": "R",
   "language": "R",
   "name": "ir"
  },
  "language_info": {
   "codemirror_mode": "r",
   "file_extension": ".r",
   "mimetype": "text/x-r-source",
   "name": "R",
   "pygments_lexer": "r",
   "version": "3.6.1"
  }
 },
 "nbformat": 4,
 "nbformat_minor": 5
}
